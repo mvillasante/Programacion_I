{
 "cells": [
  {
   "cell_type": "markdown",
   "metadata": {},
   "source": [
    "En este notebook vamos a ver una breve introducción a los métodos numéricos. Uno de los primeros problemas que nos podemos encontrar en el cómputo científico es el cálculo numérico de **raíces de funciones**, **derivadas numéricas** y **métodos de integración**.\n",
    "\n",
    "Empezemos por el principio:\n",
    "\n",
    "# El método de Newton\n",
    "\n",
    "El método de Newton (también llamado algoritmo de Newton-Raphson) constituye un numérico iterativo para encontrar raíces de una función $f$. \n",
    "\n",
    "Requiere a saber la **derivada** $f'$,  pero a cambio suele funcionar mucho mejor. Derivaremos e implementaremos el método en este notebook. Por el momento, supondremos que el usuario provea también la derivada analítica de la función $f$, como otro argumento `df`; posteriormente, veremos cómo calcular derivadas numéricamente.\n",
    "\n",
    "#### Ejercicio 1 \n",
    "\n",
    "Considera una función $f: \\mathbb{R} \\to \\mathbb{R}$.\n",
    "Supón que $x_0$ es una adivinanza inicial de una raíz, y que $x^*$ es la raíz exacta pero \n",
    "desconocida. Sigue los siguientes pasos para derivar el método de Newton.\n",
    "\n",
    "(i) Supón que $x_0$ es suficientemente cercana a $x^*$. Define $\\delta$ como la distancia (con signo) de $x^*$ desde $x_0$. "
   ]
  },
  {
   "cell_type": "markdown",
   "metadata": {},
   "source": [
    "$$\\delta = x^*-x_0 $$"
   ]
  },
  {
   "cell_type": "markdown",
   "metadata": {},
   "source": [
    "(ii) Escribe la ecuación que corresponde a que $x^*$ sea una raíz de la función, y exprésala en términos de $\\delta$. \n",
    "\n",
    "Si es raíz debe cumplir\n",
    "\n",
    "$$f(x^*)=0$$"
   ]
  },
  {
   "cell_type": "markdown",
   "metadata": {},
   "source": [
    "(iii) Desarrolla esta ecuación en una serie de Taylor a primer orden alrededor de $x_0$, para encontrar un valor aproximado de $\\delta$.\n",
    "\n",
    "$$f(x_0)+f'(x_0)\\delta \\approx 0$$"
   ]
  },
  {
   "cell_type": "markdown",
   "metadata": {},
   "source": [
    "$$\\delta = -\\frac{f(x_0)}{f'(x_0)}$$"
   ]
  },
  {
   "cell_type": "markdown",
   "metadata": {},
   "source": [
    "Una primera aproximación a la raíz es $x_1 = x_0 +\\delta$\n",
    "\n",
    "$$x_1 = x_0 -  \\frac{f(x_0)}{f'(x_0)} $$\n",
    "\n",
    "(v) Por lo tanto, dada una adivinanza, podemos obtener otra que esperemos esté mejor (más cerca a la raíz). Escribe la misma ecuación que obtuviste en (iv), pero ahora para $x_{n+1}$ en términos de $x_n$. Esto es la regla general para el método de Newton.\n",
    "\n",
    "Podremos hacer este método ver que la aproximación *n-ésima* nos la podemos usar para encontrar el siguiente término\n",
    "\n",
    "$$ x_{n+1} = x_n - \\frac{f(x_n)}{f'(x_n)}$$\n",
    "\n",
    "#### Ejercicio 2\n",
    "(i) Escribe una función que implementa el método de Newton. Puedes suponer que el usuario provea tanto la función `f` como su derivada `df` como argumentos a la función `newton`, así como la condición inicial `x0`. [Posteriormente veremos cómo calcular derivadas con la computadora.] [NB: Si prefieres, puedes utilizar `f′` como nombre de la derivada, al teclear `f\\prime<TAB>`. *No* se puede utilizar el apóstrofe aquí.]"
   ]
  },
  {
   "cell_type": "code",
   "execution_count": 27,
   "metadata": {},
   "outputs": [
    {
     "data": {
      "text/plain": [
       "newton (generic function with 1 method)"
      ]
     },
     "execution_count": 27,
     "metadata": {},
     "output_type": "execute_result"
    }
   ],
   "source": [
    "function newton(f,f′,x_0,n_pasos)\n",
    "    x_vieja = x_0\n",
    "    x_nueva = 100\n",
    "    for i in 1:n_pasos\n",
    "        x_nueva = x_vieja - f(x_vieja)/f′(x_nueva)\n",
    "        if i != n_pasos\n",
    "            x_vieja = x_nueva\n",
    "        end\n",
    "    end\n",
    "#    @show x_nueva, f(x_nueva)  ### solamente para corroborar \n",
    "    return x_nueva, x_vieja\n",
    "end"
   ]
  },
  {
   "cell_type": "code",
   "execution_count": 16,
   "metadata": {},
   "outputs": [
    {
     "name": "stdout",
     "output_type": "stream",
     "text": [
      "(x_nueva, f(x_nueva)) = (1.0000000002546297, 1.0703969708083347e-48)\n"
     ]
    },
    {
     "data": {
      "text/plain": [
       "1.0000000002546297"
      ]
     },
     "execution_count": 16,
     "metadata": {},
     "output_type": "execute_result"
    }
   ],
   "source": [
    "g(x) = (x-1)^5\n",
    "dg(x) = 5(x-1)^4\n",
    "x_inicial = 2\n",
    "pasos = 100\n",
    "newton(g,dg,x_inicial,pasos)"
   ]
  },
  {
   "cell_type": "code",
   "execution_count": 20,
   "metadata": {},
   "outputs": [
    {
     "data": {
      "text/plain": [
       "Plots.GRBackend()"
      ]
     },
     "execution_count": 20,
     "metadata": {},
     "output_type": "execute_result"
    }
   ],
   "source": [
    "using Interact, Plots\n",
    "gr()"
   ]
  },
  {
   "cell_type": "code",
   "execution_count": 22,
   "metadata": {},
   "outputs": [
    {
     "data": {
      "text/plain": [
       "63-element Array{Float64,1}:\n",
       "  0.0                \n",
       "  0.09983341664682815\n",
       "  0.19866933079506122\n",
       "  0.2955202066613396 \n",
       "  0.3894183423086505 \n",
       "  0.479425538604203  \n",
       "  0.5646424733950355 \n",
       "  0.6442176872376911 \n",
       "  0.7173560908995228 \n",
       "  0.7833269096274834 \n",
       "  0.8414709848078965 \n",
       "  0.8912073600614354 \n",
       "  0.9320390859672264 \n",
       "  ⋮                  \n",
       " -0.9258146823277321 \n",
       " -0.8834546557201531 \n",
       " -0.8322674422239008 \n",
       " -0.7727644875559871 \n",
       " -0.7055403255703919 \n",
       " -0.6312666378723208 \n",
       " -0.5506855425976376 \n",
       " -0.4646021794137566 \n",
       " -0.373876664830236  \n",
       " -0.27941549819892586\n",
       " -0.18216250427209502\n",
       " -0.0830894028174964 "
      ]
     },
     "execution_count": 22,
     "metadata": {},
     "output_type": "execute_result"
    }
   ],
   "source": [
    "δ = 0.1\n",
    "A = 1\n",
    "xs=0:δ:2*pi\n",
    "[sin(x) for x in xs]"
   ]
  },
  {
   "cell_type": "code",
   "execution_count": 26,
   "metadata": {},
   "outputs": [
    {
     "data": {
      "application/vnd.webio.node+json": {
       "children": [
        {
         "children": [
          {
           "children": [
            {
             "children": [
              {
               "children": [
                {
                 "children": [
                  "ω"
                 ],
                 "instanceArgs": {
                  "namespace": "html",
                  "tag": "label"
                 },
                 "nodeType": "DOM",
                 "props": {
                  "className": "interact ",
                  "style": {
                   "padding": "5px 10px 0px 10px"
                  }
                 },
                 "type": "node"
                }
               ],
               "instanceArgs": {
                "namespace": "html",
                "tag": "div"
               },
               "nodeType": "DOM",
               "props": {
                "className": "interact-flex-row-left"
               },
               "type": "node"
              },
              {
               "children": [
                {
                 "children": [],
                 "instanceArgs": {
                  "namespace": "html",
                  "tag": "input"
                 },
                 "nodeType": "DOM",
                 "props": {
                  "attributes": {
                   "data-bind": "numericValue: index, valueUpdate: 'input', event: {change: function (){this.changes(this.changes()+1)}}",
                   "orient": "horizontal",
                   "type": "range"
                  },
                  "className": "slider slider is-fullwidth",
                  "max": 63,
                  "min": 1,
                  "step": 1,
                  "style": {}
                 },
                 "type": "node"
                }
               ],
               "instanceArgs": {
                "namespace": "html",
                "tag": "div"
               },
               "nodeType": "DOM",
               "props": {
                "className": "interact-flex-row-center"
               },
               "type": "node"
              },
              {
               "children": [
                {
                 "children": [],
                 "instanceArgs": {
                  "namespace": "html",
                  "tag": "p"
                 },
                 "nodeType": "DOM",
                 "props": {
                  "attributes": {
                   "data-bind": "text: formatted_val"
                  }
                 },
                 "type": "node"
                }
               ],
               "instanceArgs": {
                "namespace": "html",
                "tag": "div"
               },
               "nodeType": "DOM",
               "props": {
                "className": "interact-flex-row-right"
               },
               "type": "node"
              }
             ],
             "instanceArgs": {
              "namespace": "html",
              "tag": "div"
             },
             "nodeType": "DOM",
             "props": {
              "className": "interact-flex-row interact-widget"
             },
             "type": "node"
            }
           ],
           "instanceArgs": {
            "handlers": {
             "changes": [
              "(function (val){return (val!=this.model[\"changes\"]()) ? (this.valueFromJulia[\"changes\"]=true, this.model[\"changes\"](val)) : undefined})"
             ],
             "index": [
              "(function (val){return (val!=this.model[\"index\"]()) ? (this.valueFromJulia[\"index\"]=true, this.model[\"index\"](val)) : undefined})"
             ]
            },
            "id": "17274770748184890256",
            "imports": {
             "data": [
              {
               "name": "knockout",
               "type": "js",
               "url": "/assetserver/35f4d43e2555ad8a88ae9591d04e823cacc03091-knockout.js"
              },
              {
               "name": "knockout_punches",
               "type": "js",
               "url": "/assetserver/212cb19a1a73d7bf5eaf1488add347ceb95dcc99-knockout_punches.js"
              },
              {
               "name": null,
               "type": "js",
               "url": "/assetserver/e1bb4630ca71ac3ffa8d6829f92a4606757b4d51-all.js"
              },
              {
               "name": null,
               "type": "css",
               "url": "/assetserver/104f757bcab7611333aa355119747185c1f822ef-style.css"
              },
              {
               "name": null,
               "type": "css",
               "url": "/assetserver/e89867c5e417d47e9fb5dede3dbfe9f8bed959b8-bulma_confined.min.css"
              }
             ],
             "type": "async_block"
            },
            "mount_callbacks": [
             "function () {\n    var handler = (function (ko, koPunches) {\n    ko.punches.enableAll();\n    ko.bindingHandlers.numericValue = {\n        init: function(element, valueAccessor, allBindings, data, context) {\n            var stringified = ko.observable(ko.unwrap(valueAccessor()));\n            stringified.subscribe(function(value) {\n                var val = parseFloat(value);\n                if (!isNaN(val)) {\n                    valueAccessor()(val);\n                }\n            });\n            valueAccessor().subscribe(function(value) {\n                var str = JSON.stringify(value);\n                if ((str == \"0\") && ([\"-0\", \"-0.\"].indexOf(stringified()) >= 0))\n                     return;\n                 if ([\"null\", \"\"].indexOf(str) >= 0)\n                     return;\n                stringified(str);\n            });\n            ko.applyBindingsToNode(\n                element,\n                {\n                    value: stringified,\n                    valueUpdate: allBindings.get('valueUpdate'),\n                },\n                context,\n            );\n        }\n    };\n    var json_data = {\"formatted_vals\":[\"0.0\",\"0.1\",\"0.2\",\"0.3\",\"0.4\",\"0.5\",\"0.6\",\"0.7\",\"0.8\",\"0.9\",\"1.0\",\"1.1\",\"1.2\",\"1.3\",\"1.4\",\"1.5\",\"1.6\",\"1.7\",\"1.8\",\"1.9\",\"2.0\",\"2.1\",\"2.2\",\"2.3\",\"2.4\",\"2.5\",\"2.6\",\"2.7\",\"2.8\",\"2.9\",\"3.0\",\"3.1\",\"3.2\",\"3.3\",\"3.4\",\"3.5\",\"3.6\",\"3.7\",\"3.8\",\"3.9\",\"4.0\",\"4.1\",\"4.2\",\"4.3\",\"4.4\",\"4.5\",\"4.6\",\"4.7\",\"4.8\",\"4.9\",\"5.0\",\"5.1\",\"5.2\",\"5.3\",\"5.4\",\"5.5\",\"5.6\",\"5.7\",\"5.8\",\"5.9\",\"6.0\",\"6.1\",\"6.2\"],\"changes\":WebIO.getval({\"name\":\"changes\",\"scope\":\"17274770748184890256\",\"id\":\"ob_36\",\"type\":\"observable\"}),\"index\":WebIO.getval({\"name\":\"index\",\"scope\":\"17274770748184890256\",\"id\":\"ob_35\",\"type\":\"observable\"})};\n    var self = this;\n    function AppViewModel() {\n        for (var key in json_data) {\n            var el = json_data[key];\n            this[key] = Array.isArray(el) ? ko.observableArray(el) : ko.observable(el);\n        }\n        \n        [this[\"formatted_val\"]=ko.computed(    function(){\n        return this.formatted_vals()[parseInt(this.index())-(1)];\n    }\n,this)]\n        [this[\"changes\"].subscribe((function (val){!(this.valueFromJulia[\"changes\"]) ? (WebIO.setval({\"name\":\"changes\",\"scope\":\"17274770748184890256\",\"id\":\"ob_36\",\"type\":\"observable\"},val)) : undefined; return this.valueFromJulia[\"changes\"]=false}),self),this[\"index\"].subscribe((function (val){!(this.valueFromJulia[\"index\"]) ? (WebIO.setval({\"name\":\"index\",\"scope\":\"17274770748184890256\",\"id\":\"ob_35\",\"type\":\"observable\"},val)) : undefined; return this.valueFromJulia[\"index\"]=false}),self)]\n        \n    }\n    self.model = new AppViewModel();\n    self.valueFromJulia = {};\n    for (var key in json_data) {\n        self.valueFromJulia[key] = false;\n    }\n    ko.applyBindings(self.model, self.dom);\n}\n);\n    (WebIO.importBlock({\"data\":[{\"name\":\"knockout\",\"type\":\"js\",\"url\":\"/assetserver/35f4d43e2555ad8a88ae9591d04e823cacc03091-knockout.js\"},{\"name\":\"knockout_punches\",\"type\":\"js\",\"url\":\"/assetserver/212cb19a1a73d7bf5eaf1488add347ceb95dcc99-knockout_punches.js\"}],\"type\":\"async_block\"})).then((imports) => handler.apply(this, imports));\n}\n"
            ],
            "observables": {
             "changes": {
              "id": "ob_36",
              "sync": false,
              "value": 0
             },
             "index": {
              "id": "ob_35",
              "sync": true,
              "value": 32
             }
            },
            "systemjs_options": null
           },
           "nodeType": "Scope",
           "props": {},
           "type": "node"
          }
         ],
         "instanceArgs": {
          "namespace": "html",
          "tag": "div"
         },
         "nodeType": "DOM",
         "props": {
          "className": "field interact-widget"
         },
         "type": "node"
        },
        {
         "children": [
          {
           "children": [
            {
             "children": [
              {
               "children": [
                {
                 "children": [
                  "A"
                 ],
                 "instanceArgs": {
                  "namespace": "html",
                  "tag": "label"
                 },
                 "nodeType": "DOM",
                 "props": {
                  "className": "interact ",
                  "style": {
                   "padding": "5px 10px 0px 10px"
                  }
                 },
                 "type": "node"
                }
               ],
               "instanceArgs": {
                "namespace": "html",
                "tag": "div"
               },
               "nodeType": "DOM",
               "props": {
                "className": "interact-flex-row-left"
               },
               "type": "node"
              },
              {
               "children": [
                {
                 "children": [],
                 "instanceArgs": {
                  "namespace": "html",
                  "tag": "input"
                 },
                 "nodeType": "DOM",
                 "props": {
                  "attributes": {
                   "data-bind": "numericValue: index, valueUpdate: 'input', event: {change: function (){this.changes(this.changes()+1)}}",
                   "orient": "horizontal",
                   "type": "range"
                  },
                  "className": "slider slider is-fullwidth",
                  "max": 10,
                  "min": 1,
                  "step": 1,
                  "style": {}
                 },
                 "type": "node"
                }
               ],
               "instanceArgs": {
                "namespace": "html",
                "tag": "div"
               },
               "nodeType": "DOM",
               "props": {
                "className": "interact-flex-row-center"
               },
               "type": "node"
              },
              {
               "children": [
                {
                 "children": [],
                 "instanceArgs": {
                  "namespace": "html",
                  "tag": "p"
                 },
                 "nodeType": "DOM",
                 "props": {
                  "attributes": {
                   "data-bind": "text: formatted_val"
                  }
                 },
                 "type": "node"
                }
               ],
               "instanceArgs": {
                "namespace": "html",
                "tag": "div"
               },
               "nodeType": "DOM",
               "props": {
                "className": "interact-flex-row-right"
               },
               "type": "node"
              }
             ],
             "instanceArgs": {
              "namespace": "html",
              "tag": "div"
             },
             "nodeType": "DOM",
             "props": {
              "className": "interact-flex-row interact-widget"
             },
             "type": "node"
            }
           ],
           "instanceArgs": {
            "handlers": {
             "changes": [
              "(function (val){return (val!=this.model[\"changes\"]()) ? (this.valueFromJulia[\"changes\"]=true, this.model[\"changes\"](val)) : undefined})"
             ],
             "index": [
              "(function (val){return (val!=this.model[\"index\"]()) ? (this.valueFromJulia[\"index\"]=true, this.model[\"index\"](val)) : undefined})"
             ]
            },
            "id": "415652460630173807",
            "imports": {
             "data": [
              {
               "name": "knockout",
               "type": "js",
               "url": "/assetserver/35f4d43e2555ad8a88ae9591d04e823cacc03091-knockout.js"
              },
              {
               "name": "knockout_punches",
               "type": "js",
               "url": "/assetserver/212cb19a1a73d7bf5eaf1488add347ceb95dcc99-knockout_punches.js"
              },
              {
               "name": null,
               "type": "js",
               "url": "/assetserver/e1bb4630ca71ac3ffa8d6829f92a4606757b4d51-all.js"
              },
              {
               "name": null,
               "type": "css",
               "url": "/assetserver/104f757bcab7611333aa355119747185c1f822ef-style.css"
              },
              {
               "name": null,
               "type": "css",
               "url": "/assetserver/e89867c5e417d47e9fb5dede3dbfe9f8bed959b8-bulma_confined.min.css"
              }
             ],
             "type": "async_block"
            },
            "mount_callbacks": [
             "function () {\n    var handler = (function (ko, koPunches) {\n    ko.punches.enableAll();\n    ko.bindingHandlers.numericValue = {\n        init: function(element, valueAccessor, allBindings, data, context) {\n            var stringified = ko.observable(ko.unwrap(valueAccessor()));\n            stringified.subscribe(function(value) {\n                var val = parseFloat(value);\n                if (!isNaN(val)) {\n                    valueAccessor()(val);\n                }\n            });\n            valueAccessor().subscribe(function(value) {\n                var str = JSON.stringify(value);\n                if ((str == \"0\") && ([\"-0\", \"-0.\"].indexOf(stringified()) >= 0))\n                     return;\n                 if ([\"null\", \"\"].indexOf(str) >= 0)\n                     return;\n                stringified(str);\n            });\n            ko.applyBindingsToNode(\n                element,\n                {\n                    value: stringified,\n                    valueUpdate: allBindings.get('valueUpdate'),\n                },\n                context,\n            );\n        }\n    };\n    var json_data = {\"formatted_vals\":[\"0.1\",\"0.2\",\"0.3\",\"0.4\",\"0.5\",\"0.6\",\"0.7\",\"0.8\",\"0.9\",\"1.0\"],\"changes\":WebIO.getval({\"name\":\"changes\",\"scope\":\"415652460630173807\",\"id\":\"ob_39\",\"type\":\"observable\"}),\"index\":WebIO.getval({\"name\":\"index\",\"scope\":\"415652460630173807\",\"id\":\"ob_38\",\"type\":\"observable\"})};\n    var self = this;\n    function AppViewModel() {\n        for (var key in json_data) {\n            var el = json_data[key];\n            this[key] = Array.isArray(el) ? ko.observableArray(el) : ko.observable(el);\n        }\n        \n        [this[\"formatted_val\"]=ko.computed(    function(){\n        return this.formatted_vals()[parseInt(this.index())-(1)];\n    }\n,this)]\n        [this[\"changes\"].subscribe((function (val){!(this.valueFromJulia[\"changes\"]) ? (WebIO.setval({\"name\":\"changes\",\"scope\":\"415652460630173807\",\"id\":\"ob_39\",\"type\":\"observable\"},val)) : undefined; return this.valueFromJulia[\"changes\"]=false}),self),this[\"index\"].subscribe((function (val){!(this.valueFromJulia[\"index\"]) ? (WebIO.setval({\"name\":\"index\",\"scope\":\"415652460630173807\",\"id\":\"ob_38\",\"type\":\"observable\"},val)) : undefined; return this.valueFromJulia[\"index\"]=false}),self)]\n        \n    }\n    self.model = new AppViewModel();\n    self.valueFromJulia = {};\n    for (var key in json_data) {\n        self.valueFromJulia[key] = false;\n    }\n    ko.applyBindings(self.model, self.dom);\n}\n);\n    (WebIO.importBlock({\"data\":[{\"name\":\"knockout\",\"type\":\"js\",\"url\":\"/assetserver/35f4d43e2555ad8a88ae9591d04e823cacc03091-knockout.js\"},{\"name\":\"knockout_punches\",\"type\":\"js\",\"url\":\"/assetserver/212cb19a1a73d7bf5eaf1488add347ceb95dcc99-knockout_punches.js\"}],\"type\":\"async_block\"})).then((imports) => handler.apply(this, imports));\n}\n"
            ],
            "observables": {
             "changes": {
              "id": "ob_39",
              "sync": false,
              "value": 0
             },
             "index": {
              "id": "ob_38",
              "sync": true,
              "value": 5
             }
            },
            "systemjs_options": null
           },
           "nodeType": "Scope",
           "props": {},
           "type": "node"
          }
         ],
         "instanceArgs": {
          "namespace": "html",
          "tag": "div"
         },
         "nodeType": "DOM",
         "props": {
          "className": "field interact-widget"
         },
         "type": "node"
        },
        {
         "children": [
          {
           "children": [],
           "instanceArgs": {
            "id": "ob_45",
            "name": "obs-node"
           },
           "nodeType": "ObservableNode",
           "props": {},
           "type": "node"
          }
         ],
         "instanceArgs": {
          "handlers": {},
          "id": "5293352969490174320",
          "imports": {
           "data": [],
           "type": "async_block"
          },
          "mount_callbacks": [],
          "observables": {
           "obs-node": {
            "id": "ob_45",
            "sync": false,
            "value": {
             "children": [
              {
               "children": [],
               "instanceArgs": {
                "namespace": "html",
                "tag": "div"
               },
               "nodeType": "DOM",
               "props": {
                "setInnerHtml": "<?xml version=\"1.0\" encoding=\"utf-8\"?>\n<svg xmlns=\"http://www.w3.org/2000/svg\" xmlns:xlink=\"http://www.w3.org/1999/xlink\" width=\"600\" height=\"400\" viewBox=\"0 0 2400 1600\">\n<defs>\n  <clipPath id=\"clip2400\">\n    <rect x=\"0\" y=\"0\" width=\"2400\" height=\"1600\"/>\n  </clipPath>\n</defs>\n<polygon clip-path=\"url(#clip2400)\" points=\"\n0,1600 2400,1600 2400,0 0,0 \n  \" fill=\"#ffffff\" fill-rule=\"evenodd\" fill-opacity=\"1\"/>\n<defs>\n  <clipPath id=\"clip2401\">\n    <rect x=\"480\" y=\"0\" width=\"1681\" height=\"1600\"/>\n  </clipPath>\n</defs>\n<polygon clip-path=\"url(#clip2400)\" points=\"\n189.504,1503.47 2321.26,1503.47 2321.26,125.984 189.504,125.984 \n  \" fill=\"#ffffff\" fill-rule=\"evenodd\" fill-opacity=\"1\"/>\n<defs>\n  <clipPath id=\"clip2402\">\n    <rect x=\"189\" y=\"125\" width=\"2133\" height=\"1378\"/>\n  </clipPath>\n</defs>\n<polyline clip-path=\"url(#clip2402)\" style=\"stroke:#000000; stroke-width:2; stroke-opacity:0.1; fill:none\" points=\"\n  249.837,1503.47 249.837,125.984 \n  \"/>\n<polyline clip-path=\"url(#clip2402)\" style=\"stroke:#000000; stroke-width:2; stroke-opacity:0.1; fill:none\" points=\"\n  574.206,1503.47 574.206,125.984 \n  \"/>\n<polyline clip-path=\"url(#clip2402)\" style=\"stroke:#000000; stroke-width:2; stroke-opacity:0.1; fill:none\" points=\"\n  898.576,1503.47 898.576,125.984 \n  \"/>\n<polyline clip-path=\"url(#clip2402)\" style=\"stroke:#000000; stroke-width:2; stroke-opacity:0.1; fill:none\" points=\"\n  1222.95,1503.47 1222.95,125.984 \n  \"/>\n<polyline clip-path=\"url(#clip2402)\" style=\"stroke:#000000; stroke-width:2; stroke-opacity:0.1; fill:none\" points=\"\n  1547.31,1503.47 1547.31,125.984 \n  \"/>\n<polyline clip-path=\"url(#clip2402)\" style=\"stroke:#000000; stroke-width:2; stroke-opacity:0.1; fill:none\" points=\"\n  1871.68,1503.47 1871.68,125.984 \n  \"/>\n<polyline clip-path=\"url(#clip2402)\" style=\"stroke:#000000; stroke-width:2; stroke-opacity:0.1; fill:none\" points=\"\n  2196.05,1503.47 2196.05,125.984 \n  \"/>\n<polyline clip-path=\"url(#clip2402)\" style=\"stroke:#000000; stroke-width:2; stroke-opacity:0.1; fill:none\" points=\"\n  189.504,1503.47 2321.26,1503.47 \n  \"/>\n<polyline clip-path=\"url(#clip2402)\" style=\"stroke:#000000; stroke-width:2; stroke-opacity:0.1; fill:none\" points=\"\n  189.504,1159.1 2321.26,1159.1 \n  \"/>\n<polyline clip-path=\"url(#clip2402)\" style=\"stroke:#000000; stroke-width:2; stroke-opacity:0.1; fill:none\" points=\"\n  189.504,814.729 2321.26,814.729 \n  \"/>\n<polyline clip-path=\"url(#clip2402)\" style=\"stroke:#000000; stroke-width:2; stroke-opacity:0.1; fill:none\" points=\"\n  189.504,470.357 2321.26,470.357 \n  \"/>\n<polyline clip-path=\"url(#clip2402)\" style=\"stroke:#000000; stroke-width:2; stroke-opacity:0.1; fill:none\" points=\"\n  189.504,125.984 2321.26,125.984 \n  \"/>\n<polyline clip-path=\"url(#clip2400)\" style=\"stroke:#000000; stroke-width:4; stroke-opacity:1; fill:none\" points=\"\n  189.504,1503.47 2321.26,1503.47 \n  \"/>\n<polyline clip-path=\"url(#clip2400)\" style=\"stroke:#000000; stroke-width:4; stroke-opacity:1; fill:none\" points=\"\n  189.504,1503.47 189.504,125.984 \n  \"/>\n<polyline clip-path=\"url(#clip2400)\" style=\"stroke:#000000; stroke-width:4; stroke-opacity:1; fill:none\" points=\"\n  249.837,1503.47 249.837,1482.81 \n  \"/>\n<polyline clip-path=\"url(#clip2400)\" style=\"stroke:#000000; stroke-width:4; stroke-opacity:1; fill:none\" points=\"\n  574.206,1503.47 574.206,1482.81 \n  \"/>\n<polyline clip-path=\"url(#clip2400)\" style=\"stroke:#000000; stroke-width:4; stroke-opacity:1; fill:none\" points=\"\n  898.576,1503.47 898.576,1482.81 \n  \"/>\n<polyline clip-path=\"url(#clip2400)\" style=\"stroke:#000000; stroke-width:4; stroke-opacity:1; fill:none\" points=\"\n  1222.95,1503.47 1222.95,1482.81 \n  \"/>\n<polyline clip-path=\"url(#clip2400)\" style=\"stroke:#000000; stroke-width:4; stroke-opacity:1; fill:none\" points=\"\n  1547.31,1503.47 1547.31,1482.81 \n  \"/>\n<polyline clip-path=\"url(#clip2400)\" style=\"stroke:#000000; stroke-width:4; stroke-opacity:1; fill:none\" points=\"\n  1871.68,1503.47 1871.68,1482.81 \n  \"/>\n<polyline clip-path=\"url(#clip2400)\" style=\"stroke:#000000; stroke-width:4; stroke-opacity:1; fill:none\" points=\"\n  2196.05,1503.47 2196.05,1482.81 \n  \"/>\n<polyline clip-path=\"url(#clip2400)\" style=\"stroke:#000000; stroke-width:4; stroke-opacity:1; fill:none\" points=\"\n  189.504,1503.47 221.48,1503.47 \n  \"/>\n<polyline clip-path=\"url(#clip2400)\" style=\"stroke:#000000; stroke-width:4; stroke-opacity:1; fill:none\" points=\"\n  189.504,1159.1 221.48,1159.1 \n  \"/>\n<polyline clip-path=\"url(#clip2400)\" style=\"stroke:#000000; stroke-width:4; stroke-opacity:1; fill:none\" points=\"\n  189.504,814.729 221.48,814.729 \n  \"/>\n<polyline clip-path=\"url(#clip2400)\" style=\"stroke:#000000; stroke-width:4; stroke-opacity:1; fill:none\" points=\"\n  189.504,470.357 221.48,470.357 \n  \"/>\n<polyline clip-path=\"url(#clip2400)\" style=\"stroke:#000000; stroke-width:4; stroke-opacity:1; fill:none\" points=\"\n  189.504,125.984 221.48,125.984 \n  \"/>\n<g clip-path=\"url(#clip2400)\">\n<text style=\"fill:#000000; fill-opacity:1; font-family:Arial,Helvetica Neue,Helvetica,sans-serif; font-size:48px; text-anchor:middle;\" transform=\"rotate(0, 249.837, 1557.47)\" x=\"249.837\" y=\"1557.47\">0</text>\n</g>\n<g clip-path=\"url(#clip2400)\">\n<text style=\"fill:#000000; fill-opacity:1; font-family:Arial,Helvetica Neue,Helvetica,sans-serif; font-size:48px; text-anchor:middle;\" transform=\"rotate(0, 574.206, 1557.47)\" x=\"574.206\" y=\"1557.47\">1</text>\n</g>\n<g clip-path=\"url(#clip2400)\">\n<text style=\"fill:#000000; fill-opacity:1; font-family:Arial,Helvetica Neue,Helvetica,sans-serif; font-size:48px; text-anchor:middle;\" transform=\"rotate(0, 898.576, 1557.47)\" x=\"898.576\" y=\"1557.47\">2</text>\n</g>\n<g clip-path=\"url(#clip2400)\">\n<text style=\"fill:#000000; fill-opacity:1; font-family:Arial,Helvetica Neue,Helvetica,sans-serif; font-size:48px; text-anchor:middle;\" transform=\"rotate(0, 1222.95, 1557.47)\" x=\"1222.95\" y=\"1557.47\">3</text>\n</g>\n<g clip-path=\"url(#clip2400)\">\n<text style=\"fill:#000000; fill-opacity:1; font-family:Arial,Helvetica Neue,Helvetica,sans-serif; font-size:48px; text-anchor:middle;\" transform=\"rotate(0, 1547.31, 1557.47)\" x=\"1547.31\" y=\"1557.47\">4</text>\n</g>\n<g clip-path=\"url(#clip2400)\">\n<text style=\"fill:#000000; fill-opacity:1; font-family:Arial,Helvetica Neue,Helvetica,sans-serif; font-size:48px; text-anchor:middle;\" transform=\"rotate(0, 1871.68, 1557.47)\" x=\"1871.68\" y=\"1557.47\">5</text>\n</g>\n<g clip-path=\"url(#clip2400)\">\n<text style=\"fill:#000000; fill-opacity:1; font-family:Arial,Helvetica Neue,Helvetica,sans-serif; font-size:48px; text-anchor:middle;\" transform=\"rotate(0, 2196.05, 1557.47)\" x=\"2196.05\" y=\"1557.47\">6</text>\n</g>\n<g clip-path=\"url(#clip2400)\">\n<text style=\"fill:#000000; fill-opacity:1; font-family:Arial,Helvetica Neue,Helvetica,sans-serif; font-size:48px; text-anchor:end;\" transform=\"rotate(0, 165.504, 1520.97)\" x=\"165.504\" y=\"1520.97\">-1.0</text>\n</g>\n<g clip-path=\"url(#clip2400)\">\n<text style=\"fill:#000000; fill-opacity:1; font-family:Arial,Helvetica Neue,Helvetica,sans-serif; font-size:48px; text-anchor:end;\" transform=\"rotate(0, 165.504, 1176.6)\" x=\"165.504\" y=\"1176.6\">-0.5</text>\n</g>\n<g clip-path=\"url(#clip2400)\">\n<text style=\"fill:#000000; fill-opacity:1; font-family:Arial,Helvetica Neue,Helvetica,sans-serif; font-size:48px; text-anchor:end;\" transform=\"rotate(0, 165.504, 832.229)\" x=\"165.504\" y=\"832.229\">0.0</text>\n</g>\n<g clip-path=\"url(#clip2400)\">\n<text style=\"fill:#000000; fill-opacity:1; font-family:Arial,Helvetica Neue,Helvetica,sans-serif; font-size:48px; text-anchor:end;\" transform=\"rotate(0, 165.504, 487.857)\" x=\"165.504\" y=\"487.857\">0.5</text>\n</g>\n<g clip-path=\"url(#clip2400)\">\n<text style=\"fill:#000000; fill-opacity:1; font-family:Arial,Helvetica Neue,Helvetica,sans-serif; font-size:48px; text-anchor:end;\" transform=\"rotate(0, 165.504, 143.484)\" x=\"165.504\" y=\"143.484\">1.0</text>\n</g>\n<g clip-path=\"url(#clip2400)\">\n<text style=\"fill:#000000; fill-opacity:1; font-family:Arial,Helvetica Neue,Helvetica,sans-serif; font-size:84px; text-anchor:middle;\" transform=\"rotate(0, 1255.38, 73.2)\" x=\"1255.38\" y=\"73.2\">Grafica interactiva</text>\n</g>\n<polyline clip-path=\"url(#clip2402)\" style=\"stroke:#009af9; stroke-width:4; stroke-opacity:1; fill:none\" points=\"\n  249.837,800.41 282.274,834.832 314.711,869.053 347.148,902.731 379.585,935.53 412.022,967.121 444.458,997.191 476.895,1025.44 509.332,1051.58 541.769,1075.35 \n  574.206,1096.52 606.643,1114.88 639.08,1130.23 671.517,1142.44 703.954,1151.36 736.391,1156.93 768.828,1159.08 801.265,1157.78 833.702,1153.06 866.139,1144.96 \n  898.576,1133.55 931.013,1118.97 963.45,1101.34 995.886,1080.85 1028.32,1057.7 1060.76,1032.12 1093.2,1004.37 1125.63,974.726 1158.07,943.482 1190.51,910.953 \n  1222.95,877.461 1255.38,843.343 1287.82,808.939 1320.26,774.593 1352.69,740.648 1385.13,707.443 1417.57,675.31 1450,644.57 1482.44,615.531 1514.88,588.481 \n  1547.31,563.693 1579.75,541.412 1612.19,521.862 1644.63,505.239 1677.06,491.708 1709.5,481.404 1741.94,474.431 1774.37,470.859 1806.81,470.721 1839.25,474.022 \n  1871.68,480.726 1904.12,490.768 1936.56,504.046 1968.99,520.429 2001.43,539.752 2033.87,561.823 2066.31,586.421 2098.74,613.3 2131.18,642.192 2163.62,672.807 \n  2196.05,704.841 2228.49,737.972 2260.93,771.871 \n  \"/>\n<polygon clip-path=\"url(#clip2400)\" points=\"\n1769.84,330.464 2249.26,330.464 2249.26,209.504 1769.84,209.504 \n  \" fill=\"#ffffff\" fill-rule=\"evenodd\" fill-opacity=\"1\"/>\n<polyline clip-path=\"url(#clip2400)\" style=\"stroke:#000000; stroke-width:4; stroke-opacity:1; fill:none\" points=\"\n  1769.84,330.464 2249.26,330.464 2249.26,209.504 1769.84,209.504 1769.84,330.464 \n  \"/>\n<polyline clip-path=\"url(#clip2400)\" style=\"stroke:#009af9; stroke-width:4; stroke-opacity:1; fill:none\" points=\"\n  1793.84,269.984 1937.84,269.984 \n  \"/>\n<g clip-path=\"url(#clip2400)\">\n<text style=\"fill:#000000; fill-opacity:1; font-family:Arial,Helvetica Neue,Helvetica,sans-serif; font-size:48px; text-anchor:start;\" transform=\"rotate(0, 1961.84, 287.484)\" x=\"1961.84\" y=\"287.484\">sin(x + 3.1)</text>\n</g>\n</svg>\n"
               },
               "type": "node"
              }
             ],
             "instanceArgs": {
              "namespace": "html",
              "tag": "div"
             },
             "nodeType": "DOM",
             "props": {
              "className": "interact-flex-row interact-widget"
             },
             "type": "node"
            }
           }
          },
          "systemjs_options": null
         },
         "nodeType": "Scope",
         "props": {},
         "type": "node"
        }
       ],
       "instanceArgs": {
        "namespace": "html",
        "tag": "div"
       },
       "nodeType": "DOM",
       "props": {},
       "type": "node"
      },
      "text/html": [
       "<div\n",
       "    class=\"webio-mountpoint\"\n",
       "    data-webio-mountpoint=\"13663141100308489637\"\n",
       ">\n",
       "    <script>\n",
       "    if (window.require && require.defined && require.defined(\"nbextensions/webio/main\")) {\n",
       "        console.log(\"Jupyter WebIO extension detected, not mounting.\");\n",
       "    } else if (window.WebIO) {\n",
       "        WebIO.mount(\n",
       "            document.querySelector('[data-webio-mountpoint=\"13663141100308489637\"]'),\n",
       "            {\"props\":{},\"nodeType\":\"DOM\",\"type\":\"node\",\"instanceArgs\":{\"namespace\":\"html\",\"tag\":\"div\"},\"children\":[{\"props\":{\"className\":\"field interact-widget\"},\"nodeType\":\"DOM\",\"type\":\"node\",\"instanceArgs\":{\"namespace\":\"html\",\"tag\":\"div\"},\"children\":[{\"props\":{},\"nodeType\":\"Scope\",\"type\":\"node\",\"instanceArgs\":{\"imports\":{\"data\":[{\"name\":\"knockout\",\"type\":\"js\",\"url\":\"\\/assetserver\\/35f4d43e2555ad8a88ae9591d04e823cacc03091-knockout.js\"},{\"name\":\"knockout_punches\",\"type\":\"js\",\"url\":\"\\/assetserver\\/212cb19a1a73d7bf5eaf1488add347ceb95dcc99-knockout_punches.js\"},{\"name\":null,\"type\":\"js\",\"url\":\"\\/assetserver\\/e1bb4630ca71ac3ffa8d6829f92a4606757b4d51-all.js\"},{\"name\":null,\"type\":\"css\",\"url\":\"\\/assetserver\\/104f757bcab7611333aa355119747185c1f822ef-style.css\"},{\"name\":null,\"type\":\"css\",\"url\":\"\\/assetserver\\/e89867c5e417d47e9fb5dede3dbfe9f8bed959b8-bulma_confined.min.css\"}],\"type\":\"async_block\"},\"id\":\"17274770748184890256\",\"handlers\":{\"changes\":[\"(function (val){return (val!=this.model[\\\"changes\\\"]()) ? (this.valueFromJulia[\\\"changes\\\"]=true, this.model[\\\"changes\\\"](val)) : undefined})\"],\"index\":[\"(function (val){return (val!=this.model[\\\"index\\\"]()) ? (this.valueFromJulia[\\\"index\\\"]=true, this.model[\\\"index\\\"](val)) : undefined})\"]},\"systemjs_options\":null,\"mount_callbacks\":[\"function () {\\n    var handler = (function (ko, koPunches) {\\n    ko.punches.enableAll();\\n    ko.bindingHandlers.numericValue = {\\n        init: function(element, valueAccessor, allBindings, data, context) {\\n            var stringified = ko.observable(ko.unwrap(valueAccessor()));\\n            stringified.subscribe(function(value) {\\n                var val = parseFloat(value);\\n                if (!isNaN(val)) {\\n                    valueAccessor()(val);\\n                }\\n            });\\n            valueAccessor().subscribe(function(value) {\\n                var str = JSON.stringify(value);\\n                if ((str == \\\"0\\\") && ([\\\"-0\\\", \\\"-0.\\\"].indexOf(stringified()) >= 0))\\n                     return;\\n                 if ([\\\"null\\\", \\\"\\\"].indexOf(str) >= 0)\\n                     return;\\n                stringified(str);\\n            });\\n            ko.applyBindingsToNode(\\n                element,\\n                {\\n                    value: stringified,\\n                    valueUpdate: allBindings.get('valueUpdate'),\\n                },\\n                context,\\n            );\\n        }\\n    };\\n    var json_data = {\\\"formatted_vals\\\":[\\\"0.0\\\",\\\"0.1\\\",\\\"0.2\\\",\\\"0.3\\\",\\\"0.4\\\",\\\"0.5\\\",\\\"0.6\\\",\\\"0.7\\\",\\\"0.8\\\",\\\"0.9\\\",\\\"1.0\\\",\\\"1.1\\\",\\\"1.2\\\",\\\"1.3\\\",\\\"1.4\\\",\\\"1.5\\\",\\\"1.6\\\",\\\"1.7\\\",\\\"1.8\\\",\\\"1.9\\\",\\\"2.0\\\",\\\"2.1\\\",\\\"2.2\\\",\\\"2.3\\\",\\\"2.4\\\",\\\"2.5\\\",\\\"2.6\\\",\\\"2.7\\\",\\\"2.8\\\",\\\"2.9\\\",\\\"3.0\\\",\\\"3.1\\\",\\\"3.2\\\",\\\"3.3\\\",\\\"3.4\\\",\\\"3.5\\\",\\\"3.6\\\",\\\"3.7\\\",\\\"3.8\\\",\\\"3.9\\\",\\\"4.0\\\",\\\"4.1\\\",\\\"4.2\\\",\\\"4.3\\\",\\\"4.4\\\",\\\"4.5\\\",\\\"4.6\\\",\\\"4.7\\\",\\\"4.8\\\",\\\"4.9\\\",\\\"5.0\\\",\\\"5.1\\\",\\\"5.2\\\",\\\"5.3\\\",\\\"5.4\\\",\\\"5.5\\\",\\\"5.6\\\",\\\"5.7\\\",\\\"5.8\\\",\\\"5.9\\\",\\\"6.0\\\",\\\"6.1\\\",\\\"6.2\\\"],\\\"changes\\\":WebIO.getval({\\\"name\\\":\\\"changes\\\",\\\"scope\\\":\\\"17274770748184890256\\\",\\\"id\\\":\\\"ob_36\\\",\\\"type\\\":\\\"observable\\\"}),\\\"index\\\":WebIO.getval({\\\"name\\\":\\\"index\\\",\\\"scope\\\":\\\"17274770748184890256\\\",\\\"id\\\":\\\"ob_35\\\",\\\"type\\\":\\\"observable\\\"})};\\n    var self = this;\\n    function AppViewModel() {\\n        for (var key in json_data) {\\n            var el = json_data[key];\\n            this[key] = Array.isArray(el) ? ko.observableArray(el) : ko.observable(el);\\n        }\\n        \\n        [this[\\\"formatted_val\\\"]=ko.computed(    function(){\\n        return this.formatted_vals()[parseInt(this.index())-(1)];\\n    }\\n,this)]\\n        [this[\\\"changes\\\"].subscribe((function (val){!(this.valueFromJulia[\\\"changes\\\"]) ? (WebIO.setval({\\\"name\\\":\\\"changes\\\",\\\"scope\\\":\\\"17274770748184890256\\\",\\\"id\\\":\\\"ob_36\\\",\\\"type\\\":\\\"observable\\\"},val)) : undefined; return this.valueFromJulia[\\\"changes\\\"]=false}),self),this[\\\"index\\\"].subscribe((function (val){!(this.valueFromJulia[\\\"index\\\"]) ? (WebIO.setval({\\\"name\\\":\\\"index\\\",\\\"scope\\\":\\\"17274770748184890256\\\",\\\"id\\\":\\\"ob_35\\\",\\\"type\\\":\\\"observable\\\"},val)) : undefined; return this.valueFromJulia[\\\"index\\\"]=false}),self)]\\n        \\n    }\\n    self.model = new AppViewModel();\\n    self.valueFromJulia = {};\\n    for (var key in json_data) {\\n        self.valueFromJulia[key] = false;\\n    }\\n    ko.applyBindings(self.model, self.dom);\\n}\\n);\\n    (WebIO.importBlock({\\\"data\\\":[{\\\"name\\\":\\\"knockout\\\",\\\"type\\\":\\\"js\\\",\\\"url\\\":\\\"\\/assetserver\\/35f4d43e2555ad8a88ae9591d04e823cacc03091-knockout.js\\\"},{\\\"name\\\":\\\"knockout_punches\\\",\\\"type\\\":\\\"js\\\",\\\"url\\\":\\\"\\/assetserver\\/212cb19a1a73d7bf5eaf1488add347ceb95dcc99-knockout_punches.js\\\"}],\\\"type\\\":\\\"async_block\\\"})).then((imports) => handler.apply(this, imports));\\n}\\n\"],\"observables\":{\"changes\":{\"sync\":false,\"id\":\"ob_36\",\"value\":0},\"index\":{\"sync\":true,\"id\":\"ob_35\",\"value\":32}}},\"children\":[{\"props\":{\"className\":\"interact-flex-row interact-widget\"},\"nodeType\":\"DOM\",\"type\":\"node\",\"instanceArgs\":{\"namespace\":\"html\",\"tag\":\"div\"},\"children\":[{\"props\":{\"className\":\"interact-flex-row-left\"},\"nodeType\":\"DOM\",\"type\":\"node\",\"instanceArgs\":{\"namespace\":\"html\",\"tag\":\"div\"},\"children\":[{\"props\":{\"className\":\"interact \",\"style\":{\"padding\":\"5px 10px 0px 10px\"}},\"nodeType\":\"DOM\",\"type\":\"node\",\"instanceArgs\":{\"namespace\":\"html\",\"tag\":\"label\"},\"children\":[\"ω\"]}]},{\"props\":{\"className\":\"interact-flex-row-center\"},\"nodeType\":\"DOM\",\"type\":\"node\",\"instanceArgs\":{\"namespace\":\"html\",\"tag\":\"div\"},\"children\":[{\"props\":{\"max\":63,\"min\":1,\"attributes\":{\"type\":\"range\",\"data-bind\":\"numericValue: index, valueUpdate: 'input', event: {change: function (){this.changes(this.changes()+1)}}\",\"orient\":\"horizontal\"},\"step\":1,\"className\":\"slider slider is-fullwidth\",\"style\":{}},\"nodeType\":\"DOM\",\"type\":\"node\",\"instanceArgs\":{\"namespace\":\"html\",\"tag\":\"input\"},\"children\":[]}]},{\"props\":{\"className\":\"interact-flex-row-right\"},\"nodeType\":\"DOM\",\"type\":\"node\",\"instanceArgs\":{\"namespace\":\"html\",\"tag\":\"div\"},\"children\":[{\"props\":{\"attributes\":{\"data-bind\":\"text: formatted_val\"}},\"nodeType\":\"DOM\",\"type\":\"node\",\"instanceArgs\":{\"namespace\":\"html\",\"tag\":\"p\"},\"children\":[]}]}]}]}]},{\"props\":{\"className\":\"field interact-widget\"},\"nodeType\":\"DOM\",\"type\":\"node\",\"instanceArgs\":{\"namespace\":\"html\",\"tag\":\"div\"},\"children\":[{\"props\":{},\"nodeType\":\"Scope\",\"type\":\"node\",\"instanceArgs\":{\"imports\":{\"data\":[{\"name\":\"knockout\",\"type\":\"js\",\"url\":\"\\/assetserver\\/35f4d43e2555ad8a88ae9591d04e823cacc03091-knockout.js\"},{\"name\":\"knockout_punches\",\"type\":\"js\",\"url\":\"\\/assetserver\\/212cb19a1a73d7bf5eaf1488add347ceb95dcc99-knockout_punches.js\"},{\"name\":null,\"type\":\"js\",\"url\":\"\\/assetserver\\/e1bb4630ca71ac3ffa8d6829f92a4606757b4d51-all.js\"},{\"name\":null,\"type\":\"css\",\"url\":\"\\/assetserver\\/104f757bcab7611333aa355119747185c1f822ef-style.css\"},{\"name\":null,\"type\":\"css\",\"url\":\"\\/assetserver\\/e89867c5e417d47e9fb5dede3dbfe9f8bed959b8-bulma_confined.min.css\"}],\"type\":\"async_block\"},\"id\":\"415652460630173807\",\"handlers\":{\"changes\":[\"(function (val){return (val!=this.model[\\\"changes\\\"]()) ? (this.valueFromJulia[\\\"changes\\\"]=true, this.model[\\\"changes\\\"](val)) : undefined})\"],\"index\":[\"(function (val){return (val!=this.model[\\\"index\\\"]()) ? (this.valueFromJulia[\\\"index\\\"]=true, this.model[\\\"index\\\"](val)) : undefined})\"]},\"systemjs_options\":null,\"mount_callbacks\":[\"function () {\\n    var handler = (function (ko, koPunches) {\\n    ko.punches.enableAll();\\n    ko.bindingHandlers.numericValue = {\\n        init: function(element, valueAccessor, allBindings, data, context) {\\n            var stringified = ko.observable(ko.unwrap(valueAccessor()));\\n            stringified.subscribe(function(value) {\\n                var val = parseFloat(value);\\n                if (!isNaN(val)) {\\n                    valueAccessor()(val);\\n                }\\n            });\\n            valueAccessor().subscribe(function(value) {\\n                var str = JSON.stringify(value);\\n                if ((str == \\\"0\\\") && ([\\\"-0\\\", \\\"-0.\\\"].indexOf(stringified()) >= 0))\\n                     return;\\n                 if ([\\\"null\\\", \\\"\\\"].indexOf(str) >= 0)\\n                     return;\\n                stringified(str);\\n            });\\n            ko.applyBindingsToNode(\\n                element,\\n                {\\n                    value: stringified,\\n                    valueUpdate: allBindings.get('valueUpdate'),\\n                },\\n                context,\\n            );\\n        }\\n    };\\n    var json_data = {\\\"formatted_vals\\\":[\\\"0.1\\\",\\\"0.2\\\",\\\"0.3\\\",\\\"0.4\\\",\\\"0.5\\\",\\\"0.6\\\",\\\"0.7\\\",\\\"0.8\\\",\\\"0.9\\\",\\\"1.0\\\"],\\\"changes\\\":WebIO.getval({\\\"name\\\":\\\"changes\\\",\\\"scope\\\":\\\"415652460630173807\\\",\\\"id\\\":\\\"ob_39\\\",\\\"type\\\":\\\"observable\\\"}),\\\"index\\\":WebIO.getval({\\\"name\\\":\\\"index\\\",\\\"scope\\\":\\\"415652460630173807\\\",\\\"id\\\":\\\"ob_38\\\",\\\"type\\\":\\\"observable\\\"})};\\n    var self = this;\\n    function AppViewModel() {\\n        for (var key in json_data) {\\n            var el = json_data[key];\\n            this[key] = Array.isArray(el) ? ko.observableArray(el) : ko.observable(el);\\n        }\\n        \\n        [this[\\\"formatted_val\\\"]=ko.computed(    function(){\\n        return this.formatted_vals()[parseInt(this.index())-(1)];\\n    }\\n,this)]\\n        [this[\\\"changes\\\"].subscribe((function (val){!(this.valueFromJulia[\\\"changes\\\"]) ? (WebIO.setval({\\\"name\\\":\\\"changes\\\",\\\"scope\\\":\\\"415652460630173807\\\",\\\"id\\\":\\\"ob_39\\\",\\\"type\\\":\\\"observable\\\"},val)) : undefined; return this.valueFromJulia[\\\"changes\\\"]=false}),self),this[\\\"index\\\"].subscribe((function (val){!(this.valueFromJulia[\\\"index\\\"]) ? (WebIO.setval({\\\"name\\\":\\\"index\\\",\\\"scope\\\":\\\"415652460630173807\\\",\\\"id\\\":\\\"ob_38\\\",\\\"type\\\":\\\"observable\\\"},val)) : undefined; return this.valueFromJulia[\\\"index\\\"]=false}),self)]\\n        \\n    }\\n    self.model = new AppViewModel();\\n    self.valueFromJulia = {};\\n    for (var key in json_data) {\\n        self.valueFromJulia[key] = false;\\n    }\\n    ko.applyBindings(self.model, self.dom);\\n}\\n);\\n    (WebIO.importBlock({\\\"data\\\":[{\\\"name\\\":\\\"knockout\\\",\\\"type\\\":\\\"js\\\",\\\"url\\\":\\\"\\/assetserver\\/35f4d43e2555ad8a88ae9591d04e823cacc03091-knockout.js\\\"},{\\\"name\\\":\\\"knockout_punches\\\",\\\"type\\\":\\\"js\\\",\\\"url\\\":\\\"\\/assetserver\\/212cb19a1a73d7bf5eaf1488add347ceb95dcc99-knockout_punches.js\\\"}],\\\"type\\\":\\\"async_block\\\"})).then((imports) => handler.apply(this, imports));\\n}\\n\"],\"observables\":{\"changes\":{\"sync\":false,\"id\":\"ob_39\",\"value\":0},\"index\":{\"sync\":true,\"id\":\"ob_38\",\"value\":5}}},\"children\":[{\"props\":{\"className\":\"interact-flex-row interact-widget\"},\"nodeType\":\"DOM\",\"type\":\"node\",\"instanceArgs\":{\"namespace\":\"html\",\"tag\":\"div\"},\"children\":[{\"props\":{\"className\":\"interact-flex-row-left\"},\"nodeType\":\"DOM\",\"type\":\"node\",\"instanceArgs\":{\"namespace\":\"html\",\"tag\":\"div\"},\"children\":[{\"props\":{\"className\":\"interact \",\"style\":{\"padding\":\"5px 10px 0px 10px\"}},\"nodeType\":\"DOM\",\"type\":\"node\",\"instanceArgs\":{\"namespace\":\"html\",\"tag\":\"label\"},\"children\":[\"A\"]}]},{\"props\":{\"className\":\"interact-flex-row-center\"},\"nodeType\":\"DOM\",\"type\":\"node\",\"instanceArgs\":{\"namespace\":\"html\",\"tag\":\"div\"},\"children\":[{\"props\":{\"max\":10,\"min\":1,\"attributes\":{\"type\":\"range\",\"data-bind\":\"numericValue: index, valueUpdate: 'input', event: {change: function (){this.changes(this.changes()+1)}}\",\"orient\":\"horizontal\"},\"step\":1,\"className\":\"slider slider is-fullwidth\",\"style\":{}},\"nodeType\":\"DOM\",\"type\":\"node\",\"instanceArgs\":{\"namespace\":\"html\",\"tag\":\"input\"},\"children\":[]}]},{\"props\":{\"className\":\"interact-flex-row-right\"},\"nodeType\":\"DOM\",\"type\":\"node\",\"instanceArgs\":{\"namespace\":\"html\",\"tag\":\"div\"},\"children\":[{\"props\":{\"attributes\":{\"data-bind\":\"text: formatted_val\"}},\"nodeType\":\"DOM\",\"type\":\"node\",\"instanceArgs\":{\"namespace\":\"html\",\"tag\":\"p\"},\"children\":[]}]}]}]}]},{\"props\":{},\"nodeType\":\"Scope\",\"type\":\"node\",\"instanceArgs\":{\"imports\":{\"data\":[],\"type\":\"async_block\"},\"id\":\"8855888099808010658\",\"handlers\":{},\"systemjs_options\":null,\"mount_callbacks\":[],\"observables\":{\"obs-node\":{\"sync\":false,\"id\":\"ob_43\",\"value\":{\"props\":{\"className\":\"interact-flex-row interact-widget\"},\"nodeType\":\"DOM\",\"type\":\"node\",\"instanceArgs\":{\"namespace\":\"html\",\"tag\":\"div\"},\"children\":[{\"props\":{\"setInnerHtml\":\"<?xml version=\\\"1.0\\\" encoding=\\\"utf-8\\\"?>\\n<svg xmlns=\\\"http:\\/\\/www.w3.org\\/2000\\/svg\\\" xmlns:xlink=\\\"http:\\/\\/www.w3.org\\/1999\\/xlink\\\" width=\\\"600\\\" height=\\\"400\\\" viewBox=\\\"0 0 2400 1600\\\">\\n<defs>\\n  <clipPath id=\\\"clip2000\\\">\\n    <rect x=\\\"0\\\" y=\\\"0\\\" width=\\\"2400\\\" height=\\\"1600\\\"\\/>\\n  <\\/clipPath>\\n<\\/defs>\\n<polygon clip-path=\\\"url(#clip2000)\\\" points=\\\"\\n0,1600 2400,1600 2400,0 0,0 \\n  \\\" fill=\\\"#ffffff\\\" fill-rule=\\\"evenodd\\\" fill-opacity=\\\"1\\\"\\/>\\n<defs>\\n  <clipPath id=\\\"clip2001\\\">\\n    <rect x=\\\"480\\\" y=\\\"0\\\" width=\\\"1681\\\" height=\\\"1600\\\"\\/>\\n  <\\/clipPath>\\n<\\/defs>\\n<polygon clip-path=\\\"url(#clip2000)\\\" points=\\\"\\n189.504,1503.47 2321.26,1503.47 2321.26,125.984 189.504,125.984 \\n  \\\" fill=\\\"#ffffff\\\" fill-rule=\\\"evenodd\\\" fill-opacity=\\\"1\\\"\\/>\\n<defs>\\n  <clipPath id=\\\"clip2002\\\">\\n    <rect x=\\\"189\\\" y=\\\"125\\\" width=\\\"2133\\\" height=\\\"1378\\\"\\/>\\n  <\\/clipPath>\\n<\\/defs>\\n<polyline clip-path=\\\"url(#clip2002)\\\" style=\\\"stroke:#000000; stroke-width:2; stroke-opacity:0.1; fill:none\\\" points=\\\"\\n  249.837,1503.47 249.837,125.984 \\n  \\\"\\/>\\n<polyline clip-path=\\\"url(#clip2002)\\\" style=\\\"stroke:#000000; stroke-width:2; stroke-opacity:0.1; fill:none\\\" points=\\\"\\n  574.206,1503.47 574.206,125.984 \\n  \\\"\\/>\\n<polyline clip-path=\\\"url(#clip2002)\\\" style=\\\"stroke:#000000; stroke-width:2; stroke-opacity:0.1; fill:none\\\" points=\\\"\\n  898.576,1503.47 898.576,125.984 \\n  \\\"\\/>\\n<polyline clip-path=\\\"url(#clip2002)\\\" style=\\\"stroke:#000000; stroke-width:2; stroke-opacity:0.1; fill:none\\\" points=\\\"\\n  1222.95,1503.47 1222.95,125.984 \\n  \\\"\\/>\\n<polyline clip-path=\\\"url(#clip2002)\\\" style=\\\"stroke:#000000; stroke-width:2; stroke-opacity:0.1; fill:none\\\" points=\\\"\\n  1547.31,1503.47 1547.31,125.984 \\n  \\\"\\/>\\n<polyline clip-path=\\\"url(#clip2002)\\\" style=\\\"stroke:#000000; stroke-width:2; stroke-opacity:0.1; fill:none\\\" points=\\\"\\n  1871.68,1503.47 1871.68,125.984 \\n  \\\"\\/>\\n<polyline clip-path=\\\"url(#clip2002)\\\" style=\\\"stroke:#000000; stroke-width:2; stroke-opacity:0.1; fill:none\\\" points=\\\"\\n  2196.05,1503.47 2196.05,125.984 \\n  \\\"\\/>\\n<polyline clip-path=\\\"url(#clip2002)\\\" style=\\\"stroke:#000000; stroke-width:2; stroke-opacity:0.1; fill:none\\\" points=\\\"\\n  189.504,1503.47 2321.26,1503.47 \\n  \\\"\\/>\\n<polyline clip-path=\\\"url(#clip2002)\\\" style=\\\"stroke:#000000; stroke-width:2; stroke-opacity:0.1; fill:none\\\" points=\\\"\\n  189.504,1159.1 2321.26,1159.1 \\n  \\\"\\/>\\n<polyline clip-path=\\\"url(#clip2002)\\\" style=\\\"stroke:#000000; stroke-width:2; stroke-opacity:0.1; fill:none\\\" points=\\\"\\n  189.504,814.729 2321.26,814.729 \\n  \\\"\\/>\\n<polyline clip-path=\\\"url(#clip2002)\\\" style=\\\"stroke:#000000; stroke-width:2; stroke-opacity:0.1; fill:none\\\" points=\\\"\\n  189.504,470.357 2321.26,470.357 \\n  \\\"\\/>\\n<polyline clip-path=\\\"url(#clip2002)\\\" style=\\\"stroke:#000000; stroke-width:2; stroke-opacity:0.1; fill:none\\\" points=\\\"\\n  189.504,125.984 2321.26,125.984 \\n  \\\"\\/>\\n<polyline clip-path=\\\"url(#clip2000)\\\" style=\\\"stroke:#000000; stroke-width:4; stroke-opacity:1; fill:none\\\" points=\\\"\\n  189.504,1503.47 2321.26,1503.47 \\n  \\\"\\/>\\n<polyline clip-path=\\\"url(#clip2000)\\\" style=\\\"stroke:#000000; stroke-width:4; stroke-opacity:1; fill:none\\\" points=\\\"\\n  189.504,1503.47 189.504,125.984 \\n  \\\"\\/>\\n<polyline clip-path=\\\"url(#clip2000)\\\" style=\\\"stroke:#000000; stroke-width:4; stroke-opacity:1; fill:none\\\" points=\\\"\\n  249.837,1503.47 249.837,1482.81 \\n  \\\"\\/>\\n<polyline clip-path=\\\"url(#clip2000)\\\" style=\\\"stroke:#000000; stroke-width:4; stroke-opacity:1; fill:none\\\" points=\\\"\\n  574.206,1503.47 574.206,1482.81 \\n  \\\"\\/>\\n<polyline clip-path=\\\"url(#clip2000)\\\" style=\\\"stroke:#000000; stroke-width:4; stroke-opacity:1; fill:none\\\" points=\\\"\\n  898.576,1503.47 898.576,1482.81 \\n  \\\"\\/>\\n<polyline clip-path=\\\"url(#clip2000)\\\" style=\\\"stroke:#000000; stroke-width:4; stroke-opacity:1; fill:none\\\" points=\\\"\\n  1222.95,1503.47 1222.95,1482.81 \\n  \\\"\\/>\\n<polyline clip-path=\\\"url(#clip2000)\\\" style=\\\"stroke:#000000; stroke-width:4; stroke-opacity:1; fill:none\\\" points=\\\"\\n  1547.31,1503.47 1547.31,1482.81 \\n  \\\"\\/>\\n<polyline clip-path=\\\"url(#clip2000)\\\" style=\\\"stroke:#000000; stroke-width:4; stroke-opacity:1; fill:none\\\" points=\\\"\\n  1871.68,1503.47 1871.68,1482.81 \\n  \\\"\\/>\\n<polyline clip-path=\\\"url(#clip2000)\\\" style=\\\"stroke:#000000; stroke-width:4; stroke-opacity:1; fill:none\\\" points=\\\"\\n  2196.05,1503.47 2196.05,1482.81 \\n  \\\"\\/>\\n<polyline clip-path=\\\"url(#clip2000)\\\" style=\\\"stroke:#000000; stroke-width:4; stroke-opacity:1; fill:none\\\" points=\\\"\\n  189.504,1503.47 221.48,1503.47 \\n  \\\"\\/>\\n<polyline clip-path=\\\"url(#clip2000)\\\" style=\\\"stroke:#000000; stroke-width:4; stroke-opacity:1; fill:none\\\" points=\\\"\\n  189.504,1159.1 221.48,1159.1 \\n  \\\"\\/>\\n<polyline clip-path=\\\"url(#clip2000)\\\" style=\\\"stroke:#000000; stroke-width:4; stroke-opacity:1; fill:none\\\" points=\\\"\\n  189.504,814.729 221.48,814.729 \\n  \\\"\\/>\\n<polyline clip-path=\\\"url(#clip2000)\\\" style=\\\"stroke:#000000; stroke-width:4; stroke-opacity:1; fill:none\\\" points=\\\"\\n  189.504,470.357 221.48,470.357 \\n  \\\"\\/>\\n<polyline clip-path=\\\"url(#clip2000)\\\" style=\\\"stroke:#000000; stroke-width:4; stroke-opacity:1; fill:none\\\" points=\\\"\\n  189.504,125.984 221.48,125.984 \\n  \\\"\\/>\\n<g clip-path=\\\"url(#clip2000)\\\">\\n<text style=\\\"fill:#000000; fill-opacity:1; font-family:Arial,Helvetica Neue,Helvetica,sans-serif; font-size:48px; text-anchor:middle;\\\" transform=\\\"rotate(0, 249.837, 1557.47)\\\" x=\\\"249.837\\\" y=\\\"1557.47\\\">0<\\/text>\\n<\\/g>\\n<g clip-path=\\\"url(#clip2000)\\\">\\n<text style=\\\"fill:#000000; fill-opacity:1; font-family:Arial,Helvetica Neue,Helvetica,sans-serif; font-size:48px; text-anchor:middle;\\\" transform=\\\"rotate(0, 574.206, 1557.47)\\\" x=\\\"574.206\\\" y=\\\"1557.47\\\">1<\\/text>\\n<\\/g>\\n<g clip-path=\\\"url(#clip2000)\\\">\\n<text style=\\\"fill:#000000; fill-opacity:1; font-family:Arial,Helvetica Neue,Helvetica,sans-serif; font-size:48px; text-anchor:middle;\\\" transform=\\\"rotate(0, 898.576, 1557.47)\\\" x=\\\"898.576\\\" y=\\\"1557.47\\\">2<\\/text>\\n<\\/g>\\n<g clip-path=\\\"url(#clip2000)\\\">\\n<text style=\\\"fill:#000000; fill-opacity:1; font-family:Arial,Helvetica Neue,Helvetica,sans-serif; font-size:48px; text-anchor:middle;\\\" transform=\\\"rotate(0, 1222.95, 1557.47)\\\" x=\\\"1222.95\\\" y=\\\"1557.47\\\">3<\\/text>\\n<\\/g>\\n<g clip-path=\\\"url(#clip2000)\\\">\\n<text style=\\\"fill:#000000; fill-opacity:1; font-family:Arial,Helvetica Neue,Helvetica,sans-serif; font-size:48px; text-anchor:middle;\\\" transform=\\\"rotate(0, 1547.31, 1557.47)\\\" x=\\\"1547.31\\\" y=\\\"1557.47\\\">4<\\/text>\\n<\\/g>\\n<g clip-path=\\\"url(#clip2000)\\\">\\n<text style=\\\"fill:#000000; fill-opacity:1; font-family:Arial,Helvetica Neue,Helvetica,sans-serif; font-size:48px; text-anchor:middle;\\\" transform=\\\"rotate(0, 1871.68, 1557.47)\\\" x=\\\"1871.68\\\" y=\\\"1557.47\\\">5<\\/text>\\n<\\/g>\\n<g clip-path=\\\"url(#clip2000)\\\">\\n<text style=\\\"fill:#000000; fill-opacity:1; font-family:Arial,Helvetica Neue,Helvetica,sans-serif; font-size:48px; text-anchor:middle;\\\" transform=\\\"rotate(0, 2196.05, 1557.47)\\\" x=\\\"2196.05\\\" y=\\\"1557.47\\\">6<\\/text>\\n<\\/g>\\n<g clip-path=\\\"url(#clip2000)\\\">\\n<text style=\\\"fill:#000000; fill-opacity:1; font-family:Arial,Helvetica Neue,Helvetica,sans-serif; font-size:48px; text-anchor:end;\\\" transform=\\\"rotate(0, 165.504, 1520.97)\\\" x=\\\"165.504\\\" y=\\\"1520.97\\\">-1.0<\\/text>\\n<\\/g>\\n<g clip-path=\\\"url(#clip2000)\\\">\\n<text style=\\\"fill:#000000; fill-opacity:1; font-family:Arial,Helvetica Neue,Helvetica,sans-serif; font-size:48px; text-anchor:end;\\\" transform=\\\"rotate(0, 165.504, 1176.6)\\\" x=\\\"165.504\\\" y=\\\"1176.6\\\">-0.5<\\/text>\\n<\\/g>\\n<g clip-path=\\\"url(#clip2000)\\\">\\n<text style=\\\"fill:#000000; fill-opacity:1; font-family:Arial,Helvetica Neue,Helvetica,sans-serif; font-size:48px; text-anchor:end;\\\" transform=\\\"rotate(0, 165.504, 832.229)\\\" x=\\\"165.504\\\" y=\\\"832.229\\\">0.0<\\/text>\\n<\\/g>\\n<g clip-path=\\\"url(#clip2000)\\\">\\n<text style=\\\"fill:#000000; fill-opacity:1; font-family:Arial,Helvetica Neue,Helvetica,sans-serif; font-size:48px; text-anchor:end;\\\" transform=\\\"rotate(0, 165.504, 487.857)\\\" x=\\\"165.504\\\" y=\\\"487.857\\\">0.5<\\/text>\\n<\\/g>\\n<g clip-path=\\\"url(#clip2000)\\\">\\n<text style=\\\"fill:#000000; fill-opacity:1; font-family:Arial,Helvetica Neue,Helvetica,sans-serif; font-size:48px; text-anchor:end;\\\" transform=\\\"rotate(0, 165.504, 143.484)\\\" x=\\\"165.504\\\" y=\\\"143.484\\\">1.0<\\/text>\\n<\\/g>\\n<g clip-path=\\\"url(#clip2000)\\\">\\n<text style=\\\"fill:#000000; fill-opacity:1; font-family:Arial,Helvetica Neue,Helvetica,sans-serif; font-size:84px; text-anchor:middle;\\\" transform=\\\"rotate(0, 1255.38, 73.2)\\\" x=\\\"1255.38\\\" y=\\\"73.2\\\">Grafica interactiva<\\/text>\\n<\\/g>\\n<polyline clip-path=\\\"url(#clip2002)\\\" style=\\\"stroke:#009af9; stroke-width:4; stroke-opacity:1; fill:none\\\" points=\\\"\\n  249.837,800.41 282.274,834.832 314.711,869.053 347.148,902.731 379.585,935.53 412.022,967.121 444.458,997.191 476.895,1025.44 509.332,1051.58 541.769,1075.35 \\n  574.206,1096.52 606.643,1114.88 639.08,1130.23 671.517,1142.44 703.954,1151.36 736.391,1156.93 768.828,1159.08 801.265,1157.78 833.702,1153.06 866.139,1144.96 \\n  898.576,1133.55 931.013,1118.97 963.45,1101.34 995.886,1080.85 1028.32,1057.7 1060.76,1032.12 1093.2,1004.37 1125.63,974.726 1158.07,943.482 1190.51,910.953 \\n  1222.95,877.461 1255.38,843.343 1287.82,808.939 1320.26,774.593 1352.69,740.648 1385.13,707.443 1417.57,675.31 1450,644.57 1482.44,615.531 1514.88,588.481 \\n  1547.31,563.693 1579.75,541.412 1612.19,521.862 1644.63,505.239 1677.06,491.708 1709.5,481.404 1741.94,474.431 1774.37,470.859 1806.81,470.721 1839.25,474.022 \\n  1871.68,480.726 1904.12,490.768 1936.56,504.046 1968.99,520.429 2001.43,539.752 2033.87,561.823 2066.31,586.421 2098.74,613.3 2131.18,642.192 2163.62,672.807 \\n  2196.05,704.841 2228.49,737.972 2260.93,771.871 \\n  \\\"\\/>\\n<polygon clip-path=\\\"url(#clip2000)\\\" points=\\\"\\n1769.84,330.464 2249.26,330.464 2249.26,209.504 1769.84,209.504 \\n  \\\" fill=\\\"#ffffff\\\" fill-rule=\\\"evenodd\\\" fill-opacity=\\\"1\\\"\\/>\\n<polyline clip-path=\\\"url(#clip2000)\\\" style=\\\"stroke:#000000; stroke-width:4; stroke-opacity:1; fill:none\\\" points=\\\"\\n  1769.84,330.464 2249.26,330.464 2249.26,209.504 1769.84,209.504 1769.84,330.464 \\n  \\\"\\/>\\n<polyline clip-path=\\\"url(#clip2000)\\\" style=\\\"stroke:#009af9; stroke-width:4; stroke-opacity:1; fill:none\\\" points=\\\"\\n  1793.84,269.984 1937.84,269.984 \\n  \\\"\\/>\\n<g clip-path=\\\"url(#clip2000)\\\">\\n<text style=\\\"fill:#000000; fill-opacity:1; font-family:Arial,Helvetica Neue,Helvetica,sans-serif; font-size:48px; text-anchor:start;\\\" transform=\\\"rotate(0, 1961.84, 287.484)\\\" x=\\\"1961.84\\\" y=\\\"287.484\\\">sin(x + 3.1)<\\/text>\\n<\\/g>\\n<\\/svg>\\n\"},\"nodeType\":\"DOM\",\"type\":\"node\",\"instanceArgs\":{\"namespace\":\"html\",\"tag\":\"div\"},\"children\":[]}]}}}},\"children\":[{\"props\":{},\"nodeType\":\"ObservableNode\",\"type\":\"node\",\"instanceArgs\":{\"id\":\"ob_43\",\"name\":\"obs-node\"},\"children\":[]}]}]},\n",
       "            window,\n",
       "        );\n",
       "    } else {\n",
       "        document\n",
       "            .querySelector('[data-webio-mountpoint=\"13663141100308489637\"]')\n",
       "            .innerHTML = '<strong>WebIO not detected.</strong>';\n",
       "    }\n",
       "    </script>\n",
       "</div>\n"
      ],
      "text/plain": [
       "Node{WebIO.DOM}(WebIO.DOM(:html, :div), Any[Node{DOM}(DOM(:html, :div), Any[Scope(Node{DOM}(DOM(:html, :div), Any[Node{DOM}(DOM(:html, :div), Any[Node{DOM}(DOM(:html, :label), Any[\"ω\"], Dict{Symbol,Any}(:className=>\"interact \",:style=>Dict{Any,Any}(:padding=>\"5px 10px 0px 10px\")))], Dict{Symbol,Any}(:className=>\"interact-flex-row-left\")), Node{DOM}(DOM(:html, :div), Any[Node{DOM}(DOM(:html, :input), Any[], Dict{Symbol,Any}(:max=>63,:min=>1,:attributes=>Dict{Any,Any}(:type=>\"range\",Symbol(\"data-bind\")=>\"numericValue: index, valueUpdate: 'input', event: {change: function (){this.changes(this.changes()+1)}}\",\"orient\"=>\"horizontal\"),:step=>1,:className=>\"slider slider is-fullwidth\",:style=>Dict{Any,Any}()))], Dict{Symbol,Any}(:className=>\"interact-flex-row-center\")), Node{DOM}(DOM(:html, :div), Any[Node{DOM}(DOM(:html, :p), Any[], Dict{Symbol,Any}(:attributes=>Dict(\"data-bind\"=>\"text: formatted_val\")))], Dict{Symbol,Any}(:className=>\"interact-flex-row-right\"))], Dict{Symbol,Any}(:className=>\"interact-flex-row interact-widget\")), Dict{String,Tuple{Observables.AbstractObservable,Union{Nothing, Bool}}}(\"changes\"=>(Observable{Int64} with 1 listeners. Value:\n",
       "0, nothing),\"index\"=>(Observable{Any} with 2 listeners. Value:\n",
       "32, nothing)), Set(String[]), nothing, Asset[Asset(\"js\", \"knockout\", \"/home/mvb/.julia/packages/Knockout/1sDlc/src/../assets/knockout.js\"), Asset(\"js\", \"knockout_punches\", \"/home/mvb/.julia/packages/Knockout/1sDlc/src/../assets/knockout_punches.js\"), Asset(\"js\", nothing, \"/home/mvb/.julia/packages/InteractBase/l8cEC/src/../assets/all.js\"), Asset(\"css\", nothing, \"/home/mvb/.julia/packages/InteractBase/l8cEC/src/../assets/style.css\"), Asset(\"css\", nothing, \"/home/mvb/.julia/packages/Interact/Fs3lV/src/../assets/bulma_confined.min.css\")], Dict{Any,Any}(\"changes\"=>Any[JSString(\"(function (val){return (val!=this.model[\\\"changes\\\"]()) ? (this.valueFromJulia[\\\"changes\\\"]=true, this.model[\\\"changes\\\"](val)) : undefined})\")],\"index\"=>Any[JSString(\"(function (val){return (val!=this.model[\\\"index\\\"]()) ? (this.valueFromJulia[\\\"index\\\"]=true, this.model[\\\"index\\\"](val)) : undefined})\")]), ConnectionPool(Channel{Any}(sz_max:9223372036854775807,sz_curr:0), Set(AbstractConnection[]), Channel{AbstractConnection}(sz_max:32,sz_curr:0)), WebIO.JSString[JSString(\"function () {\\n    var handler = (function (ko, koPunches) {\\n    ko.punches.enableAll();\\n    ko.bindingHandlers.numericValue = {\\n        init: function(element, valueAccessor, allBindings, data, context) {\\n            var stringified = ko.observable(ko.unwrap(valueAccessor()));\\n            stringified.subscribe(function(value) {\\n                var val = parseFloat(value);\\n                if (!isNaN(val)) {\\n                    valueAccessor()(val);\\n                }\\n            });\\n            valueAccessor().subscribe(function(value) {\\n                var str = JSON.stringify(value);\\n                if ((str == \\\"0\\\") && ([\\\"-0\\\", \\\"-0.\\\"].indexOf(stringified()) >= 0))\\n                     return;\\n                 if ([\\\"null\\\", \\\"\\\"].indexOf(str) >= 0)\\n                     return;\\n                stringified(str);\\n            });\\n            ko.applyBindingsToNode(\\n                element,\\n                {\\n                    value: stringified,\\n                    valueUpdate: allBindings.get('valueUpdate'),\\n                },\\n                context,\\n            );\\n        }\\n    };\\n    var json_data = {\\\"formatted_vals\\\":[\\\"0.0\\\",\\\"0.1\\\",\\\"0.2\\\",\\\"0.3\\\",\\\"0.4\\\",\\\"0.5\\\",\\\"0.6\\\",\\\"0.7\\\",\\\"0.8\\\",\\\"0.9\\\",\\\"1.0\\\",\\\"1.1\\\",\\\"1.2\\\",\\\"1.3\\\",\\\"1.4\\\",\\\"1.5\\\",\\\"1.6\\\",\\\"1.7\\\",\\\"1.8\\\",\\\"1.9\\\",\\\"2.0\\\",\\\"2.1\\\",\\\"2.2\\\",\\\"2.3\\\",\\\"2.4\\\",\\\"2.5\\\",\\\"2.6\\\",\\\"2.7\\\",\\\"2.8\\\",\\\"2.9\\\",\\\"3.0\\\",\\\"3.1\\\",\\\"3.2\\\",\\\"3.3\\\",\\\"3.4\\\",\\\"3.5\\\",\\\"3.6\\\",\\\"3.7\\\",\\\"3.8\\\",\\\"3.9\\\",\\\"4.0\\\",\\\"4.1\\\",\\\"4.2\\\",\\\"4.3\\\",\\\"4.4\\\",\\\"4.5\\\",\\\"4.6\\\",\\\"4.7\\\",\\\"4.8\\\",\\\"4.9\\\",\\\"5.0\\\",\\\"5.1\\\",\\\"5.2\\\",\\\"5.3\\\",\\\"5.4\\\",\\\"5.5\\\",\\\"5.6\\\",\\\"5.7\\\",\\\"5.8\\\",\\\"5.9\\\",\\\"6.0\\\",\\\"6.1\\\",\\\"6.2\\\"],\\\"changes\\\":WebIO.getval({\\\"name\\\":\\\"changes\\\",\\\"scope\\\":\\\"17274770748184890256\\\",\\\"id\\\":\\\"ob_36\\\",\\\"type\\\":\\\"observable\\\"}),\\\"index\\\":WebIO.getval({\\\"name\\\":\\\"index\\\",\\\"scope\\\":\\\"17274770748184890256\\\",\\\"id\\\":\\\"ob_35\\\",\\\"type\\\":\\\"observable\\\"})};\\n    var self = this;\\n    function AppViewModel() {\\n        for (var key in json_data) {\\n            var el = json_data[key];\\n            this[key] = Array.isArray(el) ? ko.observableArray(el) : ko.observable(el);\\n        }\\n        \\n        [this[\\\"formatted_val\\\"]=ko.computed(    function(){\\n        return this.formatted_vals()[parseInt(this.index())-(1)];\\n    }\\n,this)]\\n        [this[\\\"changes\\\"].subscribe((function (val){!(this.valueFromJulia[\\\"changes\\\"]) ? (WebIO.setval({\\\"name\\\":\\\"changes\\\",\\\"scope\\\":\\\"17274770748184890256\\\",\\\"id\\\":\\\"ob_36\\\",\\\"type\\\":\\\"observable\\\"},val)) : undefined; return this.valueFromJulia[\\\"changes\\\"]=false}),self),this[\\\"index\\\"].subscribe((function (val){!(this.valueFromJulia[\\\"index\\\"]) ? (WebIO.setval({\\\"name\\\":\\\"index\\\",\\\"scope\\\":\\\"17274770748184890256\\\",\\\"id\\\":\\\"ob_35\\\",\\\"type\\\":\\\"observable\\\"},val)) : undefined; return this.valueFromJulia[\\\"index\\\"]=false}),self)]\\n        \\n    }\\n    self.model = new AppViewModel();\\n    self.valueFromJulia = {};\\n    for (var key in json_data) {\\n        self.valueFromJulia[key] = false;\\n    }\\n    ko.applyBindings(self.model, self.dom);\\n}\\n);\\n    (WebIO.importBlock({\\\"data\\\":[{\\\"name\\\":\\\"knockout\\\",\\\"type\\\":\\\"js\\\",\\\"url\\\":\\\"/assetserver/35f4d43e2555ad8a88ae9591d04e823cacc03091-knockout.js\\\"},{\\\"name\\\":\\\"knockout_punches\\\",\\\"type\\\":\\\"js\\\",\\\"url\\\":\\\"/assetserver/212cb19a1a73d7bf5eaf1488add347ceb95dcc99-knockout_punches.js\\\"}],\\\"type\\\":\\\"async_block\\\"})).then((imports) => handler.apply(this, imports));\\n}\\n\")])], Dict{Symbol,Any}(:className=>\"field interact-widget\")), Node{DOM}(DOM(:html, :div), Any[Scope(Node{DOM}(DOM(:html, :div), Any[Node{DOM}(DOM(:html, :div), Any[Node{DOM}(DOM(:html, :label), Any[\"A\"], Dict{Symbol,Any}(:className=>\"interact \",:style=>Dict{Any,Any}(:padding=>\"5px 10px 0px 10px\")))], Dict{Symbol,Any}(:className=>\"interact-flex-row-left\")), Node{DOM}(DOM(:html, :div), Any[Node{DOM}(DOM(:html, :input), Any[], Dict{Symbol,Any}(:max=>10,:min=>1,:attributes=>Dict{Any,Any}(:type=>\"range\",Symbol(\"data-bind\")=>\"numericValue: index, valueUpdate: 'input', event: {change: function (){this.changes(this.changes()+1)}}\",\"orient\"=>\"horizontal\"),:step=>1,:className=>\"slider slider is-fullwidth\",:style=>Dict{Any,Any}()))], Dict{Symbol,Any}(:className=>\"interact-flex-row-center\")), Node{DOM}(DOM(:html, :div), Any[Node{DOM}(DOM(:html, :p), Any[], Dict{Symbol,Any}(:attributes=>Dict(\"data-bind\"=>\"text: formatted_val\")))], Dict{Symbol,Any}(:className=>\"interact-flex-row-right\"))], Dict{Symbol,Any}(:className=>\"interact-flex-row interact-widget\")), Dict{String,Tuple{Observables.AbstractObservable,Union{Nothing, Bool}}}(\"changes\"=>(Observable{Int64} with 1 listeners. Value:\n",
       "0, nothing),\"index\"=>(Observable{Any} with 2 listeners. Value:\n",
       "5, nothing)), Set(String[]), nothing, Asset[Asset(\"js\", \"knockout\", \"/home/mvb/.julia/packages/Knockout/1sDlc/src/../assets/knockout.js\"), Asset(\"js\", \"knockout_punches\", \"/home/mvb/.julia/packages/Knockout/1sDlc/src/../assets/knockout_punches.js\"), Asset(\"js\", nothing, \"/home/mvb/.julia/packages/InteractBase/l8cEC/src/../assets/all.js\"), Asset(\"css\", nothing, \"/home/mvb/.julia/packages/InteractBase/l8cEC/src/../assets/style.css\"), Asset(\"css\", nothing, \"/home/mvb/.julia/packages/Interact/Fs3lV/src/../assets/bulma_confined.min.css\")], Dict{Any,Any}(\"changes\"=>Any[JSString(\"(function (val){return (val!=this.model[\\\"changes\\\"]()) ? (this.valueFromJulia[\\\"changes\\\"]=true, this.model[\\\"changes\\\"](val)) : undefined})\")],\"index\"=>Any[JSString(\"(function (val){return (val!=this.model[\\\"index\\\"]()) ? (this.valueFromJulia[\\\"index\\\"]=true, this.model[\\\"index\\\"](val)) : undefined})\")]), ConnectionPool(Channel{Any}(sz_max:9223372036854775807,sz_curr:0), Set(AbstractConnection[]), Channel{AbstractConnection}(sz_max:32,sz_curr:0)), WebIO.JSString[JSString(\"function () {\\n    var handler = (function (ko, koPunches) {\\n    ko.punches.enableAll();\\n    ko.bindingHandlers.numericValue = {\\n        init: function(element, valueAccessor, allBindings, data, context) {\\n            var stringified = ko.observable(ko.unwrap(valueAccessor()));\\n            stringified.subscribe(function(value) {\\n                var val = parseFloat(value);\\n                if (!isNaN(val)) {\\n                    valueAccessor()(val);\\n                }\\n            });\\n            valueAccessor().subscribe(function(value) {\\n                var str = JSON.stringify(value);\\n                if ((str == \\\"0\\\") && ([\\\"-0\\\", \\\"-0.\\\"].indexOf(stringified()) >= 0))\\n                     return;\\n                 if ([\\\"null\\\", \\\"\\\"].indexOf(str) >= 0)\\n                     return;\\n                stringified(str);\\n            });\\n            ko.applyBindingsToNode(\\n                element,\\n                {\\n                    value: stringified,\\n                    valueUpdate: allBindings.get('valueUpdate'),\\n                },\\n                context,\\n            );\\n        }\\n    };\\n    var json_data = {\\\"formatted_vals\\\":[\\\"0.1\\\",\\\"0.2\\\",\\\"0.3\\\",\\\"0.4\\\",\\\"0.5\\\",\\\"0.6\\\",\\\"0.7\\\",\\\"0.8\\\",\\\"0.9\\\",\\\"1.0\\\"],\\\"changes\\\":WebIO.getval({\\\"name\\\":\\\"changes\\\",\\\"scope\\\":\\\"415652460630173807\\\",\\\"id\\\":\\\"ob_39\\\",\\\"type\\\":\\\"observable\\\"}),\\\"index\\\":WebIO.getval({\\\"name\\\":\\\"index\\\",\\\"scope\\\":\\\"415652460630173807\\\",\\\"id\\\":\\\"ob_38\\\",\\\"type\\\":\\\"observable\\\"})};\\n    var self = this;\\n    function AppViewModel() {\\n        for (var key in json_data) {\\n            var el = json_data[key];\\n            this[key] = Array.isArray(el) ? ko.observableArray(el) : ko.observable(el);\\n        }\\n        \\n        [this[\\\"formatted_val\\\"]=ko.computed(    function(){\\n        return this.formatted_vals()[parseInt(this.index())-(1)];\\n    }\\n,this)]\\n        [this[\\\"changes\\\"].subscribe((function (val){!(this.valueFromJulia[\\\"changes\\\"]) ? (WebIO.setval({\\\"name\\\":\\\"changes\\\",\\\"scope\\\":\\\"415652460630173807\\\",\\\"id\\\":\\\"ob_39\\\",\\\"type\\\":\\\"observable\\\"},val)) : undefined; return this.valueFromJulia[\\\"changes\\\"]=false}),self),this[\\\"index\\\"].subscribe((function (val){!(this.valueFromJulia[\\\"index\\\"]) ? (WebIO.setval({\\\"name\\\":\\\"index\\\",\\\"scope\\\":\\\"415652460630173807\\\",\\\"id\\\":\\\"ob_38\\\",\\\"type\\\":\\\"observable\\\"},val)) : undefined; return this.valueFromJulia[\\\"index\\\"]=false}),self)]\\n        \\n    }\\n    self.model = new AppViewModel();\\n    self.valueFromJulia = {};\\n    for (var key in json_data) {\\n        self.valueFromJulia[key] = false;\\n    }\\n    ko.applyBindings(self.model, self.dom);\\n}\\n);\\n    (WebIO.importBlock({\\\"data\\\":[{\\\"name\\\":\\\"knockout\\\",\\\"type\\\":\\\"js\\\",\\\"url\\\":\\\"/assetserver/35f4d43e2555ad8a88ae9591d04e823cacc03091-knockout.js\\\"},{\\\"name\\\":\\\"knockout_punches\\\",\\\"type\\\":\\\"js\\\",\\\"url\\\":\\\"/assetserver/212cb19a1a73d7bf5eaf1488add347ceb95dcc99-knockout_punches.js\\\"}],\\\"type\\\":\\\"async_block\\\"})).then((imports) => handler.apply(this, imports));\\n}\\n\")])], Dict{Symbol,Any}(:className=>\"field interact-widget\")), Observable{Any} with 0 listeners. Value:\n",
       "Node{DOM}(DOM(:html, :div), Any[Plot{Plots.GRBackend() n=1}], Dict{Symbol,Any}(:className=>\"interact-flex-row interact-widget\"))], Dict{Symbol,Any}())"
      ]
     },
     "execution_count": 26,
     "metadata": {
      "application/vnd.webio.node+json": {
       "kernelId": "0ca5aa2d-926a-4118-bc3b-bea79555555d"
      }
     },
     "output_type": "execute_result"
    }
   ],
   "source": [
    "@manipulate for ω in 0:δ:2*pi, A in 0.1:0.1:1\n",
    "    plot(xs,[A*sin(ω+x) for x in xs],label=\"sin(x + $ω)\",title=\"Grafica interactiva\",ylim = (-1,1))\n",
    "end"
   ]
  },
  {
   "cell_type": "markdown",
   "metadata": {},
   "source": [
    "(ii) Para la función $x \\mapsto x^2$, dibuja la dinámica del método de Newton, dada una función $f$ y una condición inicial $x_0$. Para hacerlo, dibuja una recta entre cada $(x_n, 0)$ y $(x_n, f(x_n))$, así como entre $(x_{n+1}, f(x_{n+1})$ y $(x_{n+1}, 0)$. Hazlo interactivo con `Interact.jl` (dibujando los primeros $n$ pasos y cambiando $n$). Viendo la figura, interpreta geométricamente lo que está haciendo el método de Newton."
   ]
  },
  {
   "cell_type": "markdown",
   "metadata": {},
   "source": [
    "Primeramente graficamos la función original"
   ]
  },
  {
   "cell_type": "code",
   "execution_count": 31,
   "metadata": {},
   "outputs": [
    {
     "data": {
      "image/svg+xml": [
       "<?xml version=\"1.0\" encoding=\"utf-8\"?>\n",
       "<svg xmlns=\"http://www.w3.org/2000/svg\" xmlns:xlink=\"http://www.w3.org/1999/xlink\" width=\"600\" height=\"400\" viewBox=\"0 0 2400 1600\">\n",
       "<defs>\n",
       "  <clipPath id=\"clip1200\">\n",
       "    <rect x=\"0\" y=\"0\" width=\"2400\" height=\"1600\"/>\n",
       "  </clipPath>\n",
       "</defs>\n",
       "<polygon clip-path=\"url(#clip1200)\" points=\"\n",
       "0,1600 2400,1600 2400,0 0,0 \n",
       "  \" fill=\"#ffffff\" fill-rule=\"evenodd\" fill-opacity=\"1\"/>\n",
       "<defs>\n",
       "  <clipPath id=\"clip1201\">\n",
       "    <rect x=\"480\" y=\"0\" width=\"1681\" height=\"1600\"/>\n",
       "  </clipPath>\n",
       "</defs>\n",
       "<polygon clip-path=\"url(#clip1200)\" points=\"\n",
       "174.775,1503.47 2321.26,1503.47 2321.26,47.2441 174.775,47.2441 \n",
       "  \" fill=\"#ffffff\" fill-rule=\"evenodd\" fill-opacity=\"1\"/>\n",
       "<defs>\n",
       "  <clipPath id=\"clip1202\">\n",
       "    <rect x=\"174\" y=\"47\" width=\"2147\" height=\"1457\"/>\n",
       "  </clipPath>\n",
       "</defs>\n",
       "<polyline clip-path=\"url(#clip1202)\" style=\"stroke:#000000; stroke-width:2; stroke-opacity:0.1; fill:none\" points=\"\n",
       "  235.525,1503.47 235.525,47.2441 \n",
       "  \"/>\n",
       "<polyline clip-path=\"url(#clip1202)\" style=\"stroke:#000000; stroke-width:2; stroke-opacity:0.1; fill:none\" points=\"\n",
       "  741.771,1503.47 741.771,47.2441 \n",
       "  \"/>\n",
       "<polyline clip-path=\"url(#clip1202)\" style=\"stroke:#000000; stroke-width:2; stroke-opacity:0.1; fill:none\" points=\"\n",
       "  1248.02,1503.47 1248.02,47.2441 \n",
       "  \"/>\n",
       "<polyline clip-path=\"url(#clip1202)\" style=\"stroke:#000000; stroke-width:2; stroke-opacity:0.1; fill:none\" points=\"\n",
       "  1754.26,1503.47 1754.26,47.2441 \n",
       "  \"/>\n",
       "<polyline clip-path=\"url(#clip1202)\" style=\"stroke:#000000; stroke-width:2; stroke-opacity:0.1; fill:none\" points=\"\n",
       "  2260.51,1503.47 2260.51,47.2441 \n",
       "  \"/>\n",
       "<polyline clip-path=\"url(#clip1202)\" style=\"stroke:#000000; stroke-width:2; stroke-opacity:0.1; fill:none\" points=\"\n",
       "  174.775,1462.26 2321.26,1462.26 \n",
       "  \"/>\n",
       "<polyline clip-path=\"url(#clip1202)\" style=\"stroke:#000000; stroke-width:2; stroke-opacity:0.1; fill:none\" points=\"\n",
       "  174.775,1118.81 2321.26,1118.81 \n",
       "  \"/>\n",
       "<polyline clip-path=\"url(#clip1202)\" style=\"stroke:#000000; stroke-width:2; stroke-opacity:0.1; fill:none\" points=\"\n",
       "  174.775,775.359 2321.26,775.359 \n",
       "  \"/>\n",
       "<polyline clip-path=\"url(#clip1202)\" style=\"stroke:#000000; stroke-width:2; stroke-opacity:0.1; fill:none\" points=\"\n",
       "  174.775,431.909 2321.26,431.909 \n",
       "  \"/>\n",
       "<polyline clip-path=\"url(#clip1202)\" style=\"stroke:#000000; stroke-width:2; stroke-opacity:0.1; fill:none\" points=\"\n",
       "  174.775,88.4582 2321.26,88.4582 \n",
       "  \"/>\n",
       "<polyline clip-path=\"url(#clip1200)\" style=\"stroke:#000000; stroke-width:4; stroke-opacity:1; fill:none\" points=\"\n",
       "  174.775,1503.47 2321.26,1503.47 \n",
       "  \"/>\n",
       "<polyline clip-path=\"url(#clip1200)\" style=\"stroke:#000000; stroke-width:4; stroke-opacity:1; fill:none\" points=\"\n",
       "  174.775,1503.47 174.775,47.2441 \n",
       "  \"/>\n",
       "<polyline clip-path=\"url(#clip1200)\" style=\"stroke:#000000; stroke-width:4; stroke-opacity:1; fill:none\" points=\"\n",
       "  235.525,1503.47 235.525,1481.63 \n",
       "  \"/>\n",
       "<polyline clip-path=\"url(#clip1200)\" style=\"stroke:#000000; stroke-width:4; stroke-opacity:1; fill:none\" points=\"\n",
       "  741.771,1503.47 741.771,1481.63 \n",
       "  \"/>\n",
       "<polyline clip-path=\"url(#clip1200)\" style=\"stroke:#000000; stroke-width:4; stroke-opacity:1; fill:none\" points=\"\n",
       "  1248.02,1503.47 1248.02,1481.63 \n",
       "  \"/>\n",
       "<polyline clip-path=\"url(#clip1200)\" style=\"stroke:#000000; stroke-width:4; stroke-opacity:1; fill:none\" points=\"\n",
       "  1754.26,1503.47 1754.26,1481.63 \n",
       "  \"/>\n",
       "<polyline clip-path=\"url(#clip1200)\" style=\"stroke:#000000; stroke-width:4; stroke-opacity:1; fill:none\" points=\"\n",
       "  2260.51,1503.47 2260.51,1481.63 \n",
       "  \"/>\n",
       "<polyline clip-path=\"url(#clip1200)\" style=\"stroke:#000000; stroke-width:4; stroke-opacity:1; fill:none\" points=\"\n",
       "  174.775,1462.26 206.972,1462.26 \n",
       "  \"/>\n",
       "<polyline clip-path=\"url(#clip1200)\" style=\"stroke:#000000; stroke-width:4; stroke-opacity:1; fill:none\" points=\"\n",
       "  174.775,1118.81 206.972,1118.81 \n",
       "  \"/>\n",
       "<polyline clip-path=\"url(#clip1200)\" style=\"stroke:#000000; stroke-width:4; stroke-opacity:1; fill:none\" points=\"\n",
       "  174.775,775.359 206.972,775.359 \n",
       "  \"/>\n",
       "<polyline clip-path=\"url(#clip1200)\" style=\"stroke:#000000; stroke-width:4; stroke-opacity:1; fill:none\" points=\"\n",
       "  174.775,431.909 206.972,431.909 \n",
       "  \"/>\n",
       "<polyline clip-path=\"url(#clip1200)\" style=\"stroke:#000000; stroke-width:4; stroke-opacity:1; fill:none\" points=\"\n",
       "  174.775,88.4582 206.972,88.4582 \n",
       "  \"/>\n",
       "<g clip-path=\"url(#clip1200)\">\n",
       "<text style=\"fill:#000000; fill-opacity:1; font-family:Arial,Helvetica Neue,Helvetica,sans-serif; font-size:48px; text-anchor:middle;\" transform=\"rotate(0, 235.525, 1557.47)\" x=\"235.525\" y=\"1557.47\">0.0</text>\n",
       "</g>\n",
       "<g clip-path=\"url(#clip1200)\">\n",
       "<text style=\"fill:#000000; fill-opacity:1; font-family:Arial,Helvetica Neue,Helvetica,sans-serif; font-size:48px; text-anchor:middle;\" transform=\"rotate(0, 741.771, 1557.47)\" x=\"741.771\" y=\"1557.47\">2.5</text>\n",
       "</g>\n",
       "<g clip-path=\"url(#clip1200)\">\n",
       "<text style=\"fill:#000000; fill-opacity:1; font-family:Arial,Helvetica Neue,Helvetica,sans-serif; font-size:48px; text-anchor:middle;\" transform=\"rotate(0, 1248.02, 1557.47)\" x=\"1248.02\" y=\"1557.47\">5.0</text>\n",
       "</g>\n",
       "<g clip-path=\"url(#clip1200)\">\n",
       "<text style=\"fill:#000000; fill-opacity:1; font-family:Arial,Helvetica Neue,Helvetica,sans-serif; font-size:48px; text-anchor:middle;\" transform=\"rotate(0, 1754.26, 1557.47)\" x=\"1754.26\" y=\"1557.47\">7.5</text>\n",
       "</g>\n",
       "<g clip-path=\"url(#clip1200)\">\n",
       "<text style=\"fill:#000000; fill-opacity:1; font-family:Arial,Helvetica Neue,Helvetica,sans-serif; font-size:48px; text-anchor:middle;\" transform=\"rotate(0, 2260.51, 1557.47)\" x=\"2260.51\" y=\"1557.47\">10.0</text>\n",
       "</g>\n",
       "<g clip-path=\"url(#clip1200)\">\n",
       "<text style=\"fill:#000000; fill-opacity:1; font-family:Arial,Helvetica Neue,Helvetica,sans-serif; font-size:48px; text-anchor:end;\" transform=\"rotate(0, 150.775, 1479.76)\" x=\"150.775\" y=\"1479.76\">0</text>\n",
       "</g>\n",
       "<g clip-path=\"url(#clip1200)\">\n",
       "<text style=\"fill:#000000; fill-opacity:1; font-family:Arial,Helvetica Neue,Helvetica,sans-serif; font-size:48px; text-anchor:end;\" transform=\"rotate(0, 150.775, 1136.31)\" x=\"150.775\" y=\"1136.31\">25</text>\n",
       "</g>\n",
       "<g clip-path=\"url(#clip1200)\">\n",
       "<text style=\"fill:#000000; fill-opacity:1; font-family:Arial,Helvetica Neue,Helvetica,sans-serif; font-size:48px; text-anchor:end;\" transform=\"rotate(0, 150.775, 792.859)\" x=\"150.775\" y=\"792.859\">50</text>\n",
       "</g>\n",
       "<g clip-path=\"url(#clip1200)\">\n",
       "<text style=\"fill:#000000; fill-opacity:1; font-family:Arial,Helvetica Neue,Helvetica,sans-serif; font-size:48px; text-anchor:end;\" transform=\"rotate(0, 150.775, 449.409)\" x=\"150.775\" y=\"449.409\">75</text>\n",
       "</g>\n",
       "<g clip-path=\"url(#clip1200)\">\n",
       "<text style=\"fill:#000000; fill-opacity:1; font-family:Arial,Helvetica Neue,Helvetica,sans-serif; font-size:48px; text-anchor:end;\" transform=\"rotate(0, 150.775, 105.958)\" x=\"150.775\" y=\"105.958\">100</text>\n",
       "</g>\n",
       "<polyline clip-path=\"url(#clip1202)\" style=\"stroke:#009af9; stroke-width:4; stroke-opacity:1; fill:none\" points=\"\n",
       "  235.525,1462.26 255.775,1462.12 276.024,1461.71 296.274,1461.02 316.524,1460.06 336.774,1458.83 357.024,1457.31 377.274,1455.53 397.524,1453.47 417.773,1451.13 \n",
       "  438.023,1448.52 458.273,1445.64 478.523,1442.48 498.773,1439.04 519.023,1435.33 539.273,1431.35 559.522,1427.09 579.772,1422.56 600.022,1417.75 620.272,1412.67 \n",
       "  640.522,1407.31 660.772,1401.68 681.022,1395.77 701.271,1389.59 721.521,1383.13 741.771,1376.4 762.021,1369.39 782.271,1362.11 802.521,1354.55 822.771,1346.72 \n",
       "  843.02,1338.62 863.27,1330.24 883.52,1321.58 903.77,1312.65 924.02,1303.45 944.27,1293.97 964.52,1284.22 984.769,1274.19 1005.02,1263.88 1025.27,1253.31 \n",
       "  1045.52,1242.45 1065.77,1231.32 1086.02,1219.92 1106.27,1208.24 1126.52,1196.29 1146.77,1184.07 1167.02,1171.56 1187.27,1158.79 1207.52,1145.74 1227.77,1132.41 \n",
       "  1248.02,1118.81 1268.27,1104.93 1288.52,1090.78 1308.77,1076.36 1329.02,1061.66 1349.27,1046.69 1369.52,1031.44 1389.77,1015.91 1410.02,1000.11 1430.27,984.04 \n",
       "  1450.52,967.692 1470.77,951.069 1491.02,934.171 1511.27,916.998 1531.52,899.551 1551.77,881.829 1572.02,863.832 1592.27,845.561 1612.51,827.014 1632.76,808.193 \n",
       "  1653.01,789.097 1673.26,769.727 1693.51,750.081 1713.76,730.161 1734.01,709.966 1754.26,689.497 1774.51,668.752 1794.76,647.733 1815.01,626.439 1835.26,604.871 \n",
       "  1855.51,583.027 1875.76,560.909 1896.01,538.516 1916.26,515.848 1936.51,492.906 1956.76,469.688 1977.01,446.196 1997.26,422.43 2017.51,398.388 2037.76,374.072 \n",
       "  2058.01,349.481 2078.26,324.615 2098.51,299.474 2118.76,274.059 2139.01,248.369 2159.26,222.404 2179.51,196.164 2199.76,169.65 2220.01,142.861 2240.26,115.797 \n",
       "  2260.51,88.4582 \n",
       "  \"/>\n",
       "<polygon clip-path=\"url(#clip1200)\" points=\"\n",
       "1958.43,251.724 2249.26,251.724 2249.26,130.764 1958.43,130.764 \n",
       "  \" fill=\"#ffffff\" fill-rule=\"evenodd\" fill-opacity=\"1\"/>\n",
       "<polyline clip-path=\"url(#clip1200)\" style=\"stroke:#000000; stroke-width:4; stroke-opacity:1; fill:none\" points=\"\n",
       "  1958.43,251.724 2249.26,251.724 2249.26,130.764 1958.43,130.764 1958.43,251.724 \n",
       "  \"/>\n",
       "<polyline clip-path=\"url(#clip1200)\" style=\"stroke:#009af9; stroke-width:4; stroke-opacity:1; fill:none\" points=\"\n",
       "  1982.43,191.244 2126.43,191.244 \n",
       "  \"/>\n",
       "<g clip-path=\"url(#clip1200)\">\n",
       "<text style=\"fill:#000000; fill-opacity:1; font-family:Arial,Helvetica Neue,Helvetica,sans-serif; font-size:48px; text-anchor:start;\" transform=\"rotate(0, 2150.43, 208.744)\" x=\"2150.43\" y=\"208.744\">y1</text>\n",
       "</g>\n",
       "</svg>\n"
      ]
     },
     "execution_count": 31,
     "metadata": {},
     "output_type": "execute_result"
    }
   ],
   "source": [
    "g(x) = x^2\n",
    "dg(x) = 2x\n",
    "\n",
    "\n",
    "xs = [i for i in 0:0.1:10]\n",
    "plot(xs,[g(x) for x in xs])"
   ]
  },
  {
   "cell_type": "markdown",
   "metadata": {},
   "source": [
    "Usamos `Interact` para manipular la gráfica. Aquí podremos manipular el número de pasos que implementa el método de Newton; el mínimo de pasos es 1 y el máximo `n_pasos`"
   ]
  },
  {
   "cell_type": "code",
   "execution_count": 32,
   "metadata": {},
   "outputs": [
    {
     "data": {
      "application/vnd.webio.node+json": {
       "children": [
        {
         "children": [
          {
           "children": [
            {
             "children": [
              {
               "children": [
                {
                 "children": [
                  "n"
                 ],
                 "instanceArgs": {
                  "namespace": "html",
                  "tag": "label"
                 },
                 "nodeType": "DOM",
                 "props": {
                  "className": "interact ",
                  "style": {
                   "padding": "5px 10px 0px 10px"
                  }
                 },
                 "type": "node"
                }
               ],
               "instanceArgs": {
                "namespace": "html",
                "tag": "div"
               },
               "nodeType": "DOM",
               "props": {
                "className": "interact-flex-row-left"
               },
               "type": "node"
              },
              {
               "children": [
                {
                 "children": [],
                 "instanceArgs": {
                  "namespace": "html",
                  "tag": "input"
                 },
                 "nodeType": "DOM",
                 "props": {
                  "attributes": {
                   "data-bind": "numericValue: index, valueUpdate: 'input', event: {change: function (){this.changes(this.changes()+1)}}",
                   "orient": "horizontal",
                   "type": "range"
                  },
                  "className": "slider slider is-fullwidth",
                  "max": 20,
                  "min": 1,
                  "step": 1,
                  "style": {}
                 },
                 "type": "node"
                }
               ],
               "instanceArgs": {
                "namespace": "html",
                "tag": "div"
               },
               "nodeType": "DOM",
               "props": {
                "className": "interact-flex-row-center"
               },
               "type": "node"
              },
              {
               "children": [
                {
                 "children": [],
                 "instanceArgs": {
                  "namespace": "html",
                  "tag": "p"
                 },
                 "nodeType": "DOM",
                 "props": {
                  "attributes": {
                   "data-bind": "text: formatted_val"
                  }
                 },
                 "type": "node"
                }
               ],
               "instanceArgs": {
                "namespace": "html",
                "tag": "div"
               },
               "nodeType": "DOM",
               "props": {
                "className": "interact-flex-row-right"
               },
               "type": "node"
              }
             ],
             "instanceArgs": {
              "namespace": "html",
              "tag": "div"
             },
             "nodeType": "DOM",
             "props": {
              "className": "interact-flex-row interact-widget"
             },
             "type": "node"
            }
           ],
           "instanceArgs": {
            "handlers": {
             "changes": [
              "(function (val){return (val!=this.model[\"changes\"]()) ? (this.valueFromJulia[\"changes\"]=true, this.model[\"changes\"](val)) : undefined})"
             ],
             "index": [
              "(function (val){return (val!=this.model[\"index\"]()) ? (this.valueFromJulia[\"index\"]=true, this.model[\"index\"](val)) : undefined})"
             ]
            },
            "id": "12021689700405222950",
            "imports": {
             "data": [
              {
               "name": "knockout",
               "type": "js",
               "url": "/assetserver/35f4d43e2555ad8a88ae9591d04e823cacc03091-knockout.js"
              },
              {
               "name": "knockout_punches",
               "type": "js",
               "url": "/assetserver/212cb19a1a73d7bf5eaf1488add347ceb95dcc99-knockout_punches.js"
              },
              {
               "name": null,
               "type": "js",
               "url": "/assetserver/e1bb4630ca71ac3ffa8d6829f92a4606757b4d51-all.js"
              },
              {
               "name": null,
               "type": "css",
               "url": "/assetserver/104f757bcab7611333aa355119747185c1f822ef-style.css"
              },
              {
               "name": null,
               "type": "css",
               "url": "/assetserver/e89867c5e417d47e9fb5dede3dbfe9f8bed959b8-bulma_confined.min.css"
              }
             ],
             "type": "async_block"
            },
            "mount_callbacks": [
             "function () {\n    var handler = (function (ko, koPunches) {\n    ko.punches.enableAll();\n    ko.bindingHandlers.numericValue = {\n        init: function(element, valueAccessor, allBindings, data, context) {\n            var stringified = ko.observable(ko.unwrap(valueAccessor()));\n            stringified.subscribe(function(value) {\n                var val = parseFloat(value);\n                if (!isNaN(val)) {\n                    valueAccessor()(val);\n                }\n            });\n            valueAccessor().subscribe(function(value) {\n                var str = JSON.stringify(value);\n                if ((str == \"0\") && ([\"-0\", \"-0.\"].indexOf(stringified()) >= 0))\n                     return;\n                 if ([\"null\", \"\"].indexOf(str) >= 0)\n                     return;\n                stringified(str);\n            });\n            ko.applyBindingsToNode(\n                element,\n                {\n                    value: stringified,\n                    valueUpdate: allBindings.get('valueUpdate'),\n                },\n                context,\n            );\n        }\n    };\n    var json_data = {\"formatted_vals\":[\"1\",\"2\",\"3\",\"4\",\"5\",\"6\",\"7\",\"8\",\"9\",\"10\",\"11\",\"12\",\"13\",\"14\",\"15\",\"16\",\"17\",\"18\",\"19\",\"20\"],\"changes\":WebIO.getval({\"name\":\"changes\",\"scope\":\"12021689700405222950\",\"id\":\"ob_55\",\"type\":\"observable\"}),\"index\":WebIO.getval({\"name\":\"index\",\"scope\":\"12021689700405222950\",\"id\":\"ob_54\",\"type\":\"observable\"})};\n    var self = this;\n    function AppViewModel() {\n        for (var key in json_data) {\n            var el = json_data[key];\n            this[key] = Array.isArray(el) ? ko.observableArray(el) : ko.observable(el);\n        }\n        \n        [this[\"formatted_val\"]=ko.computed(    function(){\n        return this.formatted_vals()[parseInt(this.index())-(1)];\n    }\n,this)]\n        [this[\"changes\"].subscribe((function (val){!(this.valueFromJulia[\"changes\"]) ? (WebIO.setval({\"name\":\"changes\",\"scope\":\"12021689700405222950\",\"id\":\"ob_55\",\"type\":\"observable\"},val)) : undefined; return this.valueFromJulia[\"changes\"]=false}),self),this[\"index\"].subscribe((function (val){!(this.valueFromJulia[\"index\"]) ? (WebIO.setval({\"name\":\"index\",\"scope\":\"12021689700405222950\",\"id\":\"ob_54\",\"type\":\"observable\"},val)) : undefined; return this.valueFromJulia[\"index\"]=false}),self)]\n        \n    }\n    self.model = new AppViewModel();\n    self.valueFromJulia = {};\n    for (var key in json_data) {\n        self.valueFromJulia[key] = false;\n    }\n    ko.applyBindings(self.model, self.dom);\n}\n);\n    (WebIO.importBlock({\"data\":[{\"name\":\"knockout\",\"type\":\"js\",\"url\":\"/assetserver/35f4d43e2555ad8a88ae9591d04e823cacc03091-knockout.js\"},{\"name\":\"knockout_punches\",\"type\":\"js\",\"url\":\"/assetserver/212cb19a1a73d7bf5eaf1488add347ceb95dcc99-knockout_punches.js\"}],\"type\":\"async_block\"})).then((imports) => handler.apply(this, imports));\n}\n"
            ],
            "observables": {
             "changes": {
              "id": "ob_55",
              "sync": false,
              "value": 0
             },
             "index": {
              "id": "ob_54",
              "sync": true,
              "value": 10
             }
            },
            "systemjs_options": null
           },
           "nodeType": "Scope",
           "props": {},
           "type": "node"
          }
         ],
         "instanceArgs": {
          "namespace": "html",
          "tag": "div"
         },
         "nodeType": "DOM",
         "props": {
          "className": "field interact-widget"
         },
         "type": "node"
        },
        {
         "children": [
          {
           "children": [],
           "instanceArgs": {
            "id": "ob_61",
            "name": "obs-node"
           },
           "nodeType": "ObservableNode",
           "props": {},
           "type": "node"
          }
         ],
         "instanceArgs": {
          "handlers": {},
          "id": "550616954603664343",
          "imports": {
           "data": [],
           "type": "async_block"
          },
          "mount_callbacks": [],
          "observables": {
           "obs-node": {
            "id": "ob_61",
            "sync": false,
            "value": {
             "children": [
              {
               "children": [],
               "instanceArgs": {
                "namespace": "html",
                "tag": "div"
               },
               "nodeType": "DOM",
               "props": {
                "setInnerHtml": "<?xml version=\"1.0\" encoding=\"utf-8\"?>\n<svg xmlns=\"http://www.w3.org/2000/svg\" xmlns:xlink=\"http://www.w3.org/1999/xlink\" width=\"600\" height=\"400\" viewBox=\"0 0 2400 1600\">\n<defs>\n  <clipPath id=\"clip2000\">\n    <rect x=\"0\" y=\"0\" width=\"2400\" height=\"1600\"/>\n  </clipPath>\n</defs>\n<polygon clip-path=\"url(#clip2000)\" points=\"\n0,1600 2400,1600 2400,0 0,0 \n  \" fill=\"#ffffff\" fill-rule=\"evenodd\" fill-opacity=\"1\"/>\n<defs>\n  <clipPath id=\"clip2001\">\n    <rect x=\"480\" y=\"0\" width=\"1681\" height=\"1600\"/>\n  </clipPath>\n</defs>\n<polygon clip-path=\"url(#clip2000)\" points=\"\n174.775,1503.47 2321.26,1503.47 2321.26,47.2441 174.775,47.2441 \n  \" fill=\"#ffffff\" fill-rule=\"evenodd\" fill-opacity=\"1\"/>\n<defs>\n  <clipPath id=\"clip2002\">\n    <rect x=\"174\" y=\"47\" width=\"2147\" height=\"1457\"/>\n  </clipPath>\n</defs>\n<polyline clip-path=\"url(#clip2002)\" style=\"stroke:#000000; stroke-width:2; stroke-opacity:0.1; fill:none\" points=\"\n  235.525,1503.47 235.525,47.2441 \n  \"/>\n<polyline clip-path=\"url(#clip2002)\" style=\"stroke:#000000; stroke-width:2; stroke-opacity:0.1; fill:none\" points=\"\n  741.771,1503.47 741.771,47.2441 \n  \"/>\n<polyline clip-path=\"url(#clip2002)\" style=\"stroke:#000000; stroke-width:2; stroke-opacity:0.1; fill:none\" points=\"\n  1248.02,1503.47 1248.02,47.2441 \n  \"/>\n<polyline clip-path=\"url(#clip2002)\" style=\"stroke:#000000; stroke-width:2; stroke-opacity:0.1; fill:none\" points=\"\n  1754.26,1503.47 1754.26,47.2441 \n  \"/>\n<polyline clip-path=\"url(#clip2002)\" style=\"stroke:#000000; stroke-width:2; stroke-opacity:0.1; fill:none\" points=\"\n  2260.51,1503.47 2260.51,47.2441 \n  \"/>\n<polyline clip-path=\"url(#clip2002)\" style=\"stroke:#000000; stroke-width:2; stroke-opacity:0.1; fill:none\" points=\"\n  174.775,1503.47 2321.26,1503.47 \n  \"/>\n<polyline clip-path=\"url(#clip2002)\" style=\"stroke:#000000; stroke-width:2; stroke-opacity:0.1; fill:none\" points=\"\n  174.775,1212.23 2321.26,1212.23 \n  \"/>\n<polyline clip-path=\"url(#clip2002)\" style=\"stroke:#000000; stroke-width:2; stroke-opacity:0.1; fill:none\" points=\"\n  174.775,920.982 2321.26,920.982 \n  \"/>\n<polyline clip-path=\"url(#clip2002)\" style=\"stroke:#000000; stroke-width:2; stroke-opacity:0.1; fill:none\" points=\"\n  174.775,629.736 2321.26,629.736 \n  \"/>\n<polyline clip-path=\"url(#clip2002)\" style=\"stroke:#000000; stroke-width:2; stroke-opacity:0.1; fill:none\" points=\"\n  174.775,338.49 2321.26,338.49 \n  \"/>\n<polyline clip-path=\"url(#clip2002)\" style=\"stroke:#000000; stroke-width:2; stroke-opacity:0.1; fill:none\" points=\"\n  174.775,47.2441 2321.26,47.2441 \n  \"/>\n<polyline clip-path=\"url(#clip2000)\" style=\"stroke:#000000; stroke-width:4; stroke-opacity:1; fill:none\" points=\"\n  174.775,1503.47 2321.26,1503.47 \n  \"/>\n<polyline clip-path=\"url(#clip2000)\" style=\"stroke:#000000; stroke-width:4; stroke-opacity:1; fill:none\" points=\"\n  174.775,1503.47 174.775,47.2441 \n  \"/>\n<polyline clip-path=\"url(#clip2000)\" style=\"stroke:#000000; stroke-width:4; stroke-opacity:1; fill:none\" points=\"\n  235.525,1503.47 235.525,1481.63 \n  \"/>\n<polyline clip-path=\"url(#clip2000)\" style=\"stroke:#000000; stroke-width:4; stroke-opacity:1; fill:none\" points=\"\n  741.771,1503.47 741.771,1481.63 \n  \"/>\n<polyline clip-path=\"url(#clip2000)\" style=\"stroke:#000000; stroke-width:4; stroke-opacity:1; fill:none\" points=\"\n  1248.02,1503.47 1248.02,1481.63 \n  \"/>\n<polyline clip-path=\"url(#clip2000)\" style=\"stroke:#000000; stroke-width:4; stroke-opacity:1; fill:none\" points=\"\n  1754.26,1503.47 1754.26,1481.63 \n  \"/>\n<polyline clip-path=\"url(#clip2000)\" style=\"stroke:#000000; stroke-width:4; stroke-opacity:1; fill:none\" points=\"\n  2260.51,1503.47 2260.51,1481.63 \n  \"/>\n<polyline clip-path=\"url(#clip2000)\" style=\"stroke:#000000; stroke-width:4; stroke-opacity:1; fill:none\" points=\"\n  174.775,1503.47 206.972,1503.47 \n  \"/>\n<polyline clip-path=\"url(#clip2000)\" style=\"stroke:#000000; stroke-width:4; stroke-opacity:1; fill:none\" points=\"\n  174.775,1212.23 206.972,1212.23 \n  \"/>\n<polyline clip-path=\"url(#clip2000)\" style=\"stroke:#000000; stroke-width:4; stroke-opacity:1; fill:none\" points=\"\n  174.775,920.982 206.972,920.982 \n  \"/>\n<polyline clip-path=\"url(#clip2000)\" style=\"stroke:#000000; stroke-width:4; stroke-opacity:1; fill:none\" points=\"\n  174.775,629.736 206.972,629.736 \n  \"/>\n<polyline clip-path=\"url(#clip2000)\" style=\"stroke:#000000; stroke-width:4; stroke-opacity:1; fill:none\" points=\"\n  174.775,338.49 206.972,338.49 \n  \"/>\n<polyline clip-path=\"url(#clip2000)\" style=\"stroke:#000000; stroke-width:4; stroke-opacity:1; fill:none\" points=\"\n  174.775,47.2441 206.972,47.2441 \n  \"/>\n<g clip-path=\"url(#clip2000)\">\n<text style=\"fill:#000000; fill-opacity:1; font-family:Arial,Helvetica Neue,Helvetica,sans-serif; font-size:48px; text-anchor:middle;\" transform=\"rotate(0, 235.525, 1557.47)\" x=\"235.525\" y=\"1557.47\">0.0</text>\n</g>\n<g clip-path=\"url(#clip2000)\">\n<text style=\"fill:#000000; fill-opacity:1; font-family:Arial,Helvetica Neue,Helvetica,sans-serif; font-size:48px; text-anchor:middle;\" transform=\"rotate(0, 741.771, 1557.47)\" x=\"741.771\" y=\"1557.47\">2.5</text>\n</g>\n<g clip-path=\"url(#clip2000)\">\n<text style=\"fill:#000000; fill-opacity:1; font-family:Arial,Helvetica Neue,Helvetica,sans-serif; font-size:48px; text-anchor:middle;\" transform=\"rotate(0, 1248.02, 1557.47)\" x=\"1248.02\" y=\"1557.47\">5.0</text>\n</g>\n<g clip-path=\"url(#clip2000)\">\n<text style=\"fill:#000000; fill-opacity:1; font-family:Arial,Helvetica Neue,Helvetica,sans-serif; font-size:48px; text-anchor:middle;\" transform=\"rotate(0, 1754.26, 1557.47)\" x=\"1754.26\" y=\"1557.47\">7.5</text>\n</g>\n<g clip-path=\"url(#clip2000)\">\n<text style=\"fill:#000000; fill-opacity:1; font-family:Arial,Helvetica Neue,Helvetica,sans-serif; font-size:48px; text-anchor:middle;\" transform=\"rotate(0, 2260.51, 1557.47)\" x=\"2260.51\" y=\"1557.47\">10.0</text>\n</g>\n<g clip-path=\"url(#clip2000)\">\n<text style=\"fill:#000000; fill-opacity:1; font-family:Arial,Helvetica Neue,Helvetica,sans-serif; font-size:48px; text-anchor:end;\" transform=\"rotate(0, 150.775, 1520.97)\" x=\"150.775\" y=\"1520.97\">0</text>\n</g>\n<g clip-path=\"url(#clip2000)\">\n<text style=\"fill:#000000; fill-opacity:1; font-family:Arial,Helvetica Neue,Helvetica,sans-serif; font-size:48px; text-anchor:end;\" transform=\"rotate(0, 150.775, 1229.73)\" x=\"150.775\" y=\"1229.73\">20</text>\n</g>\n<g clip-path=\"url(#clip2000)\">\n<text style=\"fill:#000000; fill-opacity:1; font-family:Arial,Helvetica Neue,Helvetica,sans-serif; font-size:48px; text-anchor:end;\" transform=\"rotate(0, 150.775, 938.482)\" x=\"150.775\" y=\"938.482\">40</text>\n</g>\n<g clip-path=\"url(#clip2000)\">\n<text style=\"fill:#000000; fill-opacity:1; font-family:Arial,Helvetica Neue,Helvetica,sans-serif; font-size:48px; text-anchor:end;\" transform=\"rotate(0, 150.775, 647.236)\" x=\"150.775\" y=\"647.236\">60</text>\n</g>\n<g clip-path=\"url(#clip2000)\">\n<text style=\"fill:#000000; fill-opacity:1; font-family:Arial,Helvetica Neue,Helvetica,sans-serif; font-size:48px; text-anchor:end;\" transform=\"rotate(0, 150.775, 355.99)\" x=\"150.775\" y=\"355.99\">80</text>\n</g>\n<g clip-path=\"url(#clip2000)\">\n<text style=\"fill:#000000; fill-opacity:1; font-family:Arial,Helvetica Neue,Helvetica,sans-serif; font-size:48px; text-anchor:end;\" transform=\"rotate(0, 150.775, 64.7441)\" x=\"150.775\" y=\"64.7441\">100</text>\n</g>\n<polyline clip-path=\"url(#clip2002)\" style=\"stroke:#009af9; stroke-width:4; stroke-opacity:1; fill:none\" points=\"\n  235.525,1503.47 255.775,1503.33 276.024,1502.89 296.274,1502.16 316.524,1501.14 336.774,1499.83 357.024,1498.23 377.274,1496.34 397.524,1494.15 417.773,1491.68 \n  438.023,1488.91 458.273,1485.85 478.523,1482.51 498.773,1478.86 519.023,1474.93 539.273,1470.71 559.522,1466.2 579.772,1461.39 600.022,1456.29 620.272,1450.9 \n  640.522,1445.23 660.772,1439.25 681.022,1432.99 701.271,1426.44 721.521,1419.6 741.771,1412.46 762.021,1405.03 782.271,1397.32 802.521,1389.31 822.771,1381.01 \n  843.02,1372.41 863.27,1363.53 883.52,1354.36 903.77,1344.89 924.02,1335.13 944.27,1325.09 964.52,1314.75 984.769,1304.12 1005.02,1293.2 1025.27,1281.98 \n  1045.52,1270.48 1065.77,1258.68 1086.02,1246.6 1106.27,1234.22 1126.52,1221.55 1146.77,1208.59 1167.02,1195.34 1187.27,1181.79 1207.52,1167.96 1227.77,1153.83 \n  1248.02,1139.42 1268.27,1124.71 1288.52,1109.71 1308.77,1094.42 1329.02,1078.84 1349.27,1062.96 1369.52,1046.8 1389.77,1030.35 1410.02,1013.6 1430.27,996.561 \n  1450.52,979.232 1470.77,961.611 1491.02,943.7 1511.27,925.497 1531.52,907.003 1551.77,888.217 1572.02,869.141 1592.27,849.773 1612.51,830.114 1632.76,810.163 \n  1653.01,789.922 1673.26,769.389 1693.51,748.565 1713.76,727.449 1734.01,706.043 1754.26,684.345 1774.51,662.356 1794.76,640.076 1815.01,617.504 1835.26,594.641 \n  1855.51,571.487 1875.76,548.042 1896.01,524.305 1916.26,500.277 1936.51,475.958 1956.76,451.348 1977.01,426.447 1997.26,401.254 2017.51,375.77 2037.76,349.994 \n  2058.01,323.928 2078.26,297.57 2098.51,270.921 2118.76,243.981 2139.01,216.749 2159.26,189.227 2179.51,161.413 2199.76,133.307 2220.01,104.911 2240.26,76.2231 \n  2260.51,47.2441 \n  \"/>\n<polyline clip-path=\"url(#clip2002)\" style=\"stroke:#e26f46; stroke-width:4; stroke-opacity:1; fill:none\" points=\"\n  243.039,1503.47 243.039,1503.45 239.282,1503.47 239.282,1503.47 \n  \"/>\n<circle clip-path=\"url(#clip2002)\" style=\"fill:#000000; stroke:none; fill-opacity:1\" cx=\"243.039\" cy=\"1503.47\" r=\"18\"/>\n<circle clip-path=\"url(#clip2002)\" style=\"fill:#e26f46; stroke:none; fill-opacity:1\" cx=\"243.039\" cy=\"1503.47\" r=\"14\"/>\n<circle clip-path=\"url(#clip2002)\" style=\"fill:#000000; stroke:none; fill-opacity:1\" cx=\"243.039\" cy=\"1503.45\" r=\"18\"/>\n<circle clip-path=\"url(#clip2002)\" style=\"fill:#e26f46; stroke:none; fill-opacity:1\" cx=\"243.039\" cy=\"1503.45\" r=\"14\"/>\n<circle clip-path=\"url(#clip2002)\" style=\"fill:#000000; stroke:none; fill-opacity:1\" cx=\"239.282\" cy=\"1503.47\" r=\"18\"/>\n<circle clip-path=\"url(#clip2002)\" style=\"fill:#e26f46; stroke:none; fill-opacity:1\" cx=\"239.282\" cy=\"1503.47\" r=\"14\"/>\n<circle clip-path=\"url(#clip2002)\" style=\"fill:#000000; stroke:none; fill-opacity:1\" cx=\"239.282\" cy=\"1503.47\" r=\"18\"/>\n<circle clip-path=\"url(#clip2002)\" style=\"fill:#e26f46; stroke:none; fill-opacity:1\" cx=\"239.282\" cy=\"1503.47\" r=\"14\"/>\n<polygon clip-path=\"url(#clip2000)\" points=\"\n1041.77,312.204 2249.26,312.204 2249.26,130.764 1041.77,130.764 \n  \" fill=\"#ffffff\" fill-rule=\"evenodd\" fill-opacity=\"1\"/>\n<polyline clip-path=\"url(#clip2000)\" style=\"stroke:#000000; stroke-width:4; stroke-opacity:1; fill:none\" points=\"\n  1041.77,312.204 2249.26,312.204 2249.26,130.764 1041.77,130.764 1041.77,312.204 \n  \"/>\n<polyline clip-path=\"url(#clip2000)\" style=\"stroke:#009af9; stroke-width:4; stroke-opacity:1; fill:none\" points=\"\n  1065.77,191.244 1209.77,191.244 \n  \"/>\n<g clip-path=\"url(#clip2000)\">\n<text style=\"fill:#000000; fill-opacity:1; font-family:Arial,Helvetica Neue,Helvetica,sans-serif; font-size:48px; text-anchor:start;\" transform=\"rotate(0, 1233.77, 208.744)\" x=\"1233.77\" y=\"208.744\">y1</text>\n</g>\n<polyline clip-path=\"url(#clip2000)\" style=\"stroke:#e26f46; stroke-width:4; stroke-opacity:1; fill:none\" points=\"\n  1065.77,251.724 1209.77,251.724 \n  \"/>\n<circle clip-path=\"url(#clip2000)\" style=\"fill:#000000; stroke:none; fill-opacity:1\" cx=\"1149.77\" cy=\"251.724\" r=\"25\"/>\n<circle clip-path=\"url(#clip2000)\" style=\"fill:#e26f46; stroke:none; fill-opacity:1\" cx=\"1149.77\" cy=\"251.724\" r=\"21\"/>\n<g clip-path=\"url(#clip2000)\">\n<text style=\"fill:#000000; fill-opacity:1; font-family:Arial,Helvetica Neue,Helvetica,sans-serif; font-size:48px; text-anchor:start;\" transform=\"rotate(0, 1233.77, 269.224)\" x=\"1233.77\" y=\"269.224\">x_{n+1} = 0.0185546875, x_n = 0.037109375</text>\n</g>\n</svg>\n"
               },
               "type": "node"
              }
             ],
             "instanceArgs": {
              "namespace": "html",
              "tag": "div"
             },
             "nodeType": "DOM",
             "props": {
              "className": "interact-flex-row interact-widget"
             },
             "type": "node"
            }
           }
          },
          "systemjs_options": null
         },
         "nodeType": "Scope",
         "props": {},
         "type": "node"
        }
       ],
       "instanceArgs": {
        "namespace": "html",
        "tag": "div"
       },
       "nodeType": "DOM",
       "props": {},
       "type": "node"
      },
      "text/html": [
       "<div\n",
       "    class=\"webio-mountpoint\"\n",
       "    data-webio-mountpoint=\"6059154227984109935\"\n",
       ">\n",
       "    <script>\n",
       "    if (window.require && require.defined && require.defined(\"nbextensions/webio/main\")) {\n",
       "        console.log(\"Jupyter WebIO extension detected, not mounting.\");\n",
       "    } else if (window.WebIO) {\n",
       "        WebIO.mount(\n",
       "            document.querySelector('[data-webio-mountpoint=\"6059154227984109935\"]'),\n",
       "            {\"props\":{},\"nodeType\":\"DOM\",\"type\":\"node\",\"instanceArgs\":{\"namespace\":\"html\",\"tag\":\"div\"},\"children\":[{\"props\":{\"className\":\"field interact-widget\"},\"nodeType\":\"DOM\",\"type\":\"node\",\"instanceArgs\":{\"namespace\":\"html\",\"tag\":\"div\"},\"children\":[{\"props\":{},\"nodeType\":\"Scope\",\"type\":\"node\",\"instanceArgs\":{\"imports\":{\"data\":[{\"name\":\"knockout\",\"type\":\"js\",\"url\":\"\\/assetserver\\/35f4d43e2555ad8a88ae9591d04e823cacc03091-knockout.js\"},{\"name\":\"knockout_punches\",\"type\":\"js\",\"url\":\"\\/assetserver\\/212cb19a1a73d7bf5eaf1488add347ceb95dcc99-knockout_punches.js\"},{\"name\":null,\"type\":\"js\",\"url\":\"\\/assetserver\\/e1bb4630ca71ac3ffa8d6829f92a4606757b4d51-all.js\"},{\"name\":null,\"type\":\"css\",\"url\":\"\\/assetserver\\/104f757bcab7611333aa355119747185c1f822ef-style.css\"},{\"name\":null,\"type\":\"css\",\"url\":\"\\/assetserver\\/e89867c5e417d47e9fb5dede3dbfe9f8bed959b8-bulma_confined.min.css\"}],\"type\":\"async_block\"},\"id\":\"12021689700405222950\",\"handlers\":{\"changes\":[\"(function (val){return (val!=this.model[\\\"changes\\\"]()) ? (this.valueFromJulia[\\\"changes\\\"]=true, this.model[\\\"changes\\\"](val)) : undefined})\"],\"index\":[\"(function (val){return (val!=this.model[\\\"index\\\"]()) ? (this.valueFromJulia[\\\"index\\\"]=true, this.model[\\\"index\\\"](val)) : undefined})\"]},\"systemjs_options\":null,\"mount_callbacks\":[\"function () {\\n    var handler = (function (ko, koPunches) {\\n    ko.punches.enableAll();\\n    ko.bindingHandlers.numericValue = {\\n        init: function(element, valueAccessor, allBindings, data, context) {\\n            var stringified = ko.observable(ko.unwrap(valueAccessor()));\\n            stringified.subscribe(function(value) {\\n                var val = parseFloat(value);\\n                if (!isNaN(val)) {\\n                    valueAccessor()(val);\\n                }\\n            });\\n            valueAccessor().subscribe(function(value) {\\n                var str = JSON.stringify(value);\\n                if ((str == \\\"0\\\") && ([\\\"-0\\\", \\\"-0.\\\"].indexOf(stringified()) >= 0))\\n                     return;\\n                 if ([\\\"null\\\", \\\"\\\"].indexOf(str) >= 0)\\n                     return;\\n                stringified(str);\\n            });\\n            ko.applyBindingsToNode(\\n                element,\\n                {\\n                    value: stringified,\\n                    valueUpdate: allBindings.get('valueUpdate'),\\n                },\\n                context,\\n            );\\n        }\\n    };\\n    var json_data = {\\\"formatted_vals\\\":[\\\"1\\\",\\\"2\\\",\\\"3\\\",\\\"4\\\",\\\"5\\\",\\\"6\\\",\\\"7\\\",\\\"8\\\",\\\"9\\\",\\\"10\\\",\\\"11\\\",\\\"12\\\",\\\"13\\\",\\\"14\\\",\\\"15\\\",\\\"16\\\",\\\"17\\\",\\\"18\\\",\\\"19\\\",\\\"20\\\"],\\\"changes\\\":WebIO.getval({\\\"name\\\":\\\"changes\\\",\\\"scope\\\":\\\"12021689700405222950\\\",\\\"id\\\":\\\"ob_55\\\",\\\"type\\\":\\\"observable\\\"}),\\\"index\\\":WebIO.getval({\\\"name\\\":\\\"index\\\",\\\"scope\\\":\\\"12021689700405222950\\\",\\\"id\\\":\\\"ob_54\\\",\\\"type\\\":\\\"observable\\\"})};\\n    var self = this;\\n    function AppViewModel() {\\n        for (var key in json_data) {\\n            var el = json_data[key];\\n            this[key] = Array.isArray(el) ? ko.observableArray(el) : ko.observable(el);\\n        }\\n        \\n        [this[\\\"formatted_val\\\"]=ko.computed(    function(){\\n        return this.formatted_vals()[parseInt(this.index())-(1)];\\n    }\\n,this)]\\n        [this[\\\"changes\\\"].subscribe((function (val){!(this.valueFromJulia[\\\"changes\\\"]) ? (WebIO.setval({\\\"name\\\":\\\"changes\\\",\\\"scope\\\":\\\"12021689700405222950\\\",\\\"id\\\":\\\"ob_55\\\",\\\"type\\\":\\\"observable\\\"},val)) : undefined; return this.valueFromJulia[\\\"changes\\\"]=false}),self),this[\\\"index\\\"].subscribe((function (val){!(this.valueFromJulia[\\\"index\\\"]) ? (WebIO.setval({\\\"name\\\":\\\"index\\\",\\\"scope\\\":\\\"12021689700405222950\\\",\\\"id\\\":\\\"ob_54\\\",\\\"type\\\":\\\"observable\\\"},val)) : undefined; return this.valueFromJulia[\\\"index\\\"]=false}),self)]\\n        \\n    }\\n    self.model = new AppViewModel();\\n    self.valueFromJulia = {};\\n    for (var key in json_data) {\\n        self.valueFromJulia[key] = false;\\n    }\\n    ko.applyBindings(self.model, self.dom);\\n}\\n);\\n    (WebIO.importBlock({\\\"data\\\":[{\\\"name\\\":\\\"knockout\\\",\\\"type\\\":\\\"js\\\",\\\"url\\\":\\\"\\/assetserver\\/35f4d43e2555ad8a88ae9591d04e823cacc03091-knockout.js\\\"},{\\\"name\\\":\\\"knockout_punches\\\",\\\"type\\\":\\\"js\\\",\\\"url\\\":\\\"\\/assetserver\\/212cb19a1a73d7bf5eaf1488add347ceb95dcc99-knockout_punches.js\\\"}],\\\"type\\\":\\\"async_block\\\"})).then((imports) => handler.apply(this, imports));\\n}\\n\"],\"observables\":{\"changes\":{\"sync\":false,\"id\":\"ob_55\",\"value\":0},\"index\":{\"sync\":true,\"id\":\"ob_54\",\"value\":10}}},\"children\":[{\"props\":{\"className\":\"interact-flex-row interact-widget\"},\"nodeType\":\"DOM\",\"type\":\"node\",\"instanceArgs\":{\"namespace\":\"html\",\"tag\":\"div\"},\"children\":[{\"props\":{\"className\":\"interact-flex-row-left\"},\"nodeType\":\"DOM\",\"type\":\"node\",\"instanceArgs\":{\"namespace\":\"html\",\"tag\":\"div\"},\"children\":[{\"props\":{\"className\":\"interact \",\"style\":{\"padding\":\"5px 10px 0px 10px\"}},\"nodeType\":\"DOM\",\"type\":\"node\",\"instanceArgs\":{\"namespace\":\"html\",\"tag\":\"label\"},\"children\":[\"n\"]}]},{\"props\":{\"className\":\"interact-flex-row-center\"},\"nodeType\":\"DOM\",\"type\":\"node\",\"instanceArgs\":{\"namespace\":\"html\",\"tag\":\"div\"},\"children\":[{\"props\":{\"max\":20,\"min\":1,\"attributes\":{\"type\":\"range\",\"data-bind\":\"numericValue: index, valueUpdate: 'input', event: {change: function (){this.changes(this.changes()+1)}}\",\"orient\":\"horizontal\"},\"step\":1,\"className\":\"slider slider is-fullwidth\",\"style\":{}},\"nodeType\":\"DOM\",\"type\":\"node\",\"instanceArgs\":{\"namespace\":\"html\",\"tag\":\"input\"},\"children\":[]}]},{\"props\":{\"className\":\"interact-flex-row-right\"},\"nodeType\":\"DOM\",\"type\":\"node\",\"instanceArgs\":{\"namespace\":\"html\",\"tag\":\"div\"},\"children\":[{\"props\":{\"attributes\":{\"data-bind\":\"text: formatted_val\"}},\"nodeType\":\"DOM\",\"type\":\"node\",\"instanceArgs\":{\"namespace\":\"html\",\"tag\":\"p\"},\"children\":[]}]}]}]}]},{\"props\":{},\"nodeType\":\"Scope\",\"type\":\"node\",\"instanceArgs\":{\"imports\":{\"data\":[],\"type\":\"async_block\"},\"id\":\"18383400149642239562\",\"handlers\":{},\"systemjs_options\":null,\"mount_callbacks\":[],\"observables\":{\"obs-node\":{\"sync\":false,\"id\":\"ob_59\",\"value\":{\"props\":{\"className\":\"interact-flex-row interact-widget\"},\"nodeType\":\"DOM\",\"type\":\"node\",\"instanceArgs\":{\"namespace\":\"html\",\"tag\":\"div\"},\"children\":[{\"props\":{\"setInnerHtml\":\"<?xml version=\\\"1.0\\\" encoding=\\\"utf-8\\\"?>\\n<svg xmlns=\\\"http:\\/\\/www.w3.org\\/2000\\/svg\\\" xmlns:xlink=\\\"http:\\/\\/www.w3.org\\/1999\\/xlink\\\" width=\\\"600\\\" height=\\\"400\\\" viewBox=\\\"0 0 2400 1600\\\">\\n<defs>\\n  <clipPath id=\\\"clip1600\\\">\\n    <rect x=\\\"0\\\" y=\\\"0\\\" width=\\\"2400\\\" height=\\\"1600\\\"\\/>\\n  <\\/clipPath>\\n<\\/defs>\\n<polygon clip-path=\\\"url(#clip1600)\\\" points=\\\"\\n0,1600 2400,1600 2400,0 0,0 \\n  \\\" fill=\\\"#ffffff\\\" fill-rule=\\\"evenodd\\\" fill-opacity=\\\"1\\\"\\/>\\n<defs>\\n  <clipPath id=\\\"clip1601\\\">\\n    <rect x=\\\"480\\\" y=\\\"0\\\" width=\\\"1681\\\" height=\\\"1600\\\"\\/>\\n  <\\/clipPath>\\n<\\/defs>\\n<polygon clip-path=\\\"url(#clip1600)\\\" points=\\\"\\n174.775,1503.47 2321.26,1503.47 2321.26,47.2441 174.775,47.2441 \\n  \\\" fill=\\\"#ffffff\\\" fill-rule=\\\"evenodd\\\" fill-opacity=\\\"1\\\"\\/>\\n<defs>\\n  <clipPath id=\\\"clip1602\\\">\\n    <rect x=\\\"174\\\" y=\\\"47\\\" width=\\\"2147\\\" height=\\\"1457\\\"\\/>\\n  <\\/clipPath>\\n<\\/defs>\\n<polyline clip-path=\\\"url(#clip1602)\\\" style=\\\"stroke:#000000; stroke-width:2; stroke-opacity:0.1; fill:none\\\" points=\\\"\\n  235.525,1503.47 235.525,47.2441 \\n  \\\"\\/>\\n<polyline clip-path=\\\"url(#clip1602)\\\" style=\\\"stroke:#000000; stroke-width:2; stroke-opacity:0.1; fill:none\\\" points=\\\"\\n  741.771,1503.47 741.771,47.2441 \\n  \\\"\\/>\\n<polyline clip-path=\\\"url(#clip1602)\\\" style=\\\"stroke:#000000; stroke-width:2; stroke-opacity:0.1; fill:none\\\" points=\\\"\\n  1248.02,1503.47 1248.02,47.2441 \\n  \\\"\\/>\\n<polyline clip-path=\\\"url(#clip1602)\\\" style=\\\"stroke:#000000; stroke-width:2; stroke-opacity:0.1; fill:none\\\" points=\\\"\\n  1754.26,1503.47 1754.26,47.2441 \\n  \\\"\\/>\\n<polyline clip-path=\\\"url(#clip1602)\\\" style=\\\"stroke:#000000; stroke-width:2; stroke-opacity:0.1; fill:none\\\" points=\\\"\\n  2260.51,1503.47 2260.51,47.2441 \\n  \\\"\\/>\\n<polyline clip-path=\\\"url(#clip1602)\\\" style=\\\"stroke:#000000; stroke-width:2; stroke-opacity:0.1; fill:none\\\" points=\\\"\\n  174.775,1503.47 2321.26,1503.47 \\n  \\\"\\/>\\n<polyline clip-path=\\\"url(#clip1602)\\\" style=\\\"stroke:#000000; stroke-width:2; stroke-opacity:0.1; fill:none\\\" points=\\\"\\n  174.775,1212.23 2321.26,1212.23 \\n  \\\"\\/>\\n<polyline clip-path=\\\"url(#clip1602)\\\" style=\\\"stroke:#000000; stroke-width:2; stroke-opacity:0.1; fill:none\\\" points=\\\"\\n  174.775,920.982 2321.26,920.982 \\n  \\\"\\/>\\n<polyline clip-path=\\\"url(#clip1602)\\\" style=\\\"stroke:#000000; stroke-width:2; stroke-opacity:0.1; fill:none\\\" points=\\\"\\n  174.775,629.736 2321.26,629.736 \\n  \\\"\\/>\\n<polyline clip-path=\\\"url(#clip1602)\\\" style=\\\"stroke:#000000; stroke-width:2; stroke-opacity:0.1; fill:none\\\" points=\\\"\\n  174.775,338.49 2321.26,338.49 \\n  \\\"\\/>\\n<polyline clip-path=\\\"url(#clip1602)\\\" style=\\\"stroke:#000000; stroke-width:2; stroke-opacity:0.1; fill:none\\\" points=\\\"\\n  174.775,47.2441 2321.26,47.2441 \\n  \\\"\\/>\\n<polyline clip-path=\\\"url(#clip1600)\\\" style=\\\"stroke:#000000; stroke-width:4; stroke-opacity:1; fill:none\\\" points=\\\"\\n  174.775,1503.47 2321.26,1503.47 \\n  \\\"\\/>\\n<polyline clip-path=\\\"url(#clip1600)\\\" style=\\\"stroke:#000000; stroke-width:4; stroke-opacity:1; fill:none\\\" points=\\\"\\n  174.775,1503.47 174.775,47.2441 \\n  \\\"\\/>\\n<polyline clip-path=\\\"url(#clip1600)\\\" style=\\\"stroke:#000000; stroke-width:4; stroke-opacity:1; fill:none\\\" points=\\\"\\n  235.525,1503.47 235.525,1481.63 \\n  \\\"\\/>\\n<polyline clip-path=\\\"url(#clip1600)\\\" style=\\\"stroke:#000000; stroke-width:4; stroke-opacity:1; fill:none\\\" points=\\\"\\n  741.771,1503.47 741.771,1481.63 \\n  \\\"\\/>\\n<polyline clip-path=\\\"url(#clip1600)\\\" style=\\\"stroke:#000000; stroke-width:4; stroke-opacity:1; fill:none\\\" points=\\\"\\n  1248.02,1503.47 1248.02,1481.63 \\n  \\\"\\/>\\n<polyline clip-path=\\\"url(#clip1600)\\\" style=\\\"stroke:#000000; stroke-width:4; stroke-opacity:1; fill:none\\\" points=\\\"\\n  1754.26,1503.47 1754.26,1481.63 \\n  \\\"\\/>\\n<polyline clip-path=\\\"url(#clip1600)\\\" style=\\\"stroke:#000000; stroke-width:4; stroke-opacity:1; fill:none\\\" points=\\\"\\n  2260.51,1503.47 2260.51,1481.63 \\n  \\\"\\/>\\n<polyline clip-path=\\\"url(#clip1600)\\\" style=\\\"stroke:#000000; stroke-width:4; stroke-opacity:1; fill:none\\\" points=\\\"\\n  174.775,1503.47 206.972,1503.47 \\n  \\\"\\/>\\n<polyline clip-path=\\\"url(#clip1600)\\\" style=\\\"stroke:#000000; stroke-width:4; stroke-opacity:1; fill:none\\\" points=\\\"\\n  174.775,1212.23 206.972,1212.23 \\n  \\\"\\/>\\n<polyline clip-path=\\\"url(#clip1600)\\\" style=\\\"stroke:#000000; stroke-width:4; stroke-opacity:1; fill:none\\\" points=\\\"\\n  174.775,920.982 206.972,920.982 \\n  \\\"\\/>\\n<polyline clip-path=\\\"url(#clip1600)\\\" style=\\\"stroke:#000000; stroke-width:4; stroke-opacity:1; fill:none\\\" points=\\\"\\n  174.775,629.736 206.972,629.736 \\n  \\\"\\/>\\n<polyline clip-path=\\\"url(#clip1600)\\\" style=\\\"stroke:#000000; stroke-width:4; stroke-opacity:1; fill:none\\\" points=\\\"\\n  174.775,338.49 206.972,338.49 \\n  \\\"\\/>\\n<polyline clip-path=\\\"url(#clip1600)\\\" style=\\\"stroke:#000000; stroke-width:4; stroke-opacity:1; fill:none\\\" points=\\\"\\n  174.775,47.2441 206.972,47.2441 \\n  \\\"\\/>\\n<g clip-path=\\\"url(#clip1600)\\\">\\n<text style=\\\"fill:#000000; fill-opacity:1; font-family:Arial,Helvetica Neue,Helvetica,sans-serif; font-size:48px; text-anchor:middle;\\\" transform=\\\"rotate(0, 235.525, 1557.47)\\\" x=\\\"235.525\\\" y=\\\"1557.47\\\">0.0<\\/text>\\n<\\/g>\\n<g clip-path=\\\"url(#clip1600)\\\">\\n<text style=\\\"fill:#000000; fill-opacity:1; font-family:Arial,Helvetica Neue,Helvetica,sans-serif; font-size:48px; text-anchor:middle;\\\" transform=\\\"rotate(0, 741.771, 1557.47)\\\" x=\\\"741.771\\\" y=\\\"1557.47\\\">2.5<\\/text>\\n<\\/g>\\n<g clip-path=\\\"url(#clip1600)\\\">\\n<text style=\\\"fill:#000000; fill-opacity:1; font-family:Arial,Helvetica Neue,Helvetica,sans-serif; font-size:48px; text-anchor:middle;\\\" transform=\\\"rotate(0, 1248.02, 1557.47)\\\" x=\\\"1248.02\\\" y=\\\"1557.47\\\">5.0<\\/text>\\n<\\/g>\\n<g clip-path=\\\"url(#clip1600)\\\">\\n<text style=\\\"fill:#000000; fill-opacity:1; font-family:Arial,Helvetica Neue,Helvetica,sans-serif; font-size:48px; text-anchor:middle;\\\" transform=\\\"rotate(0, 1754.26, 1557.47)\\\" x=\\\"1754.26\\\" y=\\\"1557.47\\\">7.5<\\/text>\\n<\\/g>\\n<g clip-path=\\\"url(#clip1600)\\\">\\n<text style=\\\"fill:#000000; fill-opacity:1; font-family:Arial,Helvetica Neue,Helvetica,sans-serif; font-size:48px; text-anchor:middle;\\\" transform=\\\"rotate(0, 2260.51, 1557.47)\\\" x=\\\"2260.51\\\" y=\\\"1557.47\\\">10.0<\\/text>\\n<\\/g>\\n<g clip-path=\\\"url(#clip1600)\\\">\\n<text style=\\\"fill:#000000; fill-opacity:1; font-family:Arial,Helvetica Neue,Helvetica,sans-serif; font-size:48px; text-anchor:end;\\\" transform=\\\"rotate(0, 150.775, 1520.97)\\\" x=\\\"150.775\\\" y=\\\"1520.97\\\">0<\\/text>\\n<\\/g>\\n<g clip-path=\\\"url(#clip1600)\\\">\\n<text style=\\\"fill:#000000; fill-opacity:1; font-family:Arial,Helvetica Neue,Helvetica,sans-serif; font-size:48px; text-anchor:end;\\\" transform=\\\"rotate(0, 150.775, 1229.73)\\\" x=\\\"150.775\\\" y=\\\"1229.73\\\">20<\\/text>\\n<\\/g>\\n<g clip-path=\\\"url(#clip1600)\\\">\\n<text style=\\\"fill:#000000; fill-opacity:1; font-family:Arial,Helvetica Neue,Helvetica,sans-serif; font-size:48px; text-anchor:end;\\\" transform=\\\"rotate(0, 150.775, 938.482)\\\" x=\\\"150.775\\\" y=\\\"938.482\\\">40<\\/text>\\n<\\/g>\\n<g clip-path=\\\"url(#clip1600)\\\">\\n<text style=\\\"fill:#000000; fill-opacity:1; font-family:Arial,Helvetica Neue,Helvetica,sans-serif; font-size:48px; text-anchor:end;\\\" transform=\\\"rotate(0, 150.775, 647.236)\\\" x=\\\"150.775\\\" y=\\\"647.236\\\">60<\\/text>\\n<\\/g>\\n<g clip-path=\\\"url(#clip1600)\\\">\\n<text style=\\\"fill:#000000; fill-opacity:1; font-family:Arial,Helvetica Neue,Helvetica,sans-serif; font-size:48px; text-anchor:end;\\\" transform=\\\"rotate(0, 150.775, 355.99)\\\" x=\\\"150.775\\\" y=\\\"355.99\\\">80<\\/text>\\n<\\/g>\\n<g clip-path=\\\"url(#clip1600)\\\">\\n<text style=\\\"fill:#000000; fill-opacity:1; font-family:Arial,Helvetica Neue,Helvetica,sans-serif; font-size:48px; text-anchor:end;\\\" transform=\\\"rotate(0, 150.775, 64.7441)\\\" x=\\\"150.775\\\" y=\\\"64.7441\\\">100<\\/text>\\n<\\/g>\\n<polyline clip-path=\\\"url(#clip1602)\\\" style=\\\"stroke:#009af9; stroke-width:4; stroke-opacity:1; fill:none\\\" points=\\\"\\n  235.525,1503.47 255.775,1503.33 276.024,1502.89 296.274,1502.16 316.524,1501.14 336.774,1499.83 357.024,1498.23 377.274,1496.34 397.524,1494.15 417.773,1491.68 \\n  438.023,1488.91 458.273,1485.85 478.523,1482.51 498.773,1478.86 519.023,1474.93 539.273,1470.71 559.522,1466.2 579.772,1461.39 600.022,1456.29 620.272,1450.9 \\n  640.522,1445.23 660.772,1439.25 681.022,1432.99 701.271,1426.44 721.521,1419.6 741.771,1412.46 762.021,1405.03 782.271,1397.32 802.521,1389.31 822.771,1381.01 \\n  843.02,1372.41 863.27,1363.53 883.52,1354.36 903.77,1344.89 924.02,1335.13 944.27,1325.09 964.52,1314.75 984.769,1304.12 1005.02,1293.2 1025.27,1281.98 \\n  1045.52,1270.48 1065.77,1258.68 1086.02,1246.6 1106.27,1234.22 1126.52,1221.55 1146.77,1208.59 1167.02,1195.34 1187.27,1181.79 1207.52,1167.96 1227.77,1153.83 \\n  1248.02,1139.42 1268.27,1124.71 1288.52,1109.71 1308.77,1094.42 1329.02,1078.84 1349.27,1062.96 1369.52,1046.8 1389.77,1030.35 1410.02,1013.6 1430.27,996.561 \\n  1450.52,979.232 1470.77,961.611 1491.02,943.7 1511.27,925.497 1531.52,907.003 1551.77,888.217 1572.02,869.141 1592.27,849.773 1612.51,830.114 1632.76,810.163 \\n  1653.01,789.922 1673.26,769.389 1693.51,748.565 1713.76,727.449 1734.01,706.043 1754.26,684.345 1774.51,662.356 1794.76,640.076 1815.01,617.504 1835.26,594.641 \\n  1855.51,571.487 1875.76,548.042 1896.01,524.305 1916.26,500.277 1936.51,475.958 1956.76,451.348 1977.01,426.447 1997.26,401.254 2017.51,375.77 2037.76,349.994 \\n  2058.01,323.928 2078.26,297.57 2098.51,270.921 2118.76,243.981 2139.01,216.749 2159.26,189.227 2179.51,161.413 2199.76,133.307 2220.01,104.911 2240.26,76.2231 \\n  2260.51,47.2441 \\n  \\\"\\/>\\n<polyline clip-path=\\\"url(#clip1602)\\\" style=\\\"stroke:#e26f46; stroke-width:4; stroke-opacity:1; fill:none\\\" points=\\\"\\n  243.039,1503.47 243.039,1503.45 239.282,1503.47 239.282,1503.47 \\n  \\\"\\/>\\n<circle clip-path=\\\"url(#clip1602)\\\" style=\\\"fill:#000000; stroke:none; fill-opacity:1\\\" cx=\\\"243.039\\\" cy=\\\"1503.47\\\" r=\\\"18\\\"\\/>\\n<circle clip-path=\\\"url(#clip1602)\\\" style=\\\"fill:#e26f46; stroke:none; fill-opacity:1\\\" cx=\\\"243.039\\\" cy=\\\"1503.47\\\" r=\\\"14\\\"\\/>\\n<circle clip-path=\\\"url(#clip1602)\\\" style=\\\"fill:#000000; stroke:none; fill-opacity:1\\\" cx=\\\"243.039\\\" cy=\\\"1503.45\\\" r=\\\"18\\\"\\/>\\n<circle clip-path=\\\"url(#clip1602)\\\" style=\\\"fill:#e26f46; stroke:none; fill-opacity:1\\\" cx=\\\"243.039\\\" cy=\\\"1503.45\\\" r=\\\"14\\\"\\/>\\n<circle clip-path=\\\"url(#clip1602)\\\" style=\\\"fill:#000000; stroke:none; fill-opacity:1\\\" cx=\\\"239.282\\\" cy=\\\"1503.47\\\" r=\\\"18\\\"\\/>\\n<circle clip-path=\\\"url(#clip1602)\\\" style=\\\"fill:#e26f46; stroke:none; fill-opacity:1\\\" cx=\\\"239.282\\\" cy=\\\"1503.47\\\" r=\\\"14\\\"\\/>\\n<circle clip-path=\\\"url(#clip1602)\\\" style=\\\"fill:#000000; stroke:none; fill-opacity:1\\\" cx=\\\"239.282\\\" cy=\\\"1503.47\\\" r=\\\"18\\\"\\/>\\n<circle clip-path=\\\"url(#clip1602)\\\" style=\\\"fill:#e26f46; stroke:none; fill-opacity:1\\\" cx=\\\"239.282\\\" cy=\\\"1503.47\\\" r=\\\"14\\\"\\/>\\n<polygon clip-path=\\\"url(#clip1600)\\\" points=\\\"\\n1041.77,312.204 2249.26,312.204 2249.26,130.764 1041.77,130.764 \\n  \\\" fill=\\\"#ffffff\\\" fill-rule=\\\"evenodd\\\" fill-opacity=\\\"1\\\"\\/>\\n<polyline clip-path=\\\"url(#clip1600)\\\" style=\\\"stroke:#000000; stroke-width:4; stroke-opacity:1; fill:none\\\" points=\\\"\\n  1041.77,312.204 2249.26,312.204 2249.26,130.764 1041.77,130.764 1041.77,312.204 \\n  \\\"\\/>\\n<polyline clip-path=\\\"url(#clip1600)\\\" style=\\\"stroke:#009af9; stroke-width:4; stroke-opacity:1; fill:none\\\" points=\\\"\\n  1065.77,191.244 1209.77,191.244 \\n  \\\"\\/>\\n<g clip-path=\\\"url(#clip1600)\\\">\\n<text style=\\\"fill:#000000; fill-opacity:1; font-family:Arial,Helvetica Neue,Helvetica,sans-serif; font-size:48px; text-anchor:start;\\\" transform=\\\"rotate(0, 1233.77, 208.744)\\\" x=\\\"1233.77\\\" y=\\\"208.744\\\">y1<\\/text>\\n<\\/g>\\n<polyline clip-path=\\\"url(#clip1600)\\\" style=\\\"stroke:#e26f46; stroke-width:4; stroke-opacity:1; fill:none\\\" points=\\\"\\n  1065.77,251.724 1209.77,251.724 \\n  \\\"\\/>\\n<circle clip-path=\\\"url(#clip1600)\\\" style=\\\"fill:#000000; stroke:none; fill-opacity:1\\\" cx=\\\"1149.77\\\" cy=\\\"251.724\\\" r=\\\"25\\\"\\/>\\n<circle clip-path=\\\"url(#clip1600)\\\" style=\\\"fill:#e26f46; stroke:none; fill-opacity:1\\\" cx=\\\"1149.77\\\" cy=\\\"251.724\\\" r=\\\"21\\\"\\/>\\n<g clip-path=\\\"url(#clip1600)\\\">\\n<text style=\\\"fill:#000000; fill-opacity:1; font-family:Arial,Helvetica Neue,Helvetica,sans-serif; font-size:48px; text-anchor:start;\\\" transform=\\\"rotate(0, 1233.77, 269.224)\\\" x=\\\"1233.77\\\" y=\\\"269.224\\\">x_{n+1} = 0.0185546875, x_n = 0.037109375<\\/text>\\n<\\/g>\\n<\\/svg>\\n\"},\"nodeType\":\"DOM\",\"type\":\"node\",\"instanceArgs\":{\"namespace\":\"html\",\"tag\":\"div\"},\"children\":[]}]}}}},\"children\":[{\"props\":{},\"nodeType\":\"ObservableNode\",\"type\":\"node\",\"instanceArgs\":{\"id\":\"ob_59\",\"name\":\"obs-node\"},\"children\":[]}]}]},\n",
       "            window,\n",
       "        );\n",
       "    } else {\n",
       "        document\n",
       "            .querySelector('[data-webio-mountpoint=\"6059154227984109935\"]')\n",
       "            .innerHTML = '<strong>WebIO not detected.</strong>';\n",
       "    }\n",
       "    </script>\n",
       "</div>\n"
      ],
      "text/plain": [
       "Node{WebIO.DOM}(WebIO.DOM(:html, :div), Any[Node{DOM}(DOM(:html, :div), Any[Scope(Node{DOM}(DOM(:html, :div), Any[Node{DOM}(DOM(:html, :div), Any[Node{DOM}(DOM(:html, :label), Any[\"n\"], Dict{Symbol,Any}(:className=>\"interact \",:style=>Dict{Any,Any}(:padding=>\"5px 10px 0px 10px\")))], Dict{Symbol,Any}(:className=>\"interact-flex-row-left\")), Node{DOM}(DOM(:html, :div), Any[Node{DOM}(DOM(:html, :input), Any[], Dict{Symbol,Any}(:max=>20,:min=>1,:attributes=>Dict{Any,Any}(:type=>\"range\",Symbol(\"data-bind\")=>\"numericValue: index, valueUpdate: 'input', event: {change: function (){this.changes(this.changes()+1)}}\",\"orient\"=>\"horizontal\"),:step=>1,:className=>\"slider slider is-fullwidth\",:style=>Dict{Any,Any}()))], Dict{Symbol,Any}(:className=>\"interact-flex-row-center\")), Node{DOM}(DOM(:html, :div), Any[Node{DOM}(DOM(:html, :p), Any[], Dict{Symbol,Any}(:attributes=>Dict(\"data-bind\"=>\"text: formatted_val\")))], Dict{Symbol,Any}(:className=>\"interact-flex-row-right\"))], Dict{Symbol,Any}(:className=>\"interact-flex-row interact-widget\")), Dict{String,Tuple{Observables.AbstractObservable,Union{Nothing, Bool}}}(\"changes\"=>(Observable{Int64} with 1 listeners. Value:\n",
       "0, nothing),\"index\"=>(Observable{Int64} with 2 listeners. Value:\n",
       "10, nothing)), Set(String[]), nothing, Asset[Asset(\"js\", \"knockout\", \"/home/mvb/.julia/packages/Knockout/1sDlc/src/../assets/knockout.js\"), Asset(\"js\", \"knockout_punches\", \"/home/mvb/.julia/packages/Knockout/1sDlc/src/../assets/knockout_punches.js\"), Asset(\"js\", nothing, \"/home/mvb/.julia/packages/InteractBase/l8cEC/src/../assets/all.js\"), Asset(\"css\", nothing, \"/home/mvb/.julia/packages/InteractBase/l8cEC/src/../assets/style.css\"), Asset(\"css\", nothing, \"/home/mvb/.julia/packages/Interact/Fs3lV/src/../assets/bulma_confined.min.css\")], Dict{Any,Any}(\"changes\"=>Any[JSString(\"(function (val){return (val!=this.model[\\\"changes\\\"]()) ? (this.valueFromJulia[\\\"changes\\\"]=true, this.model[\\\"changes\\\"](val)) : undefined})\")],\"index\"=>Any[JSString(\"(function (val){return (val!=this.model[\\\"index\\\"]()) ? (this.valueFromJulia[\\\"index\\\"]=true, this.model[\\\"index\\\"](val)) : undefined})\")]), ConnectionPool(Channel{Any}(sz_max:9223372036854775807,sz_curr:0), Set(AbstractConnection[]), Channel{AbstractConnection}(sz_max:32,sz_curr:0)), WebIO.JSString[JSString(\"function () {\\n    var handler = (function (ko, koPunches) {\\n    ko.punches.enableAll();\\n    ko.bindingHandlers.numericValue = {\\n        init: function(element, valueAccessor, allBindings, data, context) {\\n            var stringified = ko.observable(ko.unwrap(valueAccessor()));\\n            stringified.subscribe(function(value) {\\n                var val = parseFloat(value);\\n                if (!isNaN(val)) {\\n                    valueAccessor()(val);\\n                }\\n            });\\n            valueAccessor().subscribe(function(value) {\\n                var str = JSON.stringify(value);\\n                if ((str == \\\"0\\\") && ([\\\"-0\\\", \\\"-0.\\\"].indexOf(stringified()) >= 0))\\n                     return;\\n                 if ([\\\"null\\\", \\\"\\\"].indexOf(str) >= 0)\\n                     return;\\n                stringified(str);\\n            });\\n            ko.applyBindingsToNode(\\n                element,\\n                {\\n                    value: stringified,\\n                    valueUpdate: allBindings.get('valueUpdate'),\\n                },\\n                context,\\n            );\\n        }\\n    };\\n    var json_data = {\\\"formatted_vals\\\":[\\\"1\\\",\\\"2\\\",\\\"3\\\",\\\"4\\\",\\\"5\\\",\\\"6\\\",\\\"7\\\",\\\"8\\\",\\\"9\\\",\\\"10\\\",\\\"11\\\",\\\"12\\\",\\\"13\\\",\\\"14\\\",\\\"15\\\",\\\"16\\\",\\\"17\\\",\\\"18\\\",\\\"19\\\",\\\"20\\\"],\\\"changes\\\":WebIO.getval({\\\"name\\\":\\\"changes\\\",\\\"scope\\\":\\\"12021689700405222950\\\",\\\"id\\\":\\\"ob_55\\\",\\\"type\\\":\\\"observable\\\"}),\\\"index\\\":WebIO.getval({\\\"name\\\":\\\"index\\\",\\\"scope\\\":\\\"12021689700405222950\\\",\\\"id\\\":\\\"ob_54\\\",\\\"type\\\":\\\"observable\\\"})};\\n    var self = this;\\n    function AppViewModel() {\\n        for (var key in json_data) {\\n            var el = json_data[key];\\n            this[key] = Array.isArray(el) ? ko.observableArray(el) : ko.observable(el);\\n        }\\n        \\n        [this[\\\"formatted_val\\\"]=ko.computed(    function(){\\n        return this.formatted_vals()[parseInt(this.index())-(1)];\\n    }\\n,this)]\\n        [this[\\\"changes\\\"].subscribe((function (val){!(this.valueFromJulia[\\\"changes\\\"]) ? (WebIO.setval({\\\"name\\\":\\\"changes\\\",\\\"scope\\\":\\\"12021689700405222950\\\",\\\"id\\\":\\\"ob_55\\\",\\\"type\\\":\\\"observable\\\"},val)) : undefined; return this.valueFromJulia[\\\"changes\\\"]=false}),self),this[\\\"index\\\"].subscribe((function (val){!(this.valueFromJulia[\\\"index\\\"]) ? (WebIO.setval({\\\"name\\\":\\\"index\\\",\\\"scope\\\":\\\"12021689700405222950\\\",\\\"id\\\":\\\"ob_54\\\",\\\"type\\\":\\\"observable\\\"},val)) : undefined; return this.valueFromJulia[\\\"index\\\"]=false}),self)]\\n        \\n    }\\n    self.model = new AppViewModel();\\n    self.valueFromJulia = {};\\n    for (var key in json_data) {\\n        self.valueFromJulia[key] = false;\\n    }\\n    ko.applyBindings(self.model, self.dom);\\n}\\n);\\n    (WebIO.importBlock({\\\"data\\\":[{\\\"name\\\":\\\"knockout\\\",\\\"type\\\":\\\"js\\\",\\\"url\\\":\\\"/assetserver/35f4d43e2555ad8a88ae9591d04e823cacc03091-knockout.js\\\"},{\\\"name\\\":\\\"knockout_punches\\\",\\\"type\\\":\\\"js\\\",\\\"url\\\":\\\"/assetserver/212cb19a1a73d7bf5eaf1488add347ceb95dcc99-knockout_punches.js\\\"}],\\\"type\\\":\\\"async_block\\\"})).then((imports) => handler.apply(this, imports));\\n}\\n\")])], Dict{Symbol,Any}(:className=>\"field interact-widget\")), Observable{Any} with 0 listeners. Value:\n",
       "Node{DOM}(DOM(:html, :div), Any[Plot{Plots.GRBackend() n=2}], Dict{Symbol,Any}(:className=>\"interact-flex-row interact-widget\"))], Dict{Symbol,Any}())"
      ]
     },
     "execution_count": 32,
     "metadata": {
      "application/vnd.webio.node+json": {
       "kernelId": "0ca5aa2d-926a-4118-bc3b-bea79555555d"
      }
     },
     "output_type": "execute_result"
    }
   ],
   "source": [
    "x_inicial = 10\n",
    "n_pasos = 20\n",
    "@manipulate for n in 1:n_pasos\n",
    "    x_1,x_0 = newton(g,dg,x_inicial,n)\n",
    "    plot(xs,[g(x) for x in xs],ylim = (0,100))\n",
    "    plot!([x_0,x_0,x_1,x_1],[0,g(x_0),0,g(x_1)], m=:circle, lab=\"x_{n+1} = $x_1, x_n = $x_0\")\n",
    "end"
   ]
  },
  {
   "cell_type": "markdown",
   "metadata": {},
   "source": [
    "Probaremos el método para otra función."
   ]
  },
  {
   "cell_type": "code",
   "execution_count": 41,
   "metadata": {},
   "outputs": [
    {
     "data": {
      "application/vnd.webio.node+json": {
       "children": [
        {
         "children": [
          {
           "children": [
            {
             "children": [
              {
               "children": [
                {
                 "children": [
                  "n"
                 ],
                 "instanceArgs": {
                  "namespace": "html",
                  "tag": "label"
                 },
                 "nodeType": "DOM",
                 "props": {
                  "className": "interact ",
                  "style": {
                   "padding": "5px 10px 0px 10px"
                  }
                 },
                 "type": "node"
                }
               ],
               "instanceArgs": {
                "namespace": "html",
                "tag": "div"
               },
               "nodeType": "DOM",
               "props": {
                "className": "interact-flex-row-left"
               },
               "type": "node"
              },
              {
               "children": [
                {
                 "children": [],
                 "instanceArgs": {
                  "namespace": "html",
                  "tag": "input"
                 },
                 "nodeType": "DOM",
                 "props": {
                  "attributes": {
                   "data-bind": "numericValue: index, valueUpdate: 'input', event: {change: function (){this.changes(this.changes()+1)}}",
                   "orient": "horizontal",
                   "type": "range"
                  },
                  "className": "slider slider is-fullwidth",
                  "max": 20,
                  "min": 1,
                  "step": 1,
                  "style": {}
                 },
                 "type": "node"
                }
               ],
               "instanceArgs": {
                "namespace": "html",
                "tag": "div"
               },
               "nodeType": "DOM",
               "props": {
                "className": "interact-flex-row-center"
               },
               "type": "node"
              },
              {
               "children": [
                {
                 "children": [],
                 "instanceArgs": {
                  "namespace": "html",
                  "tag": "p"
                 },
                 "nodeType": "DOM",
                 "props": {
                  "attributes": {
                   "data-bind": "text: formatted_val"
                  }
                 },
                 "type": "node"
                }
               ],
               "instanceArgs": {
                "namespace": "html",
                "tag": "div"
               },
               "nodeType": "DOM",
               "props": {
                "className": "interact-flex-row-right"
               },
               "type": "node"
              }
             ],
             "instanceArgs": {
              "namespace": "html",
              "tag": "div"
             },
             "nodeType": "DOM",
             "props": {
              "className": "interact-flex-row interact-widget"
             },
             "type": "node"
            }
           ],
           "instanceArgs": {
            "handlers": {
             "changes": [
              "(function (val){return (val!=this.model[\"changes\"]()) ? (this.valueFromJulia[\"changes\"]=true, this.model[\"changes\"](val)) : undefined})"
             ],
             "index": [
              "(function (val){return (val!=this.model[\"index\"]()) ? (this.valueFromJulia[\"index\"]=true, this.model[\"index\"](val)) : undefined})"
             ]
            },
            "id": "7113765785578814227",
            "imports": {
             "data": [
              {
               "name": "knockout",
               "type": "js",
               "url": "/assetserver/35f4d43e2555ad8a88ae9591d04e823cacc03091-knockout.js"
              },
              {
               "name": "knockout_punches",
               "type": "js",
               "url": "/assetserver/212cb19a1a73d7bf5eaf1488add347ceb95dcc99-knockout_punches.js"
              },
              {
               "name": null,
               "type": "js",
               "url": "/assetserver/e1bb4630ca71ac3ffa8d6829f92a4606757b4d51-all.js"
              },
              {
               "name": null,
               "type": "css",
               "url": "/assetserver/104f757bcab7611333aa355119747185c1f822ef-style.css"
              },
              {
               "name": null,
               "type": "css",
               "url": "/assetserver/e89867c5e417d47e9fb5dede3dbfe9f8bed959b8-bulma_confined.min.css"
              }
             ],
             "type": "async_block"
            },
            "mount_callbacks": [
             "function () {\n    var handler = (function (ko, koPunches) {\n    ko.punches.enableAll();\n    ko.bindingHandlers.numericValue = {\n        init: function(element, valueAccessor, allBindings, data, context) {\n            var stringified = ko.observable(ko.unwrap(valueAccessor()));\n            stringified.subscribe(function(value) {\n                var val = parseFloat(value);\n                if (!isNaN(val)) {\n                    valueAccessor()(val);\n                }\n            });\n            valueAccessor().subscribe(function(value) {\n                var str = JSON.stringify(value);\n                if ((str == \"0\") && ([\"-0\", \"-0.\"].indexOf(stringified()) >= 0))\n                     return;\n                 if ([\"null\", \"\"].indexOf(str) >= 0)\n                     return;\n                stringified(str);\n            });\n            ko.applyBindingsToNode(\n                element,\n                {\n                    value: stringified,\n                    valueUpdate: allBindings.get('valueUpdate'),\n                },\n                context,\n            );\n        }\n    };\n    var json_data = {\"formatted_vals\":[\"1\",\"2\",\"3\",\"4\",\"5\",\"6\",\"7\",\"8\",\"9\",\"10\",\"11\",\"12\",\"13\",\"14\",\"15\",\"16\",\"17\",\"18\",\"19\",\"20\"],\"changes\":WebIO.getval({\"name\":\"changes\",\"scope\":\"7113765785578814227\",\"id\":\"ob_127\",\"type\":\"observable\"}),\"index\":WebIO.getval({\"name\":\"index\",\"scope\":\"7113765785578814227\",\"id\":\"ob_126\",\"type\":\"observable\"})};\n    var self = this;\n    function AppViewModel() {\n        for (var key in json_data) {\n            var el = json_data[key];\n            this[key] = Array.isArray(el) ? ko.observableArray(el) : ko.observable(el);\n        }\n        \n        [this[\"formatted_val\"]=ko.computed(    function(){\n        return this.formatted_vals()[parseInt(this.index())-(1)];\n    }\n,this)]\n        [this[\"changes\"].subscribe((function (val){!(this.valueFromJulia[\"changes\"]) ? (WebIO.setval({\"name\":\"changes\",\"scope\":\"7113765785578814227\",\"id\":\"ob_127\",\"type\":\"observable\"},val)) : undefined; return this.valueFromJulia[\"changes\"]=false}),self),this[\"index\"].subscribe((function (val){!(this.valueFromJulia[\"index\"]) ? (WebIO.setval({\"name\":\"index\",\"scope\":\"7113765785578814227\",\"id\":\"ob_126\",\"type\":\"observable\"},val)) : undefined; return this.valueFromJulia[\"index\"]=false}),self)]\n        \n    }\n    self.model = new AppViewModel();\n    self.valueFromJulia = {};\n    for (var key in json_data) {\n        self.valueFromJulia[key] = false;\n    }\n    ko.applyBindings(self.model, self.dom);\n}\n);\n    (WebIO.importBlock({\"data\":[{\"name\":\"knockout\",\"type\":\"js\",\"url\":\"/assetserver/35f4d43e2555ad8a88ae9591d04e823cacc03091-knockout.js\"},{\"name\":\"knockout_punches\",\"type\":\"js\",\"url\":\"/assetserver/212cb19a1a73d7bf5eaf1488add347ceb95dcc99-knockout_punches.js\"}],\"type\":\"async_block\"})).then((imports) => handler.apply(this, imports));\n}\n"
            ],
            "observables": {
             "changes": {
              "id": "ob_127",
              "sync": false,
              "value": 0
             },
             "index": {
              "id": "ob_126",
              "sync": true,
              "value": 10
             }
            },
            "systemjs_options": null
           },
           "nodeType": "Scope",
           "props": {},
           "type": "node"
          }
         ],
         "instanceArgs": {
          "namespace": "html",
          "tag": "div"
         },
         "nodeType": "DOM",
         "props": {
          "className": "field interact-widget"
         },
         "type": "node"
        },
        {
         "children": [
          {
           "children": [],
           "instanceArgs": {
            "id": "ob_133",
            "name": "obs-node"
           },
           "nodeType": "ObservableNode",
           "props": {},
           "type": "node"
          }
         ],
         "instanceArgs": {
          "handlers": {},
          "id": "1527264182029139592",
          "imports": {
           "data": [],
           "type": "async_block"
          },
          "mount_callbacks": [],
          "observables": {
           "obs-node": {
            "id": "ob_133",
            "sync": false,
            "value": {
             "children": [
              {
               "children": [],
               "instanceArgs": {
                "namespace": "html",
                "tag": "div"
               },
               "nodeType": "DOM",
               "props": {
                "setInnerHtml": "<?xml version=\"1.0\" encoding=\"utf-8\"?>\n<svg xmlns=\"http://www.w3.org/2000/svg\" xmlns:xlink=\"http://www.w3.org/1999/xlink\" width=\"600\" height=\"400\" viewBox=\"0 0 2400 1600\">\n<defs>\n  <clipPath id=\"clip2400\">\n    <rect x=\"0\" y=\"0\" width=\"2400\" height=\"1600\"/>\n  </clipPath>\n</defs>\n<polygon clip-path=\"url(#clip2400)\" points=\"\n0,1600 2400,1600 2400,0 0,0 \n  \" fill=\"#ffffff\" fill-rule=\"evenodd\" fill-opacity=\"1\"/>\n<defs>\n  <clipPath id=\"clip2401\">\n    <rect x=\"480\" y=\"0\" width=\"1681\" height=\"1600\"/>\n  </clipPath>\n</defs>\n<polygon clip-path=\"url(#clip2400)\" points=\"\n189.504,1503.47 2321.26,1503.47 2321.26,47.2441 189.504,47.2441 \n  \" fill=\"#ffffff\" fill-rule=\"evenodd\" fill-opacity=\"1\"/>\n<defs>\n  <clipPath id=\"clip2402\">\n    <rect x=\"189\" y=\"47\" width=\"2133\" height=\"1457\"/>\n  </clipPath>\n</defs>\n<polyline clip-path=\"url(#clip2402)\" style=\"stroke:#000000; stroke-width:2; stroke-opacity:0.1; fill:none\" points=\"\n  450.946,1503.47 450.946,47.2441 \n  \"/>\n<polyline clip-path=\"url(#clip2402)\" style=\"stroke:#000000; stroke-width:2; stroke-opacity:0.1; fill:none\" points=\"\n  853.164,1503.47 853.164,47.2441 \n  \"/>\n<polyline clip-path=\"url(#clip2402)\" style=\"stroke:#000000; stroke-width:2; stroke-opacity:0.1; fill:none\" points=\"\n  1255.38,1503.47 1255.38,47.2441 \n  \"/>\n<polyline clip-path=\"url(#clip2402)\" style=\"stroke:#000000; stroke-width:2; stroke-opacity:0.1; fill:none\" points=\"\n  1657.6,1503.47 1657.6,47.2441 \n  \"/>\n<polyline clip-path=\"url(#clip2402)\" style=\"stroke:#000000; stroke-width:2; stroke-opacity:0.1; fill:none\" points=\"\n  2059.82,1503.47 2059.82,47.2441 \n  \"/>\n<polyline clip-path=\"url(#clip2402)\" style=\"stroke:#000000; stroke-width:2; stroke-opacity:0.1; fill:none\" points=\"\n  189.504,1503.47 2321.26,1503.47 \n  \"/>\n<polyline clip-path=\"url(#clip2402)\" style=\"stroke:#000000; stroke-width:2; stroke-opacity:0.1; fill:none\" points=\"\n  189.504,1139.42 2321.26,1139.42 \n  \"/>\n<polyline clip-path=\"url(#clip2402)\" style=\"stroke:#000000; stroke-width:2; stroke-opacity:0.1; fill:none\" points=\"\n  189.504,775.359 2321.26,775.359 \n  \"/>\n<polyline clip-path=\"url(#clip2402)\" style=\"stroke:#000000; stroke-width:2; stroke-opacity:0.1; fill:none\" points=\"\n  189.504,411.302 2321.26,411.302 \n  \"/>\n<polyline clip-path=\"url(#clip2402)\" style=\"stroke:#000000; stroke-width:2; stroke-opacity:0.1; fill:none\" points=\"\n  189.504,47.2441 2321.26,47.2441 \n  \"/>\n<polyline clip-path=\"url(#clip2400)\" style=\"stroke:#000000; stroke-width:4; stroke-opacity:1; fill:none\" points=\"\n  189.504,1503.47 2321.26,1503.47 \n  \"/>\n<polyline clip-path=\"url(#clip2400)\" style=\"stroke:#000000; stroke-width:4; stroke-opacity:1; fill:none\" points=\"\n  189.504,1503.47 189.504,47.2441 \n  \"/>\n<polyline clip-path=\"url(#clip2400)\" style=\"stroke:#000000; stroke-width:4; stroke-opacity:1; fill:none\" points=\"\n  450.946,1503.47 450.946,1481.63 \n  \"/>\n<polyline clip-path=\"url(#clip2400)\" style=\"stroke:#000000; stroke-width:4; stroke-opacity:1; fill:none\" points=\"\n  853.164,1503.47 853.164,1481.63 \n  \"/>\n<polyline clip-path=\"url(#clip2400)\" style=\"stroke:#000000; stroke-width:4; stroke-opacity:1; fill:none\" points=\"\n  1255.38,1503.47 1255.38,1481.63 \n  \"/>\n<polyline clip-path=\"url(#clip2400)\" style=\"stroke:#000000; stroke-width:4; stroke-opacity:1; fill:none\" points=\"\n  1657.6,1503.47 1657.6,1481.63 \n  \"/>\n<polyline clip-path=\"url(#clip2400)\" style=\"stroke:#000000; stroke-width:4; stroke-opacity:1; fill:none\" points=\"\n  2059.82,1503.47 2059.82,1481.63 \n  \"/>\n<polyline clip-path=\"url(#clip2400)\" style=\"stroke:#000000; stroke-width:4; stroke-opacity:1; fill:none\" points=\"\n  189.504,1503.47 221.48,1503.47 \n  \"/>\n<polyline clip-path=\"url(#clip2400)\" style=\"stroke:#000000; stroke-width:4; stroke-opacity:1; fill:none\" points=\"\n  189.504,1139.42 221.48,1139.42 \n  \"/>\n<polyline clip-path=\"url(#clip2400)\" style=\"stroke:#000000; stroke-width:4; stroke-opacity:1; fill:none\" points=\"\n  189.504,775.359 221.48,775.359 \n  \"/>\n<polyline clip-path=\"url(#clip2400)\" style=\"stroke:#000000; stroke-width:4; stroke-opacity:1; fill:none\" points=\"\n  189.504,411.302 221.48,411.302 \n  \"/>\n<polyline clip-path=\"url(#clip2400)\" style=\"stroke:#000000; stroke-width:4; stroke-opacity:1; fill:none\" points=\"\n  189.504,47.2441 221.48,47.2441 \n  \"/>\n<g clip-path=\"url(#clip2400)\">\n<text style=\"fill:#000000; fill-opacity:1; font-family:Arial,Helvetica Neue,Helvetica,sans-serif; font-size:48px; text-anchor:middle;\" transform=\"rotate(0, 450.946, 1557.47)\" x=\"450.946\" y=\"1557.47\">-4</text>\n</g>\n<g clip-path=\"url(#clip2400)\">\n<text style=\"fill:#000000; fill-opacity:1; font-family:Arial,Helvetica Neue,Helvetica,sans-serif; font-size:48px; text-anchor:middle;\" transform=\"rotate(0, 853.164, 1557.47)\" x=\"853.164\" y=\"1557.47\">-2</text>\n</g>\n<g clip-path=\"url(#clip2400)\">\n<text style=\"fill:#000000; fill-opacity:1; font-family:Arial,Helvetica Neue,Helvetica,sans-serif; font-size:48px; text-anchor:middle;\" transform=\"rotate(0, 1255.38, 1557.47)\" x=\"1255.38\" y=\"1557.47\">0</text>\n</g>\n<g clip-path=\"url(#clip2400)\">\n<text style=\"fill:#000000; fill-opacity:1; font-family:Arial,Helvetica Neue,Helvetica,sans-serif; font-size:48px; text-anchor:middle;\" transform=\"rotate(0, 1657.6, 1557.47)\" x=\"1657.6\" y=\"1557.47\">2</text>\n</g>\n<g clip-path=\"url(#clip2400)\">\n<text style=\"fill:#000000; fill-opacity:1; font-family:Arial,Helvetica Neue,Helvetica,sans-serif; font-size:48px; text-anchor:middle;\" transform=\"rotate(0, 2059.82, 1557.47)\" x=\"2059.82\" y=\"1557.47\">4</text>\n</g>\n<g clip-path=\"url(#clip2400)\">\n<text style=\"fill:#000000; fill-opacity:1; font-family:Arial,Helvetica Neue,Helvetica,sans-serif; font-size:48px; text-anchor:end;\" transform=\"rotate(0, 165.504, 1520.97)\" x=\"165.504\" y=\"1520.97\">-1.0</text>\n</g>\n<g clip-path=\"url(#clip2400)\">\n<text style=\"fill:#000000; fill-opacity:1; font-family:Arial,Helvetica Neue,Helvetica,sans-serif; font-size:48px; text-anchor:end;\" transform=\"rotate(0, 165.504, 1156.92)\" x=\"165.504\" y=\"1156.92\">-0.5</text>\n</g>\n<g clip-path=\"url(#clip2400)\">\n<text style=\"fill:#000000; fill-opacity:1; font-family:Arial,Helvetica Neue,Helvetica,sans-serif; font-size:48px; text-anchor:end;\" transform=\"rotate(0, 165.504, 792.859)\" x=\"165.504\" y=\"792.859\">0.0</text>\n</g>\n<g clip-path=\"url(#clip2400)\">\n<text style=\"fill:#000000; fill-opacity:1; font-family:Arial,Helvetica Neue,Helvetica,sans-serif; font-size:48px; text-anchor:end;\" transform=\"rotate(0, 165.504, 428.802)\" x=\"165.504\" y=\"428.802\">0.5</text>\n</g>\n<g clip-path=\"url(#clip2400)\">\n<text style=\"fill:#000000; fill-opacity:1; font-family:Arial,Helvetica Neue,Helvetica,sans-serif; font-size:48px; text-anchor:end;\" transform=\"rotate(0, 165.504, 64.7441)\" x=\"165.504\" y=\"64.7441\">1.0</text>\n</g>\n<polyline clip-path=\"url(#clip2402)\" style=\"stroke:#009af9; stroke-width:4; stroke-opacity:1; fill:none\" points=\"\n  249.837,77.152 269.948,60.0206 290.059,50.0367 310.17,47.3 330.28,51.8378 350.391,63.6048 370.502,82.4834 390.613,108.285 410.724,140.752 430.835,179.559 \n  450.946,224.32 471.057,274.586 491.168,329.856 511.279,389.578 531.389,453.153 551.5,519.949 571.611,589.296 591.722,660.502 611.833,732.856 631.944,805.635 \n  652.055,878.111 672.166,949.561 692.277,1019.27 712.388,1086.54 732.499,1150.7 752.609,1211.12 772.72,1267.17 792.831,1318.32 812.942,1364.04 833.053,1403.88 \n  853.164,1437.43 873.275,1464.37 893.386,1484.43 913.497,1497.41 933.608,1503.16 953.718,1501.65 973.829,1492.88 993.94,1476.94 1014.05,1453.99 1034.16,1424.26 \n  1054.27,1388.05 1074.38,1345.71 1094.49,1297.68 1114.61,1244.42 1134.72,1186.48 1154.83,1124.44 1174.94,1058.9 1195.05,990.532 1215.16,920.014 1235.27,848.05 \n  1255.38,775.359 1275.49,702.669 1295.6,630.705 1315.71,560.187 1335.83,491.818 1355.94,426.282 1376.05,364.235 1396.16,306.295 1416.27,253.041 1436.38,205.007 \n  1456.49,162.671 1476.6,126.458 1496.71,96.7275 1516.82,73.7779 1536.93,57.8384 1557.05,49.068 1577.16,47.5546 1597.27,53.3131 1617.38,66.286 1637.49,86.3438 \n  1657.6,113.286 1677.71,146.843 1697.82,186.681 1717.93,232.4 1738.04,283.544 1758.15,339.603 1778.27,400.015 1798.38,464.178 1818.49,531.449 1838.6,601.158 \n  1858.71,672.608 1878.82,745.084 1898.93,817.863 1919.04,890.216 1939.15,961.423 1959.26,1030.77 1979.37,1097.57 1999.49,1161.14 2019.6,1220.86 2039.71,1276.13 \n  2059.82,1326.4 2079.93,1371.16 2100.04,1409.97 2120.15,1442.43 2140.26,1468.24 2160.37,1487.11 2180.48,1498.88 2200.59,1503.42 2220.71,1500.68 2240.82,1490.7 \n  2260.93,1473.57 \n  \"/>\n<polyline clip-path=\"url(#clip2402)\" style=\"stroke:#e26f46; stroke-width:4; stroke-opacity:1; fill:none\" points=\"\n  1255.38,775.359 1255.38,775.359 \n  \"/>\n<circle clip-path=\"url(#clip2402)\" style=\"fill:#000000; stroke:none; fill-opacity:1\" cx=\"1255.38\" cy=\"775.359\" r=\"18\"/>\n<circle clip-path=\"url(#clip2402)\" style=\"fill:#e26f46; stroke:none; fill-opacity:1\" cx=\"1255.38\" cy=\"775.359\" r=\"14\"/>\n<circle clip-path=\"url(#clip2402)\" style=\"fill:#000000; stroke:none; fill-opacity:1\" cx=\"1255.38\" cy=\"775.359\" r=\"18\"/>\n<circle clip-path=\"url(#clip2402)\" style=\"fill:#e26f46; stroke:none; fill-opacity:1\" cx=\"1255.38\" cy=\"775.359\" r=\"14\"/>\n<circle clip-path=\"url(#clip2402)\" style=\"fill:#000000; stroke:none; fill-opacity:1\" cx=\"1255.38\" cy=\"775.359\" r=\"18\"/>\n<circle clip-path=\"url(#clip2402)\" style=\"fill:#e26f46; stroke:none; fill-opacity:1\" cx=\"1255.38\" cy=\"775.359\" r=\"14\"/>\n<circle clip-path=\"url(#clip2402)\" style=\"fill:#000000; stroke:none; fill-opacity:1\" cx=\"1255.38\" cy=\"775.359\" r=\"18\"/>\n<circle clip-path=\"url(#clip2402)\" style=\"fill:#e26f46; stroke:none; fill-opacity:1\" cx=\"1255.38\" cy=\"775.359\" r=\"14\"/>\n<polygon clip-path=\"url(#clip2400)\" points=\"\n1496.73,312.204 2249.26,312.204 2249.26,130.764 1496.73,130.764 \n  \" fill=\"#ffffff\" fill-rule=\"evenodd\" fill-opacity=\"1\"/>\n<polyline clip-path=\"url(#clip2400)\" style=\"stroke:#000000; stroke-width:4; stroke-opacity:1; fill:none\" points=\"\n  1496.73,312.204 2249.26,312.204 2249.26,130.764 1496.73,130.764 1496.73,312.204 \n  \"/>\n<polyline clip-path=\"url(#clip2400)\" style=\"stroke:#009af9; stroke-width:4; stroke-opacity:1; fill:none\" points=\"\n  1520.73,191.244 1664.73,191.244 \n  \"/>\n<g clip-path=\"url(#clip2400)\">\n<text style=\"fill:#000000; fill-opacity:1; font-family:Arial,Helvetica Neue,Helvetica,sans-serif; font-size:48px; text-anchor:start;\" transform=\"rotate(0, 1688.73, 208.744)\" x=\"1688.73\" y=\"208.744\">y1</text>\n</g>\n<polyline clip-path=\"url(#clip2400)\" style=\"stroke:#e26f46; stroke-width:4; stroke-opacity:1; fill:none\" points=\"\n  1520.73,251.724 1664.73,251.724 \n  \"/>\n<circle clip-path=\"url(#clip2400)\" style=\"fill:#000000; stroke:none; fill-opacity:1\" cx=\"1604.73\" cy=\"251.724\" r=\"25\"/>\n<circle clip-path=\"url(#clip2400)\" style=\"fill:#e26f46; stroke:none; fill-opacity:1\" cx=\"1604.73\" cy=\"251.724\" r=\"21\"/>\n<g clip-path=\"url(#clip2400)\">\n<text style=\"fill:#000000; fill-opacity:1; font-family:Arial,Helvetica Neue,Helvetica,sans-serif; font-size:48px; text-anchor:start;\" transform=\"rotate(0, 1688.73, 269.224)\" x=\"1688.73\" y=\"269.224\">x_{n+1} = 0.0, x_n = 0.0</text>\n</g>\n</svg>\n"
               },
               "type": "node"
              }
             ],
             "instanceArgs": {
              "namespace": "html",
              "tag": "div"
             },
             "nodeType": "DOM",
             "props": {
              "className": "interact-flex-row interact-widget"
             },
             "type": "node"
            }
           }
          },
          "systemjs_options": null
         },
         "nodeType": "Scope",
         "props": {},
         "type": "node"
        }
       ],
       "instanceArgs": {
        "namespace": "html",
        "tag": "div"
       },
       "nodeType": "DOM",
       "props": {},
       "type": "node"
      },
      "text/html": [
       "<div\n",
       "    class=\"webio-mountpoint\"\n",
       "    data-webio-mountpoint=\"7698280936062404067\"\n",
       ">\n",
       "    <script>\n",
       "    if (window.require && require.defined && require.defined(\"nbextensions/webio/main\")) {\n",
       "        console.log(\"Jupyter WebIO extension detected, not mounting.\");\n",
       "    } else if (window.WebIO) {\n",
       "        WebIO.mount(\n",
       "            document.querySelector('[data-webio-mountpoint=\"7698280936062404067\"]'),\n",
       "            {\"props\":{},\"nodeType\":\"DOM\",\"type\":\"node\",\"instanceArgs\":{\"namespace\":\"html\",\"tag\":\"div\"},\"children\":[{\"props\":{\"className\":\"field interact-widget\"},\"nodeType\":\"DOM\",\"type\":\"node\",\"instanceArgs\":{\"namespace\":\"html\",\"tag\":\"div\"},\"children\":[{\"props\":{},\"nodeType\":\"Scope\",\"type\":\"node\",\"instanceArgs\":{\"imports\":{\"data\":[{\"name\":\"knockout\",\"type\":\"js\",\"url\":\"\\/assetserver\\/35f4d43e2555ad8a88ae9591d04e823cacc03091-knockout.js\"},{\"name\":\"knockout_punches\",\"type\":\"js\",\"url\":\"\\/assetserver\\/212cb19a1a73d7bf5eaf1488add347ceb95dcc99-knockout_punches.js\"},{\"name\":null,\"type\":\"js\",\"url\":\"\\/assetserver\\/e1bb4630ca71ac3ffa8d6829f92a4606757b4d51-all.js\"},{\"name\":null,\"type\":\"css\",\"url\":\"\\/assetserver\\/104f757bcab7611333aa355119747185c1f822ef-style.css\"},{\"name\":null,\"type\":\"css\",\"url\":\"\\/assetserver\\/e89867c5e417d47e9fb5dede3dbfe9f8bed959b8-bulma_confined.min.css\"}],\"type\":\"async_block\"},\"id\":\"7113765785578814227\",\"handlers\":{\"changes\":[\"(function (val){return (val!=this.model[\\\"changes\\\"]()) ? (this.valueFromJulia[\\\"changes\\\"]=true, this.model[\\\"changes\\\"](val)) : undefined})\"],\"index\":[\"(function (val){return (val!=this.model[\\\"index\\\"]()) ? (this.valueFromJulia[\\\"index\\\"]=true, this.model[\\\"index\\\"](val)) : undefined})\"]},\"systemjs_options\":null,\"mount_callbacks\":[\"function () {\\n    var handler = (function (ko, koPunches) {\\n    ko.punches.enableAll();\\n    ko.bindingHandlers.numericValue = {\\n        init: function(element, valueAccessor, allBindings, data, context) {\\n            var stringified = ko.observable(ko.unwrap(valueAccessor()));\\n            stringified.subscribe(function(value) {\\n                var val = parseFloat(value);\\n                if (!isNaN(val)) {\\n                    valueAccessor()(val);\\n                }\\n            });\\n            valueAccessor().subscribe(function(value) {\\n                var str = JSON.stringify(value);\\n                if ((str == \\\"0\\\") && ([\\\"-0\\\", \\\"-0.\\\"].indexOf(stringified()) >= 0))\\n                     return;\\n                 if ([\\\"null\\\", \\\"\\\"].indexOf(str) >= 0)\\n                     return;\\n                stringified(str);\\n            });\\n            ko.applyBindingsToNode(\\n                element,\\n                {\\n                    value: stringified,\\n                    valueUpdate: allBindings.get('valueUpdate'),\\n                },\\n                context,\\n            );\\n        }\\n    };\\n    var json_data = {\\\"formatted_vals\\\":[\\\"1\\\",\\\"2\\\",\\\"3\\\",\\\"4\\\",\\\"5\\\",\\\"6\\\",\\\"7\\\",\\\"8\\\",\\\"9\\\",\\\"10\\\",\\\"11\\\",\\\"12\\\",\\\"13\\\",\\\"14\\\",\\\"15\\\",\\\"16\\\",\\\"17\\\",\\\"18\\\",\\\"19\\\",\\\"20\\\"],\\\"changes\\\":WebIO.getval({\\\"name\\\":\\\"changes\\\",\\\"scope\\\":\\\"7113765785578814227\\\",\\\"id\\\":\\\"ob_127\\\",\\\"type\\\":\\\"observable\\\"}),\\\"index\\\":WebIO.getval({\\\"name\\\":\\\"index\\\",\\\"scope\\\":\\\"7113765785578814227\\\",\\\"id\\\":\\\"ob_126\\\",\\\"type\\\":\\\"observable\\\"})};\\n    var self = this;\\n    function AppViewModel() {\\n        for (var key in json_data) {\\n            var el = json_data[key];\\n            this[key] = Array.isArray(el) ? ko.observableArray(el) : ko.observable(el);\\n        }\\n        \\n        [this[\\\"formatted_val\\\"]=ko.computed(    function(){\\n        return this.formatted_vals()[parseInt(this.index())-(1)];\\n    }\\n,this)]\\n        [this[\\\"changes\\\"].subscribe((function (val){!(this.valueFromJulia[\\\"changes\\\"]) ? (WebIO.setval({\\\"name\\\":\\\"changes\\\",\\\"scope\\\":\\\"7113765785578814227\\\",\\\"id\\\":\\\"ob_127\\\",\\\"type\\\":\\\"observable\\\"},val)) : undefined; return this.valueFromJulia[\\\"changes\\\"]=false}),self),this[\\\"index\\\"].subscribe((function (val){!(this.valueFromJulia[\\\"index\\\"]) ? (WebIO.setval({\\\"name\\\":\\\"index\\\",\\\"scope\\\":\\\"7113765785578814227\\\",\\\"id\\\":\\\"ob_126\\\",\\\"type\\\":\\\"observable\\\"},val)) : undefined; return this.valueFromJulia[\\\"index\\\"]=false}),self)]\\n        \\n    }\\n    self.model = new AppViewModel();\\n    self.valueFromJulia = {};\\n    for (var key in json_data) {\\n        self.valueFromJulia[key] = false;\\n    }\\n    ko.applyBindings(self.model, self.dom);\\n}\\n);\\n    (WebIO.importBlock({\\\"data\\\":[{\\\"name\\\":\\\"knockout\\\",\\\"type\\\":\\\"js\\\",\\\"url\\\":\\\"\\/assetserver\\/35f4d43e2555ad8a88ae9591d04e823cacc03091-knockout.js\\\"},{\\\"name\\\":\\\"knockout_punches\\\",\\\"type\\\":\\\"js\\\",\\\"url\\\":\\\"\\/assetserver\\/212cb19a1a73d7bf5eaf1488add347ceb95dcc99-knockout_punches.js\\\"}],\\\"type\\\":\\\"async_block\\\"})).then((imports) => handler.apply(this, imports));\\n}\\n\"],\"observables\":{\"changes\":{\"sync\":false,\"id\":\"ob_127\",\"value\":0},\"index\":{\"sync\":true,\"id\":\"ob_126\",\"value\":10}}},\"children\":[{\"props\":{\"className\":\"interact-flex-row interact-widget\"},\"nodeType\":\"DOM\",\"type\":\"node\",\"instanceArgs\":{\"namespace\":\"html\",\"tag\":\"div\"},\"children\":[{\"props\":{\"className\":\"interact-flex-row-left\"},\"nodeType\":\"DOM\",\"type\":\"node\",\"instanceArgs\":{\"namespace\":\"html\",\"tag\":\"div\"},\"children\":[{\"props\":{\"className\":\"interact \",\"style\":{\"padding\":\"5px 10px 0px 10px\"}},\"nodeType\":\"DOM\",\"type\":\"node\",\"instanceArgs\":{\"namespace\":\"html\",\"tag\":\"label\"},\"children\":[\"n\"]}]},{\"props\":{\"className\":\"interact-flex-row-center\"},\"nodeType\":\"DOM\",\"type\":\"node\",\"instanceArgs\":{\"namespace\":\"html\",\"tag\":\"div\"},\"children\":[{\"props\":{\"max\":20,\"min\":1,\"attributes\":{\"type\":\"range\",\"data-bind\":\"numericValue: index, valueUpdate: 'input', event: {change: function (){this.changes(this.changes()+1)}}\",\"orient\":\"horizontal\"},\"step\":1,\"className\":\"slider slider is-fullwidth\",\"style\":{}},\"nodeType\":\"DOM\",\"type\":\"node\",\"instanceArgs\":{\"namespace\":\"html\",\"tag\":\"input\"},\"children\":[]}]},{\"props\":{\"className\":\"interact-flex-row-right\"},\"nodeType\":\"DOM\",\"type\":\"node\",\"instanceArgs\":{\"namespace\":\"html\",\"tag\":\"div\"},\"children\":[{\"props\":{\"attributes\":{\"data-bind\":\"text: formatted_val\"}},\"nodeType\":\"DOM\",\"type\":\"node\",\"instanceArgs\":{\"namespace\":\"html\",\"tag\":\"p\"},\"children\":[]}]}]}]}]},{\"props\":{},\"nodeType\":\"Scope\",\"type\":\"node\",\"instanceArgs\":{\"imports\":{\"data\":[],\"type\":\"async_block\"},\"id\":\"13992319332551703981\",\"handlers\":{},\"systemjs_options\":null,\"mount_callbacks\":[],\"observables\":{\"obs-node\":{\"sync\":false,\"id\":\"ob_131\",\"value\":{\"props\":{\"className\":\"interact-flex-row interact-widget\"},\"nodeType\":\"DOM\",\"type\":\"node\",\"instanceArgs\":{\"namespace\":\"html\",\"tag\":\"div\"},\"children\":[{\"props\":{\"setInnerHtml\":\"<?xml version=\\\"1.0\\\" encoding=\\\"utf-8\\\"?>\\n<svg xmlns=\\\"http:\\/\\/www.w3.org\\/2000\\/svg\\\" xmlns:xlink=\\\"http:\\/\\/www.w3.org\\/1999\\/xlink\\\" width=\\\"600\\\" height=\\\"400\\\" viewBox=\\\"0 0 2400 1600\\\">\\n<defs>\\n  <clipPath id=\\\"clip2000\\\">\\n    <rect x=\\\"0\\\" y=\\\"0\\\" width=\\\"2400\\\" height=\\\"1600\\\"\\/>\\n  <\\/clipPath>\\n<\\/defs>\\n<polygon clip-path=\\\"url(#clip2000)\\\" points=\\\"\\n0,1600 2400,1600 2400,0 0,0 \\n  \\\" fill=\\\"#ffffff\\\" fill-rule=\\\"evenodd\\\" fill-opacity=\\\"1\\\"\\/>\\n<defs>\\n  <clipPath id=\\\"clip2001\\\">\\n    <rect x=\\\"480\\\" y=\\\"0\\\" width=\\\"1681\\\" height=\\\"1600\\\"\\/>\\n  <\\/clipPath>\\n<\\/defs>\\n<polygon clip-path=\\\"url(#clip2000)\\\" points=\\\"\\n189.504,1503.47 2321.26,1503.47 2321.26,47.2441 189.504,47.2441 \\n  \\\" fill=\\\"#ffffff\\\" fill-rule=\\\"evenodd\\\" fill-opacity=\\\"1\\\"\\/>\\n<defs>\\n  <clipPath id=\\\"clip2002\\\">\\n    <rect x=\\\"189\\\" y=\\\"47\\\" width=\\\"2133\\\" height=\\\"1457\\\"\\/>\\n  <\\/clipPath>\\n<\\/defs>\\n<polyline clip-path=\\\"url(#clip2002)\\\" style=\\\"stroke:#000000; stroke-width:2; stroke-opacity:0.1; fill:none\\\" points=\\\"\\n  450.946,1503.47 450.946,47.2441 \\n  \\\"\\/>\\n<polyline clip-path=\\\"url(#clip2002)\\\" style=\\\"stroke:#000000; stroke-width:2; stroke-opacity:0.1; fill:none\\\" points=\\\"\\n  853.164,1503.47 853.164,47.2441 \\n  \\\"\\/>\\n<polyline clip-path=\\\"url(#clip2002)\\\" style=\\\"stroke:#000000; stroke-width:2; stroke-opacity:0.1; fill:none\\\" points=\\\"\\n  1255.38,1503.47 1255.38,47.2441 \\n  \\\"\\/>\\n<polyline clip-path=\\\"url(#clip2002)\\\" style=\\\"stroke:#000000; stroke-width:2; stroke-opacity:0.1; fill:none\\\" points=\\\"\\n  1657.6,1503.47 1657.6,47.2441 \\n  \\\"\\/>\\n<polyline clip-path=\\\"url(#clip2002)\\\" style=\\\"stroke:#000000; stroke-width:2; stroke-opacity:0.1; fill:none\\\" points=\\\"\\n  2059.82,1503.47 2059.82,47.2441 \\n  \\\"\\/>\\n<polyline clip-path=\\\"url(#clip2002)\\\" style=\\\"stroke:#000000; stroke-width:2; stroke-opacity:0.1; fill:none\\\" points=\\\"\\n  189.504,1503.47 2321.26,1503.47 \\n  \\\"\\/>\\n<polyline clip-path=\\\"url(#clip2002)\\\" style=\\\"stroke:#000000; stroke-width:2; stroke-opacity:0.1; fill:none\\\" points=\\\"\\n  189.504,1139.42 2321.26,1139.42 \\n  \\\"\\/>\\n<polyline clip-path=\\\"url(#clip2002)\\\" style=\\\"stroke:#000000; stroke-width:2; stroke-opacity:0.1; fill:none\\\" points=\\\"\\n  189.504,775.359 2321.26,775.359 \\n  \\\"\\/>\\n<polyline clip-path=\\\"url(#clip2002)\\\" style=\\\"stroke:#000000; stroke-width:2; stroke-opacity:0.1; fill:none\\\" points=\\\"\\n  189.504,411.302 2321.26,411.302 \\n  \\\"\\/>\\n<polyline clip-path=\\\"url(#clip2002)\\\" style=\\\"stroke:#000000; stroke-width:2; stroke-opacity:0.1; fill:none\\\" points=\\\"\\n  189.504,47.2441 2321.26,47.2441 \\n  \\\"\\/>\\n<polyline clip-path=\\\"url(#clip2000)\\\" style=\\\"stroke:#000000; stroke-width:4; stroke-opacity:1; fill:none\\\" points=\\\"\\n  189.504,1503.47 2321.26,1503.47 \\n  \\\"\\/>\\n<polyline clip-path=\\\"url(#clip2000)\\\" style=\\\"stroke:#000000; stroke-width:4; stroke-opacity:1; fill:none\\\" points=\\\"\\n  189.504,1503.47 189.504,47.2441 \\n  \\\"\\/>\\n<polyline clip-path=\\\"url(#clip2000)\\\" style=\\\"stroke:#000000; stroke-width:4; stroke-opacity:1; fill:none\\\" points=\\\"\\n  450.946,1503.47 450.946,1481.63 \\n  \\\"\\/>\\n<polyline clip-path=\\\"url(#clip2000)\\\" style=\\\"stroke:#000000; stroke-width:4; stroke-opacity:1; fill:none\\\" points=\\\"\\n  853.164,1503.47 853.164,1481.63 \\n  \\\"\\/>\\n<polyline clip-path=\\\"url(#clip2000)\\\" style=\\\"stroke:#000000; stroke-width:4; stroke-opacity:1; fill:none\\\" points=\\\"\\n  1255.38,1503.47 1255.38,1481.63 \\n  \\\"\\/>\\n<polyline clip-path=\\\"url(#clip2000)\\\" style=\\\"stroke:#000000; stroke-width:4; stroke-opacity:1; fill:none\\\" points=\\\"\\n  1657.6,1503.47 1657.6,1481.63 \\n  \\\"\\/>\\n<polyline clip-path=\\\"url(#clip2000)\\\" style=\\\"stroke:#000000; stroke-width:4; stroke-opacity:1; fill:none\\\" points=\\\"\\n  2059.82,1503.47 2059.82,1481.63 \\n  \\\"\\/>\\n<polyline clip-path=\\\"url(#clip2000)\\\" style=\\\"stroke:#000000; stroke-width:4; stroke-opacity:1; fill:none\\\" points=\\\"\\n  189.504,1503.47 221.48,1503.47 \\n  \\\"\\/>\\n<polyline clip-path=\\\"url(#clip2000)\\\" style=\\\"stroke:#000000; stroke-width:4; stroke-opacity:1; fill:none\\\" points=\\\"\\n  189.504,1139.42 221.48,1139.42 \\n  \\\"\\/>\\n<polyline clip-path=\\\"url(#clip2000)\\\" style=\\\"stroke:#000000; stroke-width:4; stroke-opacity:1; fill:none\\\" points=\\\"\\n  189.504,775.359 221.48,775.359 \\n  \\\"\\/>\\n<polyline clip-path=\\\"url(#clip2000)\\\" style=\\\"stroke:#000000; stroke-width:4; stroke-opacity:1; fill:none\\\" points=\\\"\\n  189.504,411.302 221.48,411.302 \\n  \\\"\\/>\\n<polyline clip-path=\\\"url(#clip2000)\\\" style=\\\"stroke:#000000; stroke-width:4; stroke-opacity:1; fill:none\\\" points=\\\"\\n  189.504,47.2441 221.48,47.2441 \\n  \\\"\\/>\\n<g clip-path=\\\"url(#clip2000)\\\">\\n<text style=\\\"fill:#000000; fill-opacity:1; font-family:Arial,Helvetica Neue,Helvetica,sans-serif; font-size:48px; text-anchor:middle;\\\" transform=\\\"rotate(0, 450.946, 1557.47)\\\" x=\\\"450.946\\\" y=\\\"1557.47\\\">-4<\\/text>\\n<\\/g>\\n<g clip-path=\\\"url(#clip2000)\\\">\\n<text style=\\\"fill:#000000; fill-opacity:1; font-family:Arial,Helvetica Neue,Helvetica,sans-serif; font-size:48px; text-anchor:middle;\\\" transform=\\\"rotate(0, 853.164, 1557.47)\\\" x=\\\"853.164\\\" y=\\\"1557.47\\\">-2<\\/text>\\n<\\/g>\\n<g clip-path=\\\"url(#clip2000)\\\">\\n<text style=\\\"fill:#000000; fill-opacity:1; font-family:Arial,Helvetica Neue,Helvetica,sans-serif; font-size:48px; text-anchor:middle;\\\" transform=\\\"rotate(0, 1255.38, 1557.47)\\\" x=\\\"1255.38\\\" y=\\\"1557.47\\\">0<\\/text>\\n<\\/g>\\n<g clip-path=\\\"url(#clip2000)\\\">\\n<text style=\\\"fill:#000000; fill-opacity:1; font-family:Arial,Helvetica Neue,Helvetica,sans-serif; font-size:48px; text-anchor:middle;\\\" transform=\\\"rotate(0, 1657.6, 1557.47)\\\" x=\\\"1657.6\\\" y=\\\"1557.47\\\">2<\\/text>\\n<\\/g>\\n<g clip-path=\\\"url(#clip2000)\\\">\\n<text style=\\\"fill:#000000; fill-opacity:1; font-family:Arial,Helvetica Neue,Helvetica,sans-serif; font-size:48px; text-anchor:middle;\\\" transform=\\\"rotate(0, 2059.82, 1557.47)\\\" x=\\\"2059.82\\\" y=\\\"1557.47\\\">4<\\/text>\\n<\\/g>\\n<g clip-path=\\\"url(#clip2000)\\\">\\n<text style=\\\"fill:#000000; fill-opacity:1; font-family:Arial,Helvetica Neue,Helvetica,sans-serif; font-size:48px; text-anchor:end;\\\" transform=\\\"rotate(0, 165.504, 1520.97)\\\" x=\\\"165.504\\\" y=\\\"1520.97\\\">-1.0<\\/text>\\n<\\/g>\\n<g clip-path=\\\"url(#clip2000)\\\">\\n<text style=\\\"fill:#000000; fill-opacity:1; font-family:Arial,Helvetica Neue,Helvetica,sans-serif; font-size:48px; text-anchor:end;\\\" transform=\\\"rotate(0, 165.504, 1156.92)\\\" x=\\\"165.504\\\" y=\\\"1156.92\\\">-0.5<\\/text>\\n<\\/g>\\n<g clip-path=\\\"url(#clip2000)\\\">\\n<text style=\\\"fill:#000000; fill-opacity:1; font-family:Arial,Helvetica Neue,Helvetica,sans-serif; font-size:48px; text-anchor:end;\\\" transform=\\\"rotate(0, 165.504, 792.859)\\\" x=\\\"165.504\\\" y=\\\"792.859\\\">0.0<\\/text>\\n<\\/g>\\n<g clip-path=\\\"url(#clip2000)\\\">\\n<text style=\\\"fill:#000000; fill-opacity:1; font-family:Arial,Helvetica Neue,Helvetica,sans-serif; font-size:48px; text-anchor:end;\\\" transform=\\\"rotate(0, 165.504, 428.802)\\\" x=\\\"165.504\\\" y=\\\"428.802\\\">0.5<\\/text>\\n<\\/g>\\n<g clip-path=\\\"url(#clip2000)\\\">\\n<text style=\\\"fill:#000000; fill-opacity:1; font-family:Arial,Helvetica Neue,Helvetica,sans-serif; font-size:48px; text-anchor:end;\\\" transform=\\\"rotate(0, 165.504, 64.7441)\\\" x=\\\"165.504\\\" y=\\\"64.7441\\\">1.0<\\/text>\\n<\\/g>\\n<polyline clip-path=\\\"url(#clip2002)\\\" style=\\\"stroke:#009af9; stroke-width:4; stroke-opacity:1; fill:none\\\" points=\\\"\\n  249.837,77.152 269.948,60.0206 290.059,50.0367 310.17,47.3 330.28,51.8378 350.391,63.6048 370.502,82.4834 390.613,108.285 410.724,140.752 430.835,179.559 \\n  450.946,224.32 471.057,274.586 491.168,329.856 511.279,389.578 531.389,453.153 551.5,519.949 571.611,589.296 591.722,660.502 611.833,732.856 631.944,805.635 \\n  652.055,878.111 672.166,949.561 692.277,1019.27 712.388,1086.54 732.499,1150.7 752.609,1211.12 772.72,1267.17 792.831,1318.32 812.942,1364.04 833.053,1403.88 \\n  853.164,1437.43 873.275,1464.37 893.386,1484.43 913.497,1497.41 933.608,1503.16 953.718,1501.65 973.829,1492.88 993.94,1476.94 1014.05,1453.99 1034.16,1424.26 \\n  1054.27,1388.05 1074.38,1345.71 1094.49,1297.68 1114.61,1244.42 1134.72,1186.48 1154.83,1124.44 1174.94,1058.9 1195.05,990.532 1215.16,920.014 1235.27,848.05 \\n  1255.38,775.359 1275.49,702.669 1295.6,630.705 1315.71,560.187 1335.83,491.818 1355.94,426.282 1376.05,364.235 1396.16,306.295 1416.27,253.041 1436.38,205.007 \\n  1456.49,162.671 1476.6,126.458 1496.71,96.7275 1516.82,73.7779 1536.93,57.8384 1557.05,49.068 1577.16,47.5546 1597.27,53.3131 1617.38,66.286 1637.49,86.3438 \\n  1657.6,113.286 1677.71,146.843 1697.82,186.681 1717.93,232.4 1738.04,283.544 1758.15,339.603 1778.27,400.015 1798.38,464.178 1818.49,531.449 1838.6,601.158 \\n  1858.71,672.608 1878.82,745.084 1898.93,817.863 1919.04,890.216 1939.15,961.423 1959.26,1030.77 1979.37,1097.57 1999.49,1161.14 2019.6,1220.86 2039.71,1276.13 \\n  2059.82,1326.4 2079.93,1371.16 2100.04,1409.97 2120.15,1442.43 2140.26,1468.24 2160.37,1487.11 2180.48,1498.88 2200.59,1503.42 2220.71,1500.68 2240.82,1490.7 \\n  2260.93,1473.57 \\n  \\\"\\/>\\n<polyline clip-path=\\\"url(#clip2002)\\\" style=\\\"stroke:#e26f46; stroke-width:4; stroke-opacity:1; fill:none\\\" points=\\\"\\n  1255.38,775.359 1255.38,775.359 \\n  \\\"\\/>\\n<circle clip-path=\\\"url(#clip2002)\\\" style=\\\"fill:#000000; stroke:none; fill-opacity:1\\\" cx=\\\"1255.38\\\" cy=\\\"775.359\\\" r=\\\"18\\\"\\/>\\n<circle clip-path=\\\"url(#clip2002)\\\" style=\\\"fill:#e26f46; stroke:none; fill-opacity:1\\\" cx=\\\"1255.38\\\" cy=\\\"775.359\\\" r=\\\"14\\\"\\/>\\n<circle clip-path=\\\"url(#clip2002)\\\" style=\\\"fill:#000000; stroke:none; fill-opacity:1\\\" cx=\\\"1255.38\\\" cy=\\\"775.359\\\" r=\\\"18\\\"\\/>\\n<circle clip-path=\\\"url(#clip2002)\\\" style=\\\"fill:#e26f46; stroke:none; fill-opacity:1\\\" cx=\\\"1255.38\\\" cy=\\\"775.359\\\" r=\\\"14\\\"\\/>\\n<circle clip-path=\\\"url(#clip2002)\\\" style=\\\"fill:#000000; stroke:none; fill-opacity:1\\\" cx=\\\"1255.38\\\" cy=\\\"775.359\\\" r=\\\"18\\\"\\/>\\n<circle clip-path=\\\"url(#clip2002)\\\" style=\\\"fill:#e26f46; stroke:none; fill-opacity:1\\\" cx=\\\"1255.38\\\" cy=\\\"775.359\\\" r=\\\"14\\\"\\/>\\n<circle clip-path=\\\"url(#clip2002)\\\" style=\\\"fill:#000000; stroke:none; fill-opacity:1\\\" cx=\\\"1255.38\\\" cy=\\\"775.359\\\" r=\\\"18\\\"\\/>\\n<circle clip-path=\\\"url(#clip2002)\\\" style=\\\"fill:#e26f46; stroke:none; fill-opacity:1\\\" cx=\\\"1255.38\\\" cy=\\\"775.359\\\" r=\\\"14\\\"\\/>\\n<polygon clip-path=\\\"url(#clip2000)\\\" points=\\\"\\n1496.73,312.204 2249.26,312.204 2249.26,130.764 1496.73,130.764 \\n  \\\" fill=\\\"#ffffff\\\" fill-rule=\\\"evenodd\\\" fill-opacity=\\\"1\\\"\\/>\\n<polyline clip-path=\\\"url(#clip2000)\\\" style=\\\"stroke:#000000; stroke-width:4; stroke-opacity:1; fill:none\\\" points=\\\"\\n  1496.73,312.204 2249.26,312.204 2249.26,130.764 1496.73,130.764 1496.73,312.204 \\n  \\\"\\/>\\n<polyline clip-path=\\\"url(#clip2000)\\\" style=\\\"stroke:#009af9; stroke-width:4; stroke-opacity:1; fill:none\\\" points=\\\"\\n  1520.73,191.244 1664.73,191.244 \\n  \\\"\\/>\\n<g clip-path=\\\"url(#clip2000)\\\">\\n<text style=\\\"fill:#000000; fill-opacity:1; font-family:Arial,Helvetica Neue,Helvetica,sans-serif; font-size:48px; text-anchor:start;\\\" transform=\\\"rotate(0, 1688.73, 208.744)\\\" x=\\\"1688.73\\\" y=\\\"208.744\\\">y1<\\/text>\\n<\\/g>\\n<polyline clip-path=\\\"url(#clip2000)\\\" style=\\\"stroke:#e26f46; stroke-width:4; stroke-opacity:1; fill:none\\\" points=\\\"\\n  1520.73,251.724 1664.73,251.724 \\n  \\\"\\/>\\n<circle clip-path=\\\"url(#clip2000)\\\" style=\\\"fill:#000000; stroke:none; fill-opacity:1\\\" cx=\\\"1604.73\\\" cy=\\\"251.724\\\" r=\\\"25\\\"\\/>\\n<circle clip-path=\\\"url(#clip2000)\\\" style=\\\"fill:#e26f46; stroke:none; fill-opacity:1\\\" cx=\\\"1604.73\\\" cy=\\\"251.724\\\" r=\\\"21\\\"\\/>\\n<g clip-path=\\\"url(#clip2000)\\\">\\n<text style=\\\"fill:#000000; fill-opacity:1; font-family:Arial,Helvetica Neue,Helvetica,sans-serif; font-size:48px; text-anchor:start;\\\" transform=\\\"rotate(0, 1688.73, 269.224)\\\" x=\\\"1688.73\\\" y=\\\"269.224\\\">x_{n+1} = 0.0, x_n = 0.0<\\/text>\\n<\\/g>\\n<\\/svg>\\n\"},\"nodeType\":\"DOM\",\"type\":\"node\",\"instanceArgs\":{\"namespace\":\"html\",\"tag\":\"div\"},\"children\":[]}]}}}},\"children\":[{\"props\":{},\"nodeType\":\"ObservableNode\",\"type\":\"node\",\"instanceArgs\":{\"id\":\"ob_131\",\"name\":\"obs-node\"},\"children\":[]}]}]},\n",
       "            window,\n",
       "        );\n",
       "    } else {\n",
       "        document\n",
       "            .querySelector('[data-webio-mountpoint=\"7698280936062404067\"]')\n",
       "            .innerHTML = '<strong>WebIO not detected.</strong>';\n",
       "    }\n",
       "    </script>\n",
       "</div>\n"
      ],
      "text/plain": [
       "Node{WebIO.DOM}(WebIO.DOM(:html, :div), Any[Node{DOM}(DOM(:html, :div), Any[Scope(Node{DOM}(DOM(:html, :div), Any[Node{DOM}(DOM(:html, :div), Any[Node{DOM}(DOM(:html, :label), Any[\"n\"], Dict{Symbol,Any}(:className=>\"interact \",:style=>Dict{Any,Any}(:padding=>\"5px 10px 0px 10px\")))], Dict{Symbol,Any}(:className=>\"interact-flex-row-left\")), Node{DOM}(DOM(:html, :div), Any[Node{DOM}(DOM(:html, :input), Any[], Dict{Symbol,Any}(:max=>20,:min=>1,:attributes=>Dict{Any,Any}(:type=>\"range\",Symbol(\"data-bind\")=>\"numericValue: index, valueUpdate: 'input', event: {change: function (){this.changes(this.changes()+1)}}\",\"orient\"=>\"horizontal\"),:step=>1,:className=>\"slider slider is-fullwidth\",:style=>Dict{Any,Any}()))], Dict{Symbol,Any}(:className=>\"interact-flex-row-center\")), Node{DOM}(DOM(:html, :div), Any[Node{DOM}(DOM(:html, :p), Any[], Dict{Symbol,Any}(:attributes=>Dict(\"data-bind\"=>\"text: formatted_val\")))], Dict{Symbol,Any}(:className=>\"interact-flex-row-right\"))], Dict{Symbol,Any}(:className=>\"interact-flex-row interact-widget\")), Dict{String,Tuple{Observables.AbstractObservable,Union{Nothing, Bool}}}(\"changes\"=>(Observable{Int64} with 1 listeners. Value:\n",
       "0, nothing),\"index\"=>(Observable{Int64} with 2 listeners. Value:\n",
       "10, nothing)), Set(String[]), nothing, Asset[Asset(\"js\", \"knockout\", \"/home/mvb/.julia/packages/Knockout/1sDlc/src/../assets/knockout.js\"), Asset(\"js\", \"knockout_punches\", \"/home/mvb/.julia/packages/Knockout/1sDlc/src/../assets/knockout_punches.js\"), Asset(\"js\", nothing, \"/home/mvb/.julia/packages/InteractBase/l8cEC/src/../assets/all.js\"), Asset(\"css\", nothing, \"/home/mvb/.julia/packages/InteractBase/l8cEC/src/../assets/style.css\"), Asset(\"css\", nothing, \"/home/mvb/.julia/packages/Interact/Fs3lV/src/../assets/bulma_confined.min.css\")], Dict{Any,Any}(\"changes\"=>Any[JSString(\"(function (val){return (val!=this.model[\\\"changes\\\"]()) ? (this.valueFromJulia[\\\"changes\\\"]=true, this.model[\\\"changes\\\"](val)) : undefined})\")],\"index\"=>Any[JSString(\"(function (val){return (val!=this.model[\\\"index\\\"]()) ? (this.valueFromJulia[\\\"index\\\"]=true, this.model[\\\"index\\\"](val)) : undefined})\")]), ConnectionPool(Channel{Any}(sz_max:9223372036854775807,sz_curr:0), Set(AbstractConnection[]), Channel{AbstractConnection}(sz_max:32,sz_curr:0)), WebIO.JSString[JSString(\"function () {\\n    var handler = (function (ko, koPunches) {\\n    ko.punches.enableAll();\\n    ko.bindingHandlers.numericValue = {\\n        init: function(element, valueAccessor, allBindings, data, context) {\\n            var stringified = ko.observable(ko.unwrap(valueAccessor()));\\n            stringified.subscribe(function(value) {\\n                var val = parseFloat(value);\\n                if (!isNaN(val)) {\\n                    valueAccessor()(val);\\n                }\\n            });\\n            valueAccessor().subscribe(function(value) {\\n                var str = JSON.stringify(value);\\n                if ((str == \\\"0\\\") && ([\\\"-0\\\", \\\"-0.\\\"].indexOf(stringified()) >= 0))\\n                     return;\\n                 if ([\\\"null\\\", \\\"\\\"].indexOf(str) >= 0)\\n                     return;\\n                stringified(str);\\n            });\\n            ko.applyBindingsToNode(\\n                element,\\n                {\\n                    value: stringified,\\n                    valueUpdate: allBindings.get('valueUpdate'),\\n                },\\n                context,\\n            );\\n        }\\n    };\\n    var json_data = {\\\"formatted_vals\\\":[\\\"1\\\",\\\"2\\\",\\\"3\\\",\\\"4\\\",\\\"5\\\",\\\"6\\\",\\\"7\\\",\\\"8\\\",\\\"9\\\",\\\"10\\\",\\\"11\\\",\\\"12\\\",\\\"13\\\",\\\"14\\\",\\\"15\\\",\\\"16\\\",\\\"17\\\",\\\"18\\\",\\\"19\\\",\\\"20\\\"],\\\"changes\\\":WebIO.getval({\\\"name\\\":\\\"changes\\\",\\\"scope\\\":\\\"7113765785578814227\\\",\\\"id\\\":\\\"ob_127\\\",\\\"type\\\":\\\"observable\\\"}),\\\"index\\\":WebIO.getval({\\\"name\\\":\\\"index\\\",\\\"scope\\\":\\\"7113765785578814227\\\",\\\"id\\\":\\\"ob_126\\\",\\\"type\\\":\\\"observable\\\"})};\\n    var self = this;\\n    function AppViewModel() {\\n        for (var key in json_data) {\\n            var el = json_data[key];\\n            this[key] = Array.isArray(el) ? ko.observableArray(el) : ko.observable(el);\\n        }\\n        \\n        [this[\\\"formatted_val\\\"]=ko.computed(    function(){\\n        return this.formatted_vals()[parseInt(this.index())-(1)];\\n    }\\n,this)]\\n        [this[\\\"changes\\\"].subscribe((function (val){!(this.valueFromJulia[\\\"changes\\\"]) ? (WebIO.setval({\\\"name\\\":\\\"changes\\\",\\\"scope\\\":\\\"7113765785578814227\\\",\\\"id\\\":\\\"ob_127\\\",\\\"type\\\":\\\"observable\\\"},val)) : undefined; return this.valueFromJulia[\\\"changes\\\"]=false}),self),this[\\\"index\\\"].subscribe((function (val){!(this.valueFromJulia[\\\"index\\\"]) ? (WebIO.setval({\\\"name\\\":\\\"index\\\",\\\"scope\\\":\\\"7113765785578814227\\\",\\\"id\\\":\\\"ob_126\\\",\\\"type\\\":\\\"observable\\\"},val)) : undefined; return this.valueFromJulia[\\\"index\\\"]=false}),self)]\\n        \\n    }\\n    self.model = new AppViewModel();\\n    self.valueFromJulia = {};\\n    for (var key in json_data) {\\n        self.valueFromJulia[key] = false;\\n    }\\n    ko.applyBindings(self.model, self.dom);\\n}\\n);\\n    (WebIO.importBlock({\\\"data\\\":[{\\\"name\\\":\\\"knockout\\\",\\\"type\\\":\\\"js\\\",\\\"url\\\":\\\"/assetserver/35f4d43e2555ad8a88ae9591d04e823cacc03091-knockout.js\\\"},{\\\"name\\\":\\\"knockout_punches\\\",\\\"type\\\":\\\"js\\\",\\\"url\\\":\\\"/assetserver/212cb19a1a73d7bf5eaf1488add347ceb95dcc99-knockout_punches.js\\\"}],\\\"type\\\":\\\"async_block\\\"})).then((imports) => handler.apply(this, imports));\\n}\\n\")])], Dict{Symbol,Any}(:className=>\"field interact-widget\")), Observable{Any} with 0 listeners. Value:\n",
       "Node{DOM}(DOM(:html, :div), Any[Plot{Plots.GRBackend() n=2}], Dict{Symbol,Any}(:className=>\"interact-flex-row interact-widget\"))], Dict{Symbol,Any}())"
      ]
     },
     "execution_count": 41,
     "metadata": {
      "application/vnd.webio.node+json": {
       "kernelId": "0ca5aa2d-926a-4118-bc3b-bea79555555d"
      }
     },
     "output_type": "execute_result"
    }
   ],
   "source": [
    "xs = -5:0.1:5\n",
    "g(x) = sin(x)\n",
    "dg(x) = cos(x)\n",
    "x_inicial = pi/2\n",
    "pasos = 100\n",
    "@manipulate for n in 1:n_pasos\n",
    "    x_1,x_0 = newton(g,dg,x_inicial,n)\n",
    "    plot(xs,[g(x) for x in xs],ylim = (-1,1))\n",
    "    plot!([x_0,x_0,x_1,x_1],[0,g(x_0),0,g(x_1)], m=:circle, lab=\"x_{n+1} = $x_1, x_n = $x_0\")\n",
    "end"
   ]
  },
  {
   "cell_type": "markdown",
   "metadata": {},
   "source": [
    "El entorno `@manipulate` de la librería `Interact` nos **permite visualizar el método de Newton**."
   ]
  },
  {
   "cell_type": "code",
   "execution_count": null,
   "metadata": {},
   "outputs": [],
   "source": []
  }
 ],
 "metadata": {
  "@webio": {
   "lastCommId": "652b4dbfdb0f4491a837c9050ad2b32d",
   "lastKernelId": "9a77da0e-5c92-4dfd-98fe-8856e34698f3"
  },
  "kernelspec": {
   "display_name": "Julia 1.0.2",
   "language": "julia",
   "name": "julia-1.0"
  },
  "language_info": {
   "file_extension": ".jl",
   "mimetype": "application/julia",
   "name": "julia",
   "version": "1.0.2"
  }
 },
 "nbformat": 4,
 "nbformat_minor": 2
}
