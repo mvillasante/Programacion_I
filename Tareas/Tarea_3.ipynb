{
 "cells": [
  {
   "cell_type": "markdown",
   "metadata": {},
   "source": [
    "# Tarea 3\n",
    "\n",
    "## Instrucciones:\n",
    "1. Modifique el nombre del documento para agregar tu nombre y apellido\n",
    "2. Una vez elaborados los ejercicios enviar vía correo electrónico `mario.villasante@ciencias.unam.mx`\n",
    "3. La fecha **límite** de entrega es el día **domingo 23 de junio a las 23:59**.\n",
    "\n",
    "Tómese la libertad de agregar celdas de código y texto como usted crea conveniente. Explique y comente el código. Para mayor información sobre la entrega de tareas favor de consultar [este](https://github.com/mvillasante/Programacion_I/blob/master/Formato_Tareas.md) link."
   ]
  },
  {
   "cell_type": "markdown",
   "metadata": {},
   "source": [
    "### Ejercicio 1\n",
    "\n",
    "La función de Ackermann, A(m,n), está definida como:\n",
    "\n",
    "$$ A(m,n)= \\left\\{ \\begin{array}{rcl}\n",
    "    n+1 & si & m = 0 \\\\\n",
    "    A(m-1,1) & si & m>0\\ y\\ n=0 \\\\\n",
    "    A(m-1,A(m,n-1)) & si & m>0\\ y\\ n>0. \n",
    "    \\end{array}\\right.$$\n",
    "   \n",
    "Vea https://en.wikipedia.org/wiki/Ackermann_function. Escriba una función llamada `ack` que evalue la función de Ackerman. Use su función para evaluar `ack(3, 4)` y obtener 125. ¿Qué pasa para valores grandes de m y n?"
   ]
  },
  {
   "cell_type": "code",
   "execution_count": null,
   "metadata": {},
   "outputs": [],
   "source": []
  },
  {
   "cell_type": "markdown",
   "metadata": {},
   "source": [
    "### Ejercicio 2\n",
    "Dos palabras son anagramas si puedes reordenar las letras de una para escribir la otra. Escribe una función que se llame `es_anagrama` que acepte dos cadenas y regrese `true` si son anagramas y `false` en caso contrario."
   ]
  },
  {
   "cell_type": "code",
   "execution_count": null,
   "metadata": {},
   "outputs": [],
   "source": []
  },
  {
   "cell_type": "markdown",
   "metadata": {},
   "source": [
    "### Ejercicio 3\n",
    "\n",
    "Cualquier función se puede aproximar con una serie de Taylor. La expansión de una función $f(x)$ cerca del punto $x = a$ es\n",
    "$$  f(x) \\approx \\sum_{n=0}^N \\frac{f^{(n)}(a)}{n!}(x-a)^n$$\n",
    "\n",
    "1. Use esta expresión para definir dos funciones `mi_sin(x,N)` y `mi_exp(x,N)` que calcule de manera **recursiva** el valor de $\\sin(x)$ y $e^x$ respectivamente. En este caso el argumento `N` indica las suma de los primeros N términos de la serie de Taylor. *Haga la expansión alrededor de cero, a = 0*.\n",
    "\n",
    "b) Calcule las mismas funciones usando un loop for."
   ]
  },
  {
   "cell_type": "code",
   "execution_count": null,
   "metadata": {},
   "outputs": [],
   "source": []
  },
  {
   "cell_type": "markdown",
   "metadata": {},
   "source": [
    "\n",
    "## Diferencias finitas e integración\n",
    "\n",
    "### Ejercicio 4\n",
    "\n",
    "**Derivada numérica**\n",
    "\n",
    "1. Desarrolle $f(a+h)$ en una serie de Taylor alrededor de $a$ y derive la expresión aproximada para la derivada que ya conocemos. Ahora puede decir algo sobre el tamaño del error.\n",
    "\n",
    "2. Grafique el error de nuestra aproximación numérica a la derivada y compárelo con el resultado anterior. ¿Concuerdan?\n",
    "\n"
   ]
  },
  {
   "cell_type": "code",
   "execution_count": null,
   "metadata": {},
   "outputs": [],
   "source": []
  },
  {
   "cell_type": "markdown",
   "metadata": {},
   "source": [
    "### Ejercicio 5\n",
    "**Integración numérica**\n",
    "\n",
    "1. ¿Cómo saber qué tan buena es nuestra aproximación al valor de la integral? ¿Cuál es la taza de convergencia hacia el resultado exacto, cuando $N \\to \\infty$ para $a=0$ y $b=x$ con $f(x)=e^{-x^2/2}$ para una $x$ fija? Grafique.\n",
    "\n",
    "2. Implemente la [regla de Simpson][1] y demuestre que el error asociado es $\\propto \\mathcal{ O }(h^4)$\n",
    "\n",
    "[1]: https://en.wikipedia.org/wiki/Simpson%27s_rule"
   ]
  },
  {
   "cell_type": "code",
   "execution_count": null,
   "metadata": {},
   "outputs": [],
   "source": []
  },
  {
   "cell_type": "markdown",
   "metadata": {},
   "source": [
    "## Caminantes aleatorios chuecos\n",
    "\n",
    "### Ejercicio 6\n",
    "\n",
    "1. Escriba una función que genera un caminante aleatorio que se mueva hacia un lado con probabilidad `p` y al lado opuesto con probabilidad `p-1`.\n",
    "2. Grafique una nube de caminantes aletorios."
   ]
  },
  {
   "cell_type": "code",
   "execution_count": null,
   "metadata": {},
   "outputs": [],
   "source": []
  }
 ],
 "metadata": {
  "kernelspec": {
   "display_name": "Julia 1.0.2",
   "language": "julia",
   "name": "julia-1.0"
  },
  "language_info": {
   "file_extension": ".jl",
   "mimetype": "application/julia",
   "name": "julia",
   "version": "1.0.2"
  }
 },
 "nbformat": 4,
 "nbformat_minor": 2
}
