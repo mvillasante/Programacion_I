{
 "cells": [
  {
   "cell_type": "markdown",
   "metadata": {},
   "source": [
    "# Tiro parabólico\n",
    "\n",
    "1. Haz una función que calcula la trayectoria de una partícula en tiro parabólico en 2 dimensiones con una posición $(x_0, y_0)$ y velocidad $(v_x, v_y)$ iniciales dadas. Utiliza las fórmulas analíticas conocidas para ello.\n",
    "\n",
    "$$ y(t) = y_0 + v_y*t-0.5*g*t^2$$\n",
    "\n",
    "$$x(t) = x_0 +v_x*t$$\n",
    "\n",
    "2. Haz otra función con el mismo nombre que acepta sólo tres argumentos: $x_0$, $y_0$ y el ángulo inicial $\\theta$. Puedes suponer una rapidez de $v=20$.\n",
    "\n",
    "$$ x(t) = x_0 +v\\cos(\\theta)*t$$\n",
    "\n",
    "3. Grafica distintas trayectorias con la misma posición pero distintos ángulos iniciales. Arregla tu gráfica para que sólo muestra la parte hasta que la partícula caiga al suelo.\n",
    "\n",
    "4. Comprueba gráficamente para cuál ángulo se tiene el máximo alcance. En una misma imagen grafica al menos unas 7 trayectorias c on distintos ángulos iniciales\n",
    "\n"
   ]
  },
  {
   "cell_type": "code",
   "execution_count": null,
   "metadata": {},
   "outputs": [],
   "source": []
  },
  {
   "cell_type": "markdown",
   "metadata": {},
   "source": [
    "# Calculando $\\pi$\n",
    "\n",
    "También podemos hacer cálculos útiles, por ejemplo podemos calcular el valor de $\\pi$. Hay literalmente miles de maneras de hacer esto. Una de ellas (muy lejos de ser la mejor) es a través de la siguiente fórmula:\n",
    "\n",
    "$$\\sum_{n=1}^\\infty \\frac{1}{n^2} = \\frac{\\pi^2}{6}.$$\n",
    "\n",
    "$$\\pi =\\sqrt{6\\sum_{n=1}^N \\frac{1}{n^2}} $$\n",
    "\n",
    "1. Fija una $N$ y calcula $\\pi$ utilizando una suma hasta $N$. Haz de esto una función que se llama mi_π.\n",
    "\n",
    "2. Ahora repite el cálculo para valores diferentes de $N$ y almacénalos en un arreglo.\n",
    "\n",
    "3. Grafica el resultado para los distintos valores de $N$, como función de $N$. ¿Qué observas? ¿Qué puedes agregar a tu gráfica para mostralo?\n",
    "\n",
    "4. ¿Cómo podrías ver qué tan rápidamente converge la suma cuando $N \\to \\infty$? Házlo.\n",
    "\n"
   ]
  },
  {
   "cell_type": "code",
   "execution_count": null,
   "metadata": {},
   "outputs": [],
   "source": []
  },
  {
   "cell_type": "markdown",
   "metadata": {},
   "source": [
    "## Ejercicio\n",
    "\n",
    "De las notas `29_Abril_LeyendoDatos_HuellaEvo.ipynb`:\n",
    "\n",
    "* ¿Cuál es el papel de México en estos años? Haz dos gráficas en las que se muestre la evolución de la huella ecológica en persona y en número de tierras.\n",
    "* Grafica la evolución temporal de huella ecológica por persona para cada uno de los recursos en México.\n",
    "\n",
    "Aquí podrás descargar los datos de México: en hectáreas globales por [persona](https://github.com/mvillasante/Programacion_I/blob/master/Notas/Mexico_gha_per_person.csv) y número de [tierras](https://github.com/mvillasante/Programacion_I/blob/master/Notas/Mexico_numeros_tierras.csv) \n",
    "\n",
    "* Comparar las gráficas anteriores de México con dos paises que les interesen, uno de la lista de países con reservas de biocapacidad y otro país que se encuentre en la lista de deficit de biocapacidad."
   ]
  },
  {
   "cell_type": "code",
   "execution_count": null,
   "metadata": {},
   "outputs": [],
   "source": []
  },
  {
   "cell_type": "markdown",
   "metadata": {},
   "source": [
    "## Ejercicio\n",
    "\n",
    "En las notas `13_may_MonteCarlo_pi.ipynb` calculamos el valor de $\\pi$ contando los puntos aleatorios dentro de un círculo. Sin embargo todo se guarda en arreglos, haciendo uso excesivo de memoria.\n",
    "\n",
    "1. Modifica la función `dentro_fuera()` para que el uso de memoria sea más eficiente. \n",
    "\n",
    "2. Intenta usar un número más grande del que tenías como límite en el método anterior. ¿Cuál es el error de tu aproximación?"
   ]
  },
  {
   "cell_type": "code",
   "execution_count": null,
   "metadata": {},
   "outputs": [],
   "source": []
  },
  {
   "cell_type": "markdown",
   "metadata": {},
   "source": [
    "## Ejercicio\n",
    "\n",
    "De las notas `15-27_May_MonteCarlo_Cumple_Caminante.ipynb` nos faltó responder una pregunta al final, antes del encabezado **Guardar los datos**:\n",
    "\n",
    "3. ¿Cuántos caminantes coninciden en el mismo punto al mismo tiempo?"
   ]
  },
  {
   "cell_type": "code",
   "execution_count": null,
   "metadata": {},
   "outputs": [],
   "source": []
  },
  {
   "cell_type": "markdown",
   "metadata": {},
   "source": [
    "## Ejercicio\n",
    "De las notas `5-10_Jun_Estadistica_Caminante.ipynb` \n",
    "\n",
    "Cuenten cuántos caminantes tienen una distancia mayor que la varianza al tiempo dado. ¿Es cierto que solamente es el 30% de los caminantes?"
   ]
  },
  {
   "cell_type": "code",
   "execution_count": null,
   "metadata": {},
   "outputs": [],
   "source": []
  },
  {
   "cell_type": "markdown",
   "metadata": {},
   "source": []
  }
 ],
 "metadata": {
  "kernelspec": {
   "display_name": "Julia 1.0.2",
   "language": "julia",
   "name": "julia-1.0"
  },
  "language_info": {
   "file_extension": ".jl",
   "mimetype": "application/julia",
   "name": "julia",
   "version": "1.0.2"
  }
 },
 "nbformat": 4,
 "nbformat_minor": 2
}
